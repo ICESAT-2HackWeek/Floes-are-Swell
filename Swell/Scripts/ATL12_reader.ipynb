{
 "cells": [
  {
   "cell_type": "markdown",
   "metadata": {},
   "source": [
    "* Plotting ATL012 data for selected region.\n",
    "\n",
    "* loop through files in a directory, or a single file\n",
    "* loop through beams or a single beam "
   ]
  },
  {
   "cell_type": "code",
   "execution_count": null,
   "metadata": {},
   "outputs": [],
   "source": [
    "\n",
    "# need to download data to plot\n",
    "#aws s3 sync s3://pangeo-data-upload-oregon/icesat2/atl12 ./data"
   ]
  },
  {
   "cell_type": "code",
   "execution_count": 23,
   "metadata": {},
   "outputs": [],
   "source": [
    "import os\n",
    "import geopandas as gpd\n",
    "import matplotlib.pyplot as plt\n",
    "import h5py\n",
    "import cartopy.crs as ccrs\n",
    "import numpy as np\n",
    "\n",
    "def list_files_local(path):\n",
    "    \"\"\" Get file list form local folder. \"\"\"\n",
    "    from glob import glob\n",
    "    return glob(path)\n",
    "\n",
    "# single file\n",
    "#fname='./data/processed_ATL12_20190213152833_07210201_001_01.h5'\n",
    "files = list_files_local('./data/processed_ATL12_20190213152833_07210201_001_01.h5')\n",
    "\n",
    "\n",
    "# or loop through multiple files\n",
    "#files = list_files_local('./processed_ATL12_2019*_001_01.h5')\n",
    "\n",
    "# Select a region of interest\n",
    "lonmin = -180. \n",
    "lonmax = -100.\n",
    "latmin = 60\n",
    "latmax = 80\n",
    "    \n",
    "# Each beam is a group\n",
    "group = ['/gt1l', '/gt1r', '/gt2l', '/gt2r', '/gt3l', '/gt3r']\n",
    "\n"
   ]
  },
  {
   "cell_type": "code",
   "execution_count": 24,
   "metadata": {},
   "outputs": [
    {
     "name": "stdout",
     "output_type": "stream",
     "text": [
      "179.98195746513642 -179.99789055179556\n",
      "179.97624448450583 -179.95718244565197\n",
      "179.99284832870217 -179.98995144514737\n",
      "179.9749940283617 -179.95359246219402\n",
      "179.99983103257318 -179.99264728290382\n",
      "179.93962175211277 -179.9909413083852\n"
     ]
    },
    {
     "data": {
      "image/png": "[encoded data removed]",
      "text/plain": [
       "<Figure size 432x288 with 1 Axes>"
      ]
     },
     "metadata": {
      "needs_background": "light"
     },
     "output_type": "display_data"
    }
   ],
   "source": [
    "ax = plt.axes(projection=ccrs.NorthPolarStereo())\n",
    "\n",
    "for fname in files:\n",
    "\n",
    "\n",
    "    # Loop trough beams\n",
    "    for k,g in enumerate(group):\n",
    "    \n",
    "#-----------------------------------#\n",
    "# 1) Read in data for a single beam #\n",
    "#-----------------------------------#\n",
    "    \n",
    "        # Load variables into memory (more can be added!)\n",
    "        with h5py.File(fname, 'r') as fi:\n",
    "            lats = fi[g+'/ssh_segments/latitude'][:]\n",
    "            lons = fi[g+'/ssh_segments/longitude'][:]\n",
    "            x = fi[g+'/ssh_segments/heights/h'][:]\n",
    "\n",
    "        print(lons.max(),lons.min())          \n",
    "#        print(lats.max(),lats.min())           \n",
    "#        print(x.max(),x.min())           \n",
    "    \n",
    "        bbox_mask = (lons >= lonmin) & (lons <= lonmax) & (lats >= latmin) & (lats <= latmax)\n",
    "         # Only keep good data, and data inside bbox\n",
    "        mask = (bbox_mask == 1) & (np.abs(x) < 10e3) \n",
    "        lats, lons, x = lats[mask], lons[mask], x[mask]\n",
    "    #    print(x.max(),x.min())\n",
    "\n",
    "        plt.scatter(lons, lats, c=x,  \\\n",
    "            transform=ccrs.Geodetic(),cmap='coolwarm_r')\n",
    "\n",
    "\n",
    "#plt.colorbar(label='height')\n",
    "ax.coastlines()\n",
    "# Limit the map to -60 degrees latitude and below.\n",
    "ax.set_extent([-180, -150, 85, 55], ccrs.PlateCarree())\n",
    "\n"
   ]
  },
  {
   "cell_type": "code",
   "execution_count": null,
   "metadata": {},
   "outputs": [],
   "source": []
  }
 ],
 "metadata": {
  "kernelspec": {
   "display_name": "Python 3",
   "language": "python",
   "name": "python3"
  },
  "language_info": {
   "codemirror_mode": {
    "name": "ipython",
    "version": 3
   },
   "file_extension": ".py",
   "mimetype": "text/x-python",
   "name": "python",
   "nbconvert_exporter": "python",
   "pygments_lexer": "ipython3",
   "version": "3.6.7"
  }
 },
 "nbformat": 4,
 "nbformat_minor": 2
}
