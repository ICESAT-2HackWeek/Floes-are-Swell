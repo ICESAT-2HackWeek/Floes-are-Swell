{
 "cells": [
  {
   "cell_type": "code",
   "execution_count": 236,
   "metadata": {},
   "outputs": [],
   "source": [
    "import warnings\n",
    "warnings.filterwarnings('ignore')\n",
    "#Import necesary modules\n",
    "#Use shorter names (np, pd, plt) instead of full (numpy, pandas, matplotlib.pylot) for convenience\n",
    "import numpy as np\n",
    "import pandas as pd\n",
    "import matplotlib.pyplot as plt\n",
    "import cartopy.crs as ccrs\n",
    "import pandas as pd\n",
    "import numpy.ma as ma\n",
    "import h5py\n",
    "import s3fs\n",
    "import matplotlib.pyplot as plt\n",
    "import netCDF4\n",
    "import xarray as xr\n",
    "import MakeDataSetATL012 as mkds"
   ]
  },
  {
   "cell_type": "code",
   "execution_count": 239,
   "metadata": {},
   "outputs": [],
   "source": [
    "ATL12file='ATL12_20181202085812_09890101_001_01.h5'\n",
    "localFilePath='/home/jovyan/DATA/ATL12/'+ATL12file\n",
    "#!h5ls -r $localFilePath"
   ]
  },
  {
   "cell_type": "code",
   "execution_count": 240,
   "metadata": {},
   "outputs": [
    {
     "name": "stdout",
     "output_type": "stream",
     "text": [
      "/home/jovyan/DATA/ATL12/ATL12_20181202085812_09890101_001_01.h5\n",
      "/home/jovyan/DATA/ATL12/ATL12_20181202085812_09890101_001_01.h5\n",
      "\n",
      "\n",
      "Take a look at the dataset we made \n",
      "\n",
      "<xarray.Dataset>\n",
      "Dimensions:     (segs: 16317)\n",
      "Coordinates:\n",
      "    lon         (segs) float64 63.98 63.98 63.97 63.97 ... -30.48 -30.49 -30.49\n",
      "    lat         (segs) float64 0.01223 0.03898 0.0708 ... -0.111 -0.07936 -0.048\n",
      "    time        (segs) datetime64[ns] 2018-12-02T08:36:36 ... 2018-12-02T14:53:45\n",
      "    delta_time  (segs) float64 2.898e+07 2.898e+07 2.898e+07 ... 2.9e+07 2.9e+07\n",
      "    lon360      (segs) float64 63.98 63.98 63.97 63.97 ... 329.5 329.5 329.5\n",
      "  * segs        (segs) int64 0 1 2 3 4 5 ... 16311 16312 16313 16314 16315 16316\n",
      "Data variables:\n",
      "    seg_dist    (segs) float64 1.333e+03 4.304e+03 ... 4.013e+07 4.014e+07\n",
      "    h           (segs) float32 -72.30196 -72.24449 ... 1.8067986 1.8932993\n",
      "    swh         (segs) float32 0.86796176 1.0970563 ... 1.9239677 1.6527674\n",
      "    length_seg  (segs) float64 2.821e+03 3.386e+03 ... 3.668e+03 3.386e+03\n"
     ]
    }
   ],
   "source": [
    "print(localFilePath)\n",
    "ds1r = mkds.MakeDataSetATL012(filename=localFilePath, beam = 'gt1r')\n",
    "#ds1l = mkds.MakeDataSetATL012(localFilePath, beam = 'gt1l')"
   ]
  },
  {
   "cell_type": "code",
   "execution_count": 244,
   "metadata": {},
   "outputs": [
    {
     "data": {
      "text/plain": [
       "[<matplotlib.lines.Line2D at 0x7f7d3ae21630>]"
      ]
     },
     "execution_count": 244,
     "metadata": {},
     "output_type": "execute_result"
    },
    {
     "data": {
      "image/png": "[encoded data removed]",
      "text/plain": [
       "<Figure size 432x288 with 1 Axes>"
      ]
     },
     "metadata": {
      "needs_background": "light"
     },
     "output_type": "display_data"
    }
   ],
   "source": [
    "timesel=[np.datetime64('2018-12-02T12:12:00'),np.datetime64('2018-12-02T13:20:00')]\n",
    "#print(timesel)\n",
    "xds=ds1r.where((ds1r.time > timesel[0]) & (ds1r.time < timesel[1]) & (ds1r.lat >68) & (ds1r.lat < 71))\n",
    "xds.to_netcdf('atl012.nc')\n",
    "#xds = ds1r\n",
    "plt.plot(xds.lat,xds.swh)\n",
    "#lt.plot(xds.lon360,xds.lat)"
   ]
  },
  {
   "cell_type": "code",
   "execution_count": null,
   "metadata": {},
   "outputs": [],
   "source": [
    "# THis doesnt work apparently because time is not a dimension\n",
    "#test=swh.sel(time=slice(timesel),method='nearest')\n",
    "# Figure out how to select based on coordinates rather than dimension or swap dimension\n",
    "# or selection by index"
   ]
  },
  {
   "cell_type": "code",
   "execution_count": 185,
   "metadata": {},
   "outputs": [],
   "source": [
    "# This is a utiltiy function to transformm coordinates from \n",
    "# cartopy coordinate systems\n",
    "def coordXform(orig_crs, target_crs, x, y):\n",
    "    return target_crs.transform_points( orig_crs, x, y )"
   ]
  },
  {
   "cell_type": "code",
   "execution_count": null,
   "metadata": {},
   "outputs": [],
   "source": []
  },
  {
   "cell_type": "code",
   "execution_count": 228,
   "metadata": {},
   "outputs": [
    {
     "name": "stdout",
     "output_type": "stream",
     "text": [
      "[[       0.         -2486689.93082888        0.        ]\n",
      " [       0.         -2026523.75817849        0.        ]]\n",
      "[ -100000.          1000000.         -2486689.93082888 -2026523.75817849]\n"
     ]
    }
   ],
   "source": [
    "# just for experimenting I figure out to set limits for a rotated map\n",
    "\n",
    "nps = ccrs.NorthPolarStereo(central_longitude=180)\n",
    "geo = ccrs.Geodetic()\n",
    "\n",
    "lon_limits=np.array([180,180])\n",
    "lat_limits=np.array([68,72])\n",
    "llxy= coordXform(geo,nps,lon_limits,lat_limits)\n",
    "print(llxy)\n",
    "nlimit=llxy[:,0:2]\n",
    "minx=nlimit[:,0].min()\n",
    "maxx=nlimit[:,0].max()\n",
    "miny=nlimit[:,1].min()\n",
    "maxy=nlimit[:,1].max()\n",
    "d0=1E5 # Offset from central longitude to the left\n",
    "d1=1E6 # Offset from central Longitude to the right\n",
    "mxmy=np.array([minx,miny,miny,maxy])\n",
    "mxmy=np.array([minx-d0,maxx+d1,miny,maxy])\n",
    "print(mxmy)"
   ]
  },
  {
   "cell_type": "code",
   "execution_count": 221,
   "metadata": {},
   "outputs": [
    {
     "name": "stdout",
     "output_type": "stream",
     "text": [
      "Nlimit: [[  -45422.15748428 -2602233.65946079]\n",
      " [  351902.15760643 -1995736.30871762]]\n"
     ]
    }
   ],
   "source": [
    "# now try cornber points \n",
    "#nps = ccrs.NorthPolarStereo(central_longitude=180)\n",
    "#geo = ccrs.Geodetic()\n",
    "#lon_limits=np.array([179,190])\n",
    "#lat_limits=np.array([67,72])\n",
    "#llxy= coordXform(geo,nps,lon_limits,lat_limits)\n",
    "#nlimit=llxy[:,0:2]\n",
    "#print(\"Nlimit:\",nlimit)\n",
    "# minx=nlimit[:,0].min()\n",
    "# print(mxmy)"
   ]
  },
  {
   "cell_type": "code",
   "execution_count": 233,
   "metadata": {},
   "outputs": [
    {
     "data": {
      "text/plain": [
       "<Figure size 900x900 with 0 Axes>"
      ]
     },
     "metadata": {},
     "output_type": "display_data"
    }
   ],
   "source": [
    "plt.figure(figsize=(10,10), dpi= 90)\n",
    "# Make a new projection \"NorthPolarStereo\"\n"
   ]
  },
  {
   "cell_type": "code",
   "execution_count": 235,
   "metadata": {},
   "outputs": [
    {
     "data": {
      "image/png": "[encoded data removed]",
      "text/plain": [
       "<Figure size 432x288 with 2 Axes>"
      ]
     },
     "metadata": {
      "needs_background": "light"
     },
     "output_type": "display_data"
    }
   ],
   "source": [
    "#cvar='seg_dist'\n",
    "cvar='swh' # Significant wave height\n",
    "da = xds[cvar]\n",
    "ax = plt.axes(projection=nps)\n",
    "plt.scatter(xds.lon, xds.lat, c=da, cmap='viridis', transform=ccrs.PlateCarree())\n",
    "#plt.pcolormesh(lons, lats, tile_to_plot,\n",
    "#               transform=ccrs.PlateCarree());\n",
    "ax.coastlines(resolution=\"10m\")\n",
    "#ax.drawmeridians()\n",
    "plt.colorbar(label=cvar, shrink=0.5, extend='both')\n",
    "#llxy\n",
    "# Limit the map to -60 degrees latitude and below.\n",
    "ax.set_extent(mxmy,nps)\n",
    "\n",
    "#ax.set_extent([-180, 180, 90, 60], ccrs.PlateCarree())"
   ]
  },
  {
   "cell_type": "code",
   "execution_count": 232,
   "metadata": {},
   "outputs": [
    {
     "name": "stdout",
     "output_type": "stream",
     "text": [
      "---\n",
      "----\n",
      "<xarray.Dataset>\n",
      "Dimensions:     (segs: 16317)\n",
      "Coordinates:\n",
      "    lon         (segs) float64 63.98 63.98 63.97 63.97 ... -30.48 -30.49 -30.49\n",
      "    lat         (segs) float64 0.01223 0.03898 0.0708 ... -0.111 -0.07936 -0.048\n",
      "    time        (segs) datetime64[ns] 2018-12-02T08:36:36 ... 2018-12-02T14:53:45\n",
      "    delta_time  (segs) float64 2.898e+07 2.898e+07 2.898e+07 ... 2.9e+07 2.9e+07\n",
      "    lon360      (segs) float64 63.98 63.98 63.97 63.97 ... 329.5 329.5 329.5\n",
      "  * segs        (segs) int64 0 1 2 3 4 5 ... 16311 16312 16313 16314 16315 16316\n",
      "Data variables:\n",
      "    seg_dist    (segs) float64 nan nan nan nan ... 4.013e+07 4.013e+07 4.014e+07\n",
      "    h           (segs) float32 nan nan nan nan ... 1.7426548 1.8067986 1.8932993\n",
      "    swh         (segs) float32 nan nan nan nan ... 1.7166283 1.9239677 1.6527674\n",
      "    length_seg  (segs) float64 nan nan nan nan ... 3.385e+03 3.668e+03 3.386e+03\n"
     ]
    }
   ],
   "source": [
    "#print(ds1r.time)\n",
    "swh=ds1r['swh']\n",
    "#print(swh)\n",
    "#time=swh.time\n",
    "#time=None\n",
    "#delta_time=swh.delta_time\n",
    "print('---')\n",
    "#print(swh.time>np.datetime64('2018-12-02T12:00:00'))\n",
    "print('----')\n",
    "#timesel=[np.datetime64('2018-12-02T12:00:00'),np.datetime64('2018-12-02T15:00:00')]\n",
    "#print(timesel) test=sub.where((swh.time > timesel[0]) & (swh.time < timesel[1]))\n",
    "\n",
    "#test=sub.where((swh.time > timesel[0]) & (swh.time < timesel[1]))\n",
    "print(test)\n",
    "\n",
    "#plt.plot(test.time,test.swh)\n",
    "#te#st=swh.where((swh.time > np.datetime64('2018-12-02T12:00:00'))  & (swh.time> np.datetime64('2018-12-02T15:00:00')))\n",
    "#test=swh.sel(time=slice('2018-12-02T12:00:00','2018-12-02T15:00:00'), method='nearest')\n",
    "#test=swh.sel(time=slice(timesel),method='nearest')"
   ]
  },
  {
   "cell_type": "code",
   "execution_count": null,
   "metadata": {},
   "outputs": [],
   "source": []
  }
 ],
 "metadata": {
  "kernelspec": {
   "display_name": "Python 3",
   "language": "python",
   "name": "python3"
  },
  "language_info": {
   "codemirror_mode": {
    "name": "ipython",
    "version": 3
   },
   "file_extension": ".py",
   "mimetype": "text/x-python",
   "name": "python",
   "nbconvert_exporter": "python",
   "pygments_lexer": "ipython3",
   "version": "3.6.7"
  }
 },
 "nbformat": 4,
 "nbformat_minor": 2
}
