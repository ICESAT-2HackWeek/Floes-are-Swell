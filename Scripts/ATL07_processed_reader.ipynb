{
 "cells": [
  {
   "cell_type": "code",
   "execution_count": 79,
   "metadata": {},
   "outputs": [
    {
     "name": "stdout",
     "output_type": "stream",
     "text": [
      "/home/jovyan/161184621/processed_ATL07-02_20181201123226_09760101_001_01.h5\n",
      "['METADATA', 'gt1l', 'gt1r', 'gt2l', 'gt2r', 'gt3l', 'gt3r']\n"
     ]
    }
   ],
   "source": [
    "import h5py \n",
    "import numpy as np\n",
    "import os\n",
    "import re\n",
    "import matplotlib.pyplot as plt\n",
    "\n",
    "FILENAME= '~/161184621/processed_ATL07-02_20181201123226_09760101_001_01.h5'\n",
    "fileID = h5py.File(os.path.expanduser(FILENAME), 'r')\n",
    "\n",
    "#-- Output HDF5 file information\n",
    "\n",
    "print(fileID.filename)\n",
    "print(list(fileID.keys()))"
   ]
  },
  {
   "cell_type": "code",
   "execution_count": 80,
   "metadata": {},
   "outputs": [],
   "source": [
    "FILENAME= '~/161184621/processed_ATL07-02_20181201123226_09760101_001_01.h5'\n",
    "\n",
    "ATL07 = h5py.File(os.path.expanduser(FILENAME), 'r')\n",
    "beamStr='gt1r'\n"
   ]
  },
  {
   "cell_type": "code",
   "execution_count": 81,
   "metadata": {},
   "outputs": [],
   "source": [
    "# lats and lons\n",
    "lons=ATL07[beamStr+'/sea_ice_segments/longitude'][:]\n",
    "lats=ATL07[beamStr+'/sea_ice_segments/latitude'][:]\n",
    "\n",
    "#sea ice segments\n",
    "seg_dist_x= ATL07[beamStr+'/sea_ice_segments/seg_dist_x'][:]\n",
    "along_track_distance=ATL07[beamStr+'/sea_ice_segments/seg_dist_x'][:] - ATL07[beamStr+'/sea_ice_segments/seg_dist_x'][0]\n",
    "dtime= ATL07[beamStr+'/sea_ice_segments/delta_time'][:]\n",
    "\n",
    "# Beam segment heights\n",
    "elev=ATL07[beamStr+'/sea_ice_segments/heights/height_segment_height'][:]\n",
    "qual_flag=ATL07[beamStr+'/sea_ice_segments/heights/height_segment_fit_quality_flag'][:] \n",
    "x_track_dist= ATL07[beamStr+'/sea_ice_segments/heights/across_track_distance'][:] \n",
    "\n",
    "# stats\n",
    "SIC= ATL07[beamStr+'/sea_ice_segments/stats/ice_conc'][:] "
   ]
  },
  {
   "cell_type": "code",
   "execution_count": 82,
   "metadata": {},
   "outputs": [
    {
     "data": {
      "text/plain": [
       "(0, 100)"
      ]
     },
     "execution_count": 82,
     "metadata": {},
     "output_type": "execute_result"
    },
    {
     "data": {
      "image/png": "[encoded data removed]",
      "text/plain": [
       "<Figure size 432x288 with 1 Axes>"
      ]
     },
     "metadata": {
      "needs_background": "light"
     },
     "output_type": "display_data"
    }
   ],
   "source": [
    "plt.scatter( along_track_distance[:], SIC[:], s=.5);\n",
    "plt.xlim(0,1000000)\n",
    "plt.ylim(0,100)"
   ]
  },
  {
   "cell_type": "code",
   "execution_count": null,
   "metadata": {},
   "outputs": [],
   "source": []
  }
 ],
 "metadata": {
  "kernelspec": {
   "display_name": "Python 3",
   "language": "python",
   "name": "python3"
  },
  "language_info": {
   "codemirror_mode": {
    "name": "ipython",
    "version": 3
   },
   "file_extension": ".py",
   "mimetype": "text/x-python",
   "name": "python",
   "nbconvert_exporter": "python",
   "pygments_lexer": "ipython3",
   "version": "3.6.7"
  }
 },
 "nbformat": 4,
 "nbformat_minor": 2
}
