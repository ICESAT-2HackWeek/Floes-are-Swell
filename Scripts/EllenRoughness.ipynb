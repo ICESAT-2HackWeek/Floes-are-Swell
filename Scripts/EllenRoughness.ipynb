{
 "cells": [
  {
   "cell_type": "markdown",
   "metadata": {},
   "source": [
    "#### Use xarray reader to analyze within segment roughness and between segment roughness\n",
    "\n"
   ]
  },
  {
   "cell_type": "code",
   "execution_count": 7,
   "metadata": {},
   "outputs": [],
   "source": [
    "#Magic function to enable interactive plotting in Jupyter notebook\n",
    "#Allows you to zoom/pan within plots after generating\n",
    "#Normally, this would be %matplotlib notebook, but since we're using Juptyerlab, we need a different widget\n",
    "#%matplotlib notebook\n",
    "%matplotlib inline"
   ]
  },
  {
   "cell_type": "code",
   "execution_count": 22,
   "metadata": {},
   "outputs": [
    {
     "ename": "ModuleNotFoundError",
     "evalue": "No module named 'xesmf'",
     "output_type": "error",
     "traceback": [
      "\u001b[0;31m---------------------------------------------------------------------------\u001b[0m",
      "\u001b[0;31mModuleNotFoundError\u001b[0m                       Traceback (most recent call last)",
      "\u001b[0;32m<ipython-input-22-f6b1fae5321d>\u001b[0m in \u001b[0;36m<module>\u001b[0;34m\u001b[0m\n\u001b[1;32m     16\u001b[0m \u001b[0;31m#from scipy import stats\u001b[0m\u001b[0;34m\u001b[0m\u001b[0;34m\u001b[0m\u001b[0;34m\u001b[0m\u001b[0m\n\u001b[1;32m     17\u001b[0m \u001b[0;32mimport\u001b[0m \u001b[0mscipy\u001b[0m\u001b[0;34m\u001b[0m\u001b[0;34m\u001b[0m\u001b[0m\n\u001b[0;32m---> 18\u001b[0;31m \u001b[0;32mimport\u001b[0m \u001b[0mxesmf\u001b[0m \u001b[0;32mas\u001b[0m \u001b[0mxe\u001b[0m\u001b[0;34m\u001b[0m\u001b[0;34m\u001b[0m\u001b[0m\n\u001b[0m\u001b[1;32m     19\u001b[0m \u001b[0;31m# Use seasborn for nicer looking inline plots if available\u001b[0m\u001b[0;34m\u001b[0m\u001b[0;34m\u001b[0m\u001b[0;34m\u001b[0m\u001b[0m\n\u001b[1;32m     20\u001b[0m \u001b[0;31m#import seaborn as sns\u001b[0m\u001b[0;34m\u001b[0m\u001b[0;34m\u001b[0m\u001b[0;34m\u001b[0m\u001b[0m\n",
      "\u001b[0;31mModuleNotFoundError\u001b[0m: No module named 'xesmf'"
     ]
    }
   ],
   "source": [
    "import warnings\n",
    "warnings.filterwarnings('ignore')\n",
    "#Import necesary modules\n",
    "#Use shorter names (np, pd, plt) instead of full (numpy, pandas, matplotlib.pylot) for convenience\n",
    "import numpy as np\n",
    "import pandas as pd\n",
    "import matplotlib.pyplot as plt\n",
    "import cartopy.crs as ccrs\n",
    "import pandas as pd\n",
    "import numpy.ma as ma\n",
    "import h5py\n",
    "import s3fs\n",
    "import matplotlib.pyplot as plt\n",
    "import netCDF4\n",
    "import xarray as xr\n",
    "#from scipy import stats\n",
    "import scipy\n",
    "import xesmf as xe\n",
    "# Use seasborn for nicer looking inline plots if available \n",
    "#import seaborn as sns\n",
    "#sns.set(context='notebook', style='darkgrid')\n",
    "#st = axes_style(\"whitegrid\")\n"
   ]
  },
  {
   "cell_type": "markdown",
   "metadata": {},
   "source": [
    "#### Beam selection   \n",
    "There are 6 beams to choose from in the ICESat-2 products (3 pairs of a strong and weak beam). The energy ratio between the weak and strong beams are  approximately 1:4 and are separated by 90 m in the across-track direction. The beam pairs are separated by ~3.3 km in the across-track direction, and the strong and weak beams are separated by ~2.5 km in the along-track direction."
   ]
  },
  {
   "cell_type": "markdown",
   "metadata": {},
   "source": [
    "#### chose a file to read\n",
    "\n"
   ]
  },
  {
   "cell_type": "code",
   "execution_count": 9,
   "metadata": {},
   "outputs": [],
   "source": [
    "ATL07file='processed_ATL07-01_20181130235806_09680101_001_01.h5'\n",
    "ATL07file='processed_ATL07-01_20181206115828_10520101_001_01.h5'\n",
    "ATL07file='processed_ATL07-01_20181206133245_10530101_001_01.h5'\n",
    "ATL07file='processed_ATL07-01_20181121010613_08160101_001_01.h5'\n",
    "localFilePath='/home/jovyan/Data/'+ATL07file\n"
   ]
  },
  {
   "cell_type": "code",
   "execution_count": 10,
   "metadata": {},
   "outputs": [],
   "source": [
    "def MakeDataSet(filename, beam='gt1r'):\n",
    "    ATL07 = h5py.File(localFilePath, 'r')\n",
    "\n",
    "    # coordinates, start their lives as data arrays\n",
    "    lons = xr.DataArray(ATL07[beam+'/sea_ice_segments/longitude'][:],dims=['segs'])\n",
    "    lons.name='lons'\n",
    "    lats = xr.DataArray(ATL07[beam+'/sea_ice_segments/latitude'][:],dims=['segs'])\n",
    "    lats.name='lats'\n",
    "    # add 360 to lons less than 0\n",
    "    lons360 = lons.where(lons.values>0, other=lons.values+360)\n",
    "\n",
    "    # this is the time hacked a bit since I am an idiot, it is within seconds\n",
    "    delta_time=ATL07[beam+'/sea_ice_segments/delta_time'][:] \n",
    "    time = np.datetime64('2018-01-01') + (delta_time-86400*0.015).astype('timedelta64[s]' ) \n",
    "\n",
    "    # variables in datasets, start their lives as data arrays too\n",
    "    seg_dist = xr.DataArray(ATL07[beam+'/sea_ice_segments/seg_dist_x'][:],dims=['segs'])\n",
    "    seg_dist.name = 'seg_dist' # the first two dataarrays have to be named, grr\n",
    "    #print(set_dist)\n",
    "\n",
    "    height = xr.DataArray(ATL07[beam+'/sea_ice_segments/heights/height_segment_height'][:],dims=['segs'])\n",
    "    height.name = 'height'\n",
    "    #print('\\n\\nTake a look at the dataarray we made \\n')\n",
    "    #print(height)\n",
    "    \n",
    "    mss = xr.DataArray(ATL07[beam+'/sea_ice_segments/geophysical/height_segment_mss'][:],dims=['segs'])\n",
    "    seg_length= xr.DataArray(ATL07[beam+'/sea_ice_segments/heights/height_segment_length_seg'][:],dims=['segs'])\n",
    "    quality_flag = xr.DataArray(ATL07[beam+'/sea_ice_segments/heights/height_segment_fit_quality_flag'][:],dims=['segs'])\n",
    "    isita_lead =   xr.DataArray(ATL07[beam+'/sea_ice_segments/heights/height_segment_ssh_flag'][:],dims=['segs'])\n",
    "    gauss_width =   xr.DataArray(ATL07[beam+'/sea_ice_segments/heights/height_segment_w_gaussian'][:],dims=['segs'])\n",
    "\n",
    "    # start by merging first two datarrays (they have to have names)\n",
    "    ds=xr.merge([seg_dist, height])\n",
    "\n",
    "    # now we add more dataarrays \n",
    "    ds['mss'] = mss\n",
    "    ds['seg_length'] = seg_length\n",
    "    ds['quality_flag'] = quality_flag\n",
    "    ds['isita_lead'] = isita_lead\n",
    "    ds['gauss_width'] = gauss_width\n",
    "    \n",
    "    ds.coords['lon'] = lons\n",
    "    ds.coords['lat'] = lats\n",
    "    ds.coords['time'] = xr.DataArray(time,dims=['segs'])\n",
    "    ds.coords['delta_time'] = xr.DataArray(delta_time,dims=['segs'])\n",
    "\n",
    "    ds.coords['lon360'] = lons360\n",
    "    ds.coords['segs'] = xr.DataArray(np.arange(0,len(height),1),dims=['segs'])\n",
    "\n",
    "    print('\\n\\nTake a look at the dataset we made \\n')\n",
    "    print(ds)\n",
    "\n",
    "    return ds\n"
   ]
  },
  {
   "cell_type": "code",
   "execution_count": 11,
   "metadata": {},
   "outputs": [
    {
     "name": "stdout",
     "output_type": "stream",
     "text": [
      "\n",
      "\n",
      "Take a look at the dataset we made \n",
      "\n",
      "<xarray.Dataset>\n",
      "Dimensions:       (segs: 295184)\n",
      "Coordinates:\n",
      "    lon           (segs) float64 -178.5 -178.5 -178.5 -178.5 ... 17.2 17.2 17.2\n",
      "    lat           (segs) float64 65.29 65.29 65.29 65.29 ... 81.42 81.42 81.42\n",
      "    time          (segs) datetime64[ns] 2018-11-21T01:01:40 ... 2018-11-21T01:10:20\n",
      "    delta_time    (segs) float64 2.8e+07 2.8e+07 2.8e+07 ... 2.8e+07 2.8e+07\n",
      "    lon360        (segs) float64 181.5 181.5 181.5 181.5 ... 17.2 17.2 17.2 17.2\n",
      "  * segs          (segs) int64 0 1 2 3 4 ... 295179 295180 295181 295182 295183\n",
      "Data variables:\n",
      "    seg_dist      (segs) float64 7.28e+06 7.28e+06 ... 1.097e+07 1.097e+07\n",
      "    height        (segs) float32 3.4028235e+38 3.4028235e+38 ... 0.13038407\n",
      "    mss           (segs) float32 3.5759127 3.5759127 ... 28.19317 28.196634\n",
      "    seg_length    (segs) float32 9847.246 4923.269 ... 109.61619 130.14487\n",
      "    quality_flag  (segs) int8 -1 -1 -1 -1 -1 -1 -1 -1 -1 ... 1 1 1 1 1 1 1 1 1\n",
      "    isita_lead    (segs) int8 0 0 0 0 0 0 0 0 0 0 0 0 ... 0 0 0 0 0 0 0 0 0 0 0\n",
      "    gauss_width   (segs) float32 3.4028235e+38 3.4028235e+38 ... 0.304 0.212\n",
      "\n",
      "\n",
      "Take a look at the dataset we made \n",
      "\n",
      "<xarray.Dataset>\n",
      "Dimensions:       (segs: 290918)\n",
      "Coordinates:\n",
      "    lon           (segs) float64 -178.5 -178.5 -178.5 -178.5 ... 17.2 17.2 17.2\n",
      "    lat           (segs) float64 65.33 65.33 65.33 65.33 ... 81.42 81.42 81.42\n",
      "    time          (segs) datetime64[ns] 2018-11-21T01:01:40 ... 2018-11-21T01:10:19\n",
      "    delta_time    (segs) float64 2.8e+07 2.8e+07 2.8e+07 ... 2.8e+07 2.8e+07\n",
      "    lon360        (segs) float64 181.5 181.5 181.5 181.5 ... 17.2 17.2 17.2 17.2\n",
      "  * segs          (segs) int64 0 1 2 3 4 ... 290913 290914 290915 290916 290917\n",
      "Data variables:\n",
      "    seg_dist      (segs) float64 7.284e+06 7.284e+06 ... 1.097e+07 1.097e+07\n",
      "    height        (segs) float32 0.24503706 0.24128619 ... 0.2644225 0.26499653\n",
      "    mss           (segs) float32 3.5703654 3.5702834 ... 28.190104 28.190111\n",
      "    seg_length    (segs) float32 544.9831 522.99164 ... 372.26718 372.26718\n",
      "    quality_flag  (segs) int8 1 1 1 1 1 1 1 1 1 1 1 1 ... 1 1 1 1 1 1 1 1 1 1 1\n",
      "    isita_lead    (segs) int8 0 0 0 0 0 0 0 0 0 0 0 0 ... 0 0 0 0 0 0 0 0 0 0 0\n",
      "    gauss_width   (segs) float32 0.132 0.118999995 ... 0.22999999 0.228\n"
     ]
    }
   ],
   "source": [
    "ds1r = MakeDataSet(localFilePath, beam = 'gt1r')\n",
    "ds1l = MakeDataSet(localFilePath, beam = 'gt1l')"
   ]
  },
  {
   "cell_type": "code",
   "execution_count": 12,
   "metadata": {},
   "outputs": [],
   "source": [
    "#plt.plot(ds1r.lon360,ds1r.lat,'.',ds1l.lon360,ds1l.lat,'.');\n",
    "#plt.plot(ds1r.seg_dist,ds1r.mss,ds1l.seg_dist,ds1l.mss);\n",
    "#plt.plot(ds1r.seg_dist,ds1r.isita_lead);\n",
    "#plt.plot(ds1r.lon360,ds1r.seg_dist);\n",
    "#plt.plot(ds1r.delta_time);"
   ]
  },
  {
   "cell_type": "code",
   "execution_count": null,
   "metadata": {},
   "outputs": [],
   "source": []
  },
  {
   "cell_type": "code",
   "execution_count": 13,
   "metadata": {},
   "outputs": [
    {
     "name": "stdout",
     "output_type": "stream",
     "text": [
      "291615 291615 291615 291615\n"
     ]
    }
   ],
   "source": [
    "# Select variable of interest from the dataframe columns\n",
    "# choices are 'height' or 'seg_dist' or other variables in the dataset\n",
    "cvar='height'\n",
    "cvar2='gauss_width' ##'height'\n",
    "cvar3='seg_length'\n",
    "cvar4='seg_dist'\n",
    "\n",
    "lon= ds1r.lon.where((abs(ds1r.height.values)<10)&(abs(ds1r.gauss_width.values)<1))\n",
    "lat= ds1r.lat.where((abs(ds1r.height.values)<10)&(abs(ds1r.gauss_width.values)<1))\n",
    "da_1 = ds1r[cvar].where((abs(ds1r.height.values)<10)&(abs(ds1r.gauss_width.values)<1))\n",
    "da_2 = ds1r[cvar2].where((abs(ds1r.height.values)<10)&(abs(ds1r.gauss_width.values)<1))\n",
    "da_3 = ds1r[cvar3].where((abs(ds1r.height.values)<10)&(abs(ds1r.gauss_width.values)<1))\n",
    "da_4 = ds1r[cvar4].where((abs(ds1r.height.values)<10)&(abs(ds1r.gauss_width.values)<1))\n",
    "\n",
    "lon=lon[~(np.isnan(da_1.values)+np.isnan(da_2.values))]\n",
    "lat=lat[~(np.isnan(da_1.values)+np.isnan(da_2.values))]\n",
    "da_t1 = da_1[~(np.isnan(da_1.values)+np.isnan(da_2.values))]\n",
    "da_t2 = da_2[~(np.isnan(da_1.values)+np.isnan(da_2.values))]\n",
    "da_t3 = da_3[~(np.isnan(da_1.values)+np.isnan(da_2.values))]\n",
    "da_t4 = da_4[~(np.isnan(da_1.values)+np.isnan(da_2.values))]\n",
    "print(len(lon),len(lat),len(da_t1),len(da_t2))"
   ]
  },
  {
   "cell_type": "code",
   "execution_count": 14,
   "metadata": {},
   "outputs": [
    {
     "data": {
      "text/plain": [
       "291615"
      ]
     },
     "execution_count": 14,
     "metadata": {},
     "output_type": "execute_result"
    }
   ],
   "source": [
    "#ds1r[cvar2].where((abs(ds1r.height.values)<10)&(abs(ds1r.gauss_width.values)<1))\n",
    "len((abs(ds1r.height.values)<10)&(abs(ds1r.gauss_width.values)<1))\n",
    "len(da_1[~(np.isnan(da_1.values)+np.isnan(da_2.values))])"
   ]
  },
  {
   "cell_type": "code",
   "execution_count": 15,
   "metadata": {},
   "outputs": [
    {
     "name": "stdout",
     "output_type": "stream",
     "text": [
      "<xarray.DataArray 'gauss_width' ()>\n",
      "array(0.99, dtype=float32)\n"
     ]
    },
    {
     "data": {
      "image/png": "[encoded data removed]",
      "text/plain": [
       "<Figure size 432x288 with 1 Axes>"
      ]
     },
     "metadata": {
      "needs_background": "light"
     },
     "output_type": "display_data"
    }
   ],
   "source": [
    "print(np.amax(da_t2))\n",
    "plt.hist(da_t2, bins=np.arange(0,1,.02));\n",
    "#plt.hist(da_t3, bins=np.arange(0,80,5));"
   ]
  },
  {
   "cell_type": "code",
   "execution_count": 21,
   "metadata": {},
   "outputs": [
    {
     "data": {
      "application/vnd.jupyter.widget-view+json": {
       "model_id": "083d252e7dc84de9b5685180988426c7",
       "version_major": 2,
       "version_minor": 0
      },
      "text/plain": [
       "FigureCanvasNbAgg()"
      ]
     },
     "metadata": {},
     "output_type": "display_data"
    }
   ],
   "source": [
    "%matplotlib widget\n",
    "# Make a new projection \"NorthPolarStereo\"\n",
    "\n",
    "plt.figure(figsize=(7,7), dpi= 90)\n",
    "ax = plt.axes(projection=ccrs.NorthPolarStereo(true_scale_latitude=70))\n",
    "#plt.scatter(lon, lat, c=da_t2, cmap='coolwarm', vmin=0,vmax=.2,alpha=.5, transform=ccrs.PlateCarree())\n",
    "#plt.pcolormesh(lons, lats, tile_to_plot,\n",
    "#               transform=ccrs.PlateCarree());\n",
    "\n",
    "\n",
    "plt.scatter(lonz,latz,c=ice_type[0],cmap='viridis', vmin=0,vmax=5,transform=ccrs.PlateCarree())\n",
    "# Limit the map to -60 degrees latitude and below.\n",
    "ax.set_extent([-180, 180, 90, 60], ccrs.PlateCarree())\n",
    "plt.scatter(lon, lat, c=da_t2, cmap='coolwarm', vmin=0,vmax=.2,alpha=.5, transform=ccrs.PlateCarree())\n",
    "ax.coastlines()\n",
    "#ax.drawmeridians()\n",
    "plt.colorbar(label=cvar2, shrink=0.5,  extend='both')\n",
    "plt.plot(lon.values[500],lat.values[500], 'kX',markersize=10, transform=ccrs.PlateCarree());"
   ]
  },
  {
   "cell_type": "code",
   "execution_count": 59,
   "metadata": {},
   "outputs": [
    {
     "name": "stdout",
     "output_type": "stream",
     "text": [
      "65.31756323648672 -178.53062658322807\n"
     ]
    }
   ],
   "source": [
    "print(lat.values[0],lon.values[0])"
   ]
  },
  {
   "cell_type": "code",
   "execution_count": 28,
   "metadata": {},
   "outputs": [],
   "source": [
    "#%matplotlib inline\n",
    "#see if there is a relationship between height and the gaussian width\n",
    "#plt.plot(da_t2.values[::1000],da_t3.values[::1000], 'bo')\n",
    "#plt.plot(da_t1.values[::1000],da_t2.values[::1000], 'bo')\n",
    "#plt.ylim(0,.5)\n",
    "#slope, intercept, r_value, p_value, std_err = scipy.stats.linregress(da_t1.values,da_t2.values)\n",
    "#print(slope, intercept, r_value, p_value, std_err)\n",
    "#r_value is .48 so no."
   ]
  },
  {
   "cell_type": "code",
   "execution_count": 81,
   "metadata": {},
   "outputs": [
    {
     "data": {
      "image/png": "[encoded data removed]",
      "text/plain": [
       "<Figure size 720x720 with 3 Axes>"
      ]
     },
     "metadata": {
      "needs_background": "light"
     },
     "output_type": "display_data"
    }
   ],
   "source": [
    "%matplotlib inline\n",
    "f, ax=plt.subplots(nrows=3,ncols=1,sharex=True, figsize=(10,10))\n",
    "x = da_t2.values #gaussian width\n",
    "y = da_t1.values #height\n",
    "k = (np.ones([1,501])/501)[0]\n",
    "smoothed = np.convolve(x, k, 'valid')\n",
    "l=(y[250:-250]-smoothed) ** 2 #  squared error\n",
    "smoothed2 = np.convolve(l, k, 'valid') #running mean of squared error = variance\n",
    "#mean( (x-smoothed) ** 2 ) \n",
    "\n",
    "ax[0]= plt.subplot(3,1,1)\n",
    "ax[0].plot(da_t4.values/1000,da_t1.values,'bo',markersize=.5,alpha=.5, label='gauss width')\n",
    "ax[1]=plt.subplot(3,1,2)\n",
    "ax[1].plot((da_t4.values/1000)[::1000],smoothed[::1000], 'ko', markersize=1, label='smoothed gauss width')\n",
    "ax[2] = plt.subplot(3,1,3)\n",
    "ax[2].plot((da_t4.values/1000)[::1000][:-1],np.sqrt(smoothed2[::1000]), 'ro', markersize=1,label='running stdev of heights')\n",
    "\n",
    "#plt.ylim(0,2)\n",
    "\n",
    "ax[0].set_ylabel('height')\n",
    "ax[1].set_ylabel('smoothed \\n gauss width')\n",
    "ax[2].set_ylabel('running stdev')\n",
    "ax[2].set_xlabel('along track distance (km)');\n",
    "#plt.legend(loc=1);"
   ]
  },
  {
   "cell_type": "code",
   "execution_count": 18,
   "metadata": {},
   "outputs": [],
   "source": [
    "\n",
    "#print(len(smoothed\n",
    "#plt.plot((da_t4.values/1000)[:100000],smoothed2[:100000], 'k-', label='running stdev');\n",
    "\n",
    "itype = xr.open_dataset('../../Data/ice_type_nh_polstere-100_multi_201811211200.nc')\n",
    "\n",
    "#sic=ice_type.sic.values[0]\n",
    "lonz=itype.lon.values\n",
    "latz=itype.lat.values\n",
    "ice_type=itype.ice_type.values\n",
    "#plt.pcolormesh(dNday['longitude'], dNday['latitude'],ma.masked_where(dNday['iceConc']<0.3, dNday['iceConc']) , cmap='Blues_r', transform=ccrs.PlateCarree())\n",
    "#print(itype)\n",
    "#plt.pcolormesh([lon, lat], ice_type,transform=ccrs.PlateCarree())\n",
    "#itype\n",
    "#plt.scatter(lonz,latz,c=ice_type[0]);"
   ]
  },
  {
   "cell_type": "code",
   "execution_count": 144,
   "metadata": {},
   "outputs": [
    {
     "data": {
      "application/vnd.jupyter.widget-view+json": {
       "model_id": "",
       "version_major": 2,
       "version_minor": 0
      },
      "text/plain": [
       "FigureCanvasNbAgg()"
      ]
     },
     "metadata": {},
     "output_type": "display_data"
    },
    {
     "ename": "IndexError",
     "evalue": "index 1 is out of bounds for axis 0 with size 1",
     "output_type": "error",
     "traceback": [
      "\u001b[0;31m---------------------------------------------------------------------------\u001b[0m",
      "\u001b[0;31mIndexError\u001b[0m                                Traceback (most recent call last)",
      "\u001b[0;32m<ipython-input-144-cfce903ce697>\u001b[0m in \u001b[0;36m<module>\u001b[0;34m\u001b[0m\n\u001b[1;32m      2\u001b[0m \u001b[0mgood\u001b[0m\u001b[0;34m=\u001b[0m \u001b[0mnp\u001b[0m\u001b[0;34m.\u001b[0m\u001b[0mwhere\u001b[0m\u001b[0;34m(\u001b[0m\u001b[0;34m~\u001b[0m\u001b[0mnp\u001b[0m\u001b[0;34m.\u001b[0m\u001b[0misnan\u001b[0m\u001b[0;34m(\u001b[0m\u001b[0mice_type\u001b[0m\u001b[0;34m[\u001b[0m\u001b[0;36m0\u001b[0m\u001b[0;34m]\u001b[0m\u001b[0;34m)\u001b[0m\u001b[0;34m)\u001b[0m\u001b[0;34m\u001b[0m\u001b[0;34m\u001b[0m\u001b[0m\n\u001b[1;32m      3\u001b[0m \u001b[0max\u001b[0m \u001b[0;34m=\u001b[0m \u001b[0mplt\u001b[0m\u001b[0;34m.\u001b[0m\u001b[0maxes\u001b[0m\u001b[0;34m(\u001b[0m\u001b[0mprojection\u001b[0m\u001b[0;34m=\u001b[0m\u001b[0mccrs\u001b[0m\u001b[0;34m.\u001b[0m\u001b[0mNorthPolarStereo\u001b[0m\u001b[0;34m(\u001b[0m\u001b[0mtrue_scale_latitude\u001b[0m\u001b[0;34m=\u001b[0m\u001b[0;36m70\u001b[0m\u001b[0;34m)\u001b[0m\u001b[0;34m)\u001b[0m\u001b[0;34m\u001b[0m\u001b[0;34m\u001b[0m\u001b[0m\n\u001b[0;32m----> 4\u001b[0;31m \u001b[0mplt\u001b[0m\u001b[0;34m.\u001b[0m\u001b[0mscatter\u001b[0m\u001b[0;34m(\u001b[0m\u001b[0mlonz\u001b[0m\u001b[0;34m[\u001b[0m\u001b[0mgood\u001b[0m\u001b[0;34m]\u001b[0m\u001b[0;34m,\u001b[0m \u001b[0mlatz\u001b[0m\u001b[0;34m[\u001b[0m\u001b[0mgood\u001b[0m\u001b[0;34m]\u001b[0m\u001b[0;34m,\u001b[0m \u001b[0mc\u001b[0m\u001b[0;34m=\u001b[0m\u001b[0mice_type\u001b[0m\u001b[0;34m[\u001b[0m\u001b[0mgood\u001b[0m\u001b[0;34m]\u001b[0m\u001b[0;34m,\u001b[0m \u001b[0mcmap\u001b[0m\u001b[0;34m=\u001b[0m\u001b[0;34m'coolwarm'\u001b[0m\u001b[0;34m,\u001b[0m \u001b[0mvmin\u001b[0m\u001b[0;34m=\u001b[0m\u001b[0;36m0\u001b[0m\u001b[0;34m,\u001b[0m\u001b[0mvmax\u001b[0m\u001b[0;34m=\u001b[0m\u001b[0;36m.2\u001b[0m\u001b[0;34m,\u001b[0m\u001b[0malpha\u001b[0m\u001b[0;34m=\u001b[0m\u001b[0;36m.5\u001b[0m\u001b[0;34m,\u001b[0m \u001b[0mtransform\u001b[0m\u001b[0;34m=\u001b[0m\u001b[0mccrs\u001b[0m\u001b[0;34m.\u001b[0m\u001b[0mPlateCarree\u001b[0m\u001b[0;34m(\u001b[0m\u001b[0;34m)\u001b[0m\u001b[0;34m)\u001b[0m\u001b[0;34m\u001b[0m\u001b[0;34m\u001b[0m\u001b[0m\n\u001b[0m\u001b[1;32m      5\u001b[0m \u001b[0;31m#plt.pcolormesh(lons, lats, tile_to_plot,\u001b[0m\u001b[0;34m\u001b[0m\u001b[0;34m\u001b[0m\u001b[0;34m\u001b[0m\u001b[0m\n\u001b[1;32m      6\u001b[0m \u001b[0;31m#               transform=ccrs.PlateCarree());\u001b[0m\u001b[0;34m\u001b[0m\u001b[0;34m\u001b[0m\u001b[0;34m\u001b[0m\u001b[0m\n",
      "\u001b[0;31mIndexError\u001b[0m: index 1 is out of bounds for axis 0 with size 1"
     ]
    },
    {
     "data": {
      "image/png": "[encoded data removed]",
      "text/plain": [
       "<Figure size 630x630 with 1 Axes>"
      ]
     },
     "metadata": {
      "needs_background": "light"
     },
     "output_type": "display_data"
    }
   ],
   "source": [
    "plt.figure(figsize=(7,7), dpi= 90)\n",
    "good= np.where(~np.isnan(ice_type))\n",
    "ax = plt.axes(projection=ccrs.NorthPolarStereo(true_scale_latitude=70))\n",
    "plt.scatter(lonz[good], latz[good], c=ice_type[good], cmap='coolwarm', vmin=0,vmax=.2,alpha=.5, transform=ccrs.PlateCarree())\n",
    "#plt.pcolormesh(lons, lats, tile_to_plot,\n",
    "#               transform=ccrs.PlateCarree());\n",
    "\n",
    "ax.coastlines()\n",
    "#ax.drawmeridians()\n",
    "plt.colorbar(label='icetype', shrink=0.5,  extend='both')\n",
    "\n",
    "# Limit the map to -60 degrees latitude and below.\n",
    "ax.set_extent([-180, 180, 90, 60], ccrs.PlateCarree())"
   ]
  },
  {
   "cell_type": "code",
   "execution_count": 140,
   "metadata": {},
   "outputs": [
    {
     "data": {
      "text/plain": [
       "1120"
      ]
     },
     "execution_count": 140,
     "metadata": {},
     "output_type": "execute_result"
    }
   ],
   "source": [
    "len(lonz)"
   ]
  },
  {
   "cell_type": "code",
   "execution_count": 141,
   "metadata": {},
   "outputs": [
    {
     "data": {
      "text/plain": [
       "1120"
      ]
     },
     "execution_count": 141,
     "metadata": {},
     "output_type": "execute_result"
    }
   ],
   "source": [
    "len(latz)"
   ]
  },
  {
   "cell_type": "code",
   "execution_count": 143,
   "metadata": {},
   "outputs": [
    {
     "data": {
      "text/plain": [
       "1120"
      ]
     },
     "execution_count": 143,
     "metadata": {},
     "output_type": "execute_result"
    }
   ],
   "source": [
    "len(ice_type[0])"
   ]
  },
  {
   "cell_type": "code",
   "execution_count": 145,
   "metadata": {},
   "outputs": [
    {
     "data": {
      "text/plain": [
       "(array([   0,    0,    0, ..., 1119, 1119, 1119]),\n",
       " array([  0,   1,   2, ..., 757, 758, 759]))"
      ]
     },
     "execution_count": 145,
     "metadata": {},
     "output_type": "execute_result"
    }
   ],
   "source": [
    "np.where(~np.isnan(ice_type[0]))"
   ]
  },
  {
   "cell_type": "code",
   "execution_count": null,
   "metadata": {},
   "outputs": [],
   "source": []
  }
 ],
 "metadata": {
  "kernelspec": {
   "display_name": "Python 3",
   "language": "python",
   "name": "python3"
  },
  "language_info": {
   "codemirror_mode": {
    "name": "ipython",
    "version": 3
   },
   "file_extension": ".py",
   "mimetype": "text/x-python",
   "name": "python",
   "nbconvert_exporter": "python",
   "pygments_lexer": "ipython3",
   "version": "3.6.7"
  }
 },
 "nbformat": 4,
 "nbformat_minor": 2
}
