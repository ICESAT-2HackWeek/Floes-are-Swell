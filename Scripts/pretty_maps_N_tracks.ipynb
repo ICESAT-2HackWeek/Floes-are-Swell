{
 "cells": [
  {
   "cell_type": "markdown",
   "metadata": {},
   "source": [
    "# Example of making a lovely map of SIC with a track on it\n",
    "note that you'll need to get ice_plot.py and readintoxr.py too\n",
    "\n"
   ]
  },
  {
   "cell_type": "code",
   "execution_count": 3,
   "metadata": {},
   "outputs": [],
   "source": [
    "#Magic function to enable interactive plotting in Jupyter notebook\n",
    "#Allows you to zoom/pan within plots after generating\n",
    "#Normally, this would be %matplotlib notebook, but since we're using Juptyerlab, we need a different widget\n",
    "#%matplotlib notebook\n",
    "%matplotlib inline"
   ]
  },
  {
   "cell_type": "code",
   "execution_count": 4,
   "metadata": {},
   "outputs": [
    {
     "ename": "ModuleNotFoundError",
     "evalue": "No module named 'ice_plot'",
     "output_type": "error",
     "traceback": [
      "\u001b[0;31m---------------------------------------------------------------------------\u001b[0m",
      "\u001b[0;31mModuleNotFoundError\u001b[0m                       Traceback (most recent call last)",
      "\u001b[0;32m<ipython-input-4-195dc1a36d7a>\u001b[0m in \u001b[0;36m<module>\u001b[0;34m\u001b[0m\n\u001b[1;32m     17\u001b[0m \u001b[0;32mimport\u001b[0m \u001b[0mxarray\u001b[0m \u001b[0;32mas\u001b[0m \u001b[0mxr\u001b[0m\u001b[0;34m\u001b[0m\u001b[0;34m\u001b[0m\u001b[0m\n\u001b[1;32m     18\u001b[0m \u001b[0;32mimport\u001b[0m \u001b[0mos\u001b[0m\u001b[0;34m\u001b[0m\u001b[0;34m\u001b[0m\u001b[0m\n\u001b[0;32m---> 19\u001b[0;31m \u001b[0;32mimport\u001b[0m \u001b[0mice_plot\u001b[0m\u001b[0;34m\u001b[0m\u001b[0;34m\u001b[0m\u001b[0m\n\u001b[0m\u001b[1;32m     20\u001b[0m \u001b[0;32mimport\u001b[0m \u001b[0mreadintoxr\u001b[0m\u001b[0;34m\u001b[0m\u001b[0;34m\u001b[0m\u001b[0m\n\u001b[1;32m     21\u001b[0m \u001b[0;34m\u001b[0m\u001b[0m\n",
      "\u001b[0;31mModuleNotFoundError\u001b[0m: No module named 'ice_plot'"
     ]
    }
   ],
   "source": [
    "import warnings\n",
    "warnings.filterwarnings('ignore')\n",
    "#Import necesary modules\n",
    "#Use shorter names (np, pd, plt) instead of full (numpy, pandas, matplotlib.pylot) for convenience\n",
    "import numpy as np\n",
    "import pandas as pd\n",
    "import matplotlib.pyplot as plt\n",
    "import matplotlib\n",
    "import seaborn as sns\n",
    "import cartopy.crs as ccrs\n",
    "import pandas as pd\n",
    "import numpy.ma as ma\n",
    "import h5py\n",
    "import s3fs\n",
    "import matplotlib.pyplot as plt\n",
    "import netCDF4\n",
    "import xarray as xr\n",
    "import os\n",
    "import ice_plot\n",
    "import readintoxr\n",
    "\n"
   ]
  },
  {
   "cell_type": "markdown",
   "metadata": {},
   "source": [
    "#### Beam selection   \n",
    "There are 6 beams to choose from in the ICESat-2 products (3 pairs of a strong and weak beam). The energy ratio between the weak and strong beams are  approximately 1:4 and are separated by 90 m in the across-track direction. The beam pairs are separated by ~3.3 km in the across-track direction, and the strong and weak beams are separated by ~2.5 km in the along-track direction."
   ]
  },
  {
   "cell_type": "code",
   "execution_count": null,
   "metadata": {},
   "outputs": [],
   "source": []
  },
  {
   "cell_type": "code",
   "execution_count": null,
   "metadata": {},
   "outputs": [],
   "source": []
  },
  {
   "cell_type": "markdown",
   "metadata": {},
   "source": [
    "#### chose a file to read, and set up some directories for where you've put stuff\n",
    "\n"
   ]
  },
  {
   "cell_type": "code",
   "execution_count": 1,
   "metadata": {},
   "outputs": [],
   "source": [
    "ATL07file='processed_ATL07-01_20181130235806_09680101_001_01.h5'\n",
    "ATL07file='processed_ATL07-01_20181206115828_10520101_001_01.h5'\n",
    "\n",
    "\n",
    "DataFilePath='/home/jovyan/DATA/ChrisH_processed/'\n",
    "fig_dir = '/home/jovyan/figures/'\n",
    "nrt_dir = '/home/jovyan/NSIDC_0081/'"
   ]
  },
  {
   "cell_type": "code",
   "execution_count": 21,
   "metadata": {},
   "outputs": [
    {
     "name": "stdout",
     "output_type": "stream",
     "text": [
      "\n",
      "\n",
      "Take a look at the dataset we made \n",
      "\n",
      "<xarray.Dataset>\n",
      "Dimensions:       (segs: 346966)\n",
      "Coordinates:\n",
      "    lon           (segs) float64 -0.5842 -0.5842 -0.5842 ... -165.2 -165.2\n",
      "    lat           (segs) float64 79.83 79.83 79.83 79.83 ... 71.08 71.08 71.08\n",
      "    time          (segs) datetime64[ns] 2018-12-06T11:57:46 ... 2018-12-06T12:05:20\n",
      "    delta_time    (segs) float64 2.933e+07 2.933e+07 ... 2.933e+07 2.933e+07\n",
      "    lon360        (segs) float64 359.4 359.4 359.4 359.4 ... 194.8 194.8 194.8\n",
      "  * segs          (segs) int64 0 1 2 3 4 ... 346961 346962 346963 346964 346965\n",
      "Data variables:\n",
      "    seg_dist      (segs) float64 8.92e+06 8.92e+06 ... 1.214e+07 1.214e+07\n",
      "    height        (segs) float32 3.4028235e+38 3.4028235e+38 ... 0.20854685\n",
      "    mss           (segs) float32 35.521385 35.521385 ... 0.009609258 0.009584308\n",
      "    seg_length    (segs) float32 8106.915 4052.4314 ... 24.175938 46.304184\n",
      "    quality_flag  (segs) int8 -1 -1 -1 -1 -1 -1 -1 -1 -1 ... 1 1 1 1 1 1 1 1 1\n",
      "    isita_lead    (segs) int8 0 0 0 0 0 0 0 0 0 0 0 0 ... 0 0 0 0 0 0 0 0 0 0 0\n",
      "\n",
      "\n",
      "Take a look at the dataset we made \n",
      "\n",
      "<xarray.Dataset>\n",
      "Dimensions:       (segs: 345130)\n",
      "Coordinates:\n",
      "    lon           (segs) float64 -0.7431 -0.743 -0.7432 ... -165.2 -165.2 -165.2\n",
      "    lat           (segs) float64 79.96 79.96 79.96 79.96 ... 71.08 71.08 71.08\n",
      "    time          (segs) datetime64[ns] 2018-12-06T11:57:48 ... 2018-12-06T12:05:20\n",
      "    delta_time    (segs) float64 2.933e+07 2.933e+07 ... 2.933e+07 2.933e+07\n",
      "    lon360        (segs) float64 359.3 359.3 359.3 359.3 ... 194.8 194.8 194.8\n",
      "  * segs          (segs) int64 0 1 2 3 4 ... 345125 345126 345127 345128 345129\n",
      "Data variables:\n",
      "    seg_dist      (segs) float64 8.934e+06 8.934e+06 ... 1.214e+07 1.214e+07\n",
      "    height        (segs) float32 0.23371899 0.2346084 ... 0.37502977 0.3750283\n",
      "    mss           (segs) float32 35.314575 35.3146 ... 0.009376544 0.009376543\n",
      "    seg_length    (segs) float32 215.49815 236.83794 ... 289.7271 289.7271\n",
      "    quality_flag  (segs) int8 1 1 1 1 1 1 1 1 1 1 1 1 ... 1 1 1 1 1 1 1 1 1 1 1\n",
      "    isita_lead    (segs) int8 0 0 0 0 0 0 0 0 0 0 0 0 ... 0 0 0 0 0 0 0 0 0 0 0\n"
     ]
    }
   ],
   "source": [
    "LocalFilePath=DataFilePath+ATL07file\n",
    "ds1r = readintoxr.MakeDataSet(LocalFilePath, beam = 'gt1r')\n",
    "ds1l = readintoxr.MakeDataSet(LocalFilePath, beam = 'gt1l')"
   ]
  },
  {
   "cell_type": "code",
   "execution_count": 11,
   "metadata": {},
   "outputs": [],
   "source": []
  },
  {
   "cell_type": "markdown",
   "metadata": {},
   "source": [
    "### Read in the obs, adjust the directories (see a few cells up) as needed"
   ]
  },
  {
   "cell_type": "code",
   "execution_count": 19,
   "metadata": {},
   "outputs": [
    {
     "name": "stdout",
     "output_type": "stream",
     "text": [
      "Get the Obs on this date  2018-12-06 /n/n\n",
      "<xarray.DataArray 'sic' (y: 448, x: 304)>\n",
      "dask.array<shape=(448, 304), dtype=float64, chunksize=(448, 304)>\n",
      "Coordinates:\n",
      "  * x          (x) int64 0 1 2 3 4 5 6 7 8 ... 296 297 298 299 300 301 302 303\n",
      "  * y          (y) int64 0 1 2 3 4 5 6 7 8 ... 440 441 442 443 444 445 446 447\n",
      "    hole_mask  (y, x) int8 0 0 0 0 0 0 0 0 0 0 0 0 0 ... 0 0 0 0 0 0 0 0 0 0 0 0\n",
      "    lat        (x, y) float64 31.1 31.25 31.4 31.55 ... 34.92 34.77 34.62 34.47\n",
      "    lon        (x, y) float64 168.3 168.4 168.5 168.7 ... -9.745 -9.872 -9.999\n",
      "    xm         (x) int64 -3850000 -3825000 -3800000 ... 3675000 3700000 3725000\n",
      "    ym         (y) int64 5850000 5825000 5800000 ... -5275000 -5300000 -5325000\n",
      "    time       <U10 '2018-12-06'\n"
     ]
    }
   ],
   "source": [
    "# Get recent observations NH only\n",
    "ds_81 = xr.open_mfdataset(nrt_dir+'/*.nc', concat_dim='time', autoclose=True, parallel=True)\n",
    "cd = ds1r.time[0].values  # get the first time in our track\n",
    "cd = pd.to_datetime(cd).strftime('%Y-%m-%d') # convert time format to get rid of seconds\n",
    "print('Get the Obs on this date ',cd, '/n/n')\n",
    "# convert time format of obs to match\n",
    "ds_81['time'] = pd.to_datetime(ds_81.time.values).strftime('%Y-%m-%d') \n",
    "\n",
    "# select the SIC for the day of our track\n",
    "obs = ds_81.sic.sel(time=cd)\n",
    "print(obs)\n"
   ]
  },
  {
   "cell_type": "code",
   "execution_count": 11,
   "metadata": {},
   "outputs": [],
   "source": []
  },
  {
   "cell_type": "code",
   "execution_count": 11,
   "metadata": {},
   "outputs": [],
   "source": [
    "### Map with the trac"
   ]
  },
  {
   "cell_type": "code",
   "execution_count": 2,
   "metadata": {},
   "outputs": [
    {
     "ename": "NameError",
     "evalue": "name 'matplotlib' is not defined",
     "output_type": "error",
     "traceback": [
      "\u001b[0;31m---------------------------------------------------------------------------\u001b[0m",
      "\u001b[0;31mNameError\u001b[0m                                 Traceback (most recent call last)",
      "\u001b[0;32m<ipython-input-2-644a358172d1>\u001b[0m in \u001b[0;36m<module>\u001b[0;34m\u001b[0m\n\u001b[1;32m      1\u001b[0m \u001b[0mcvar\u001b[0m\u001b[0;34m=\u001b[0m\u001b[0;34m'seg_length'\u001b[0m\u001b[0;34m\u001b[0m\u001b[0;34m\u001b[0m\u001b[0m\n\u001b[1;32m      2\u001b[0m \u001b[0;34m\u001b[0m\u001b[0m\n\u001b[0;32m----> 3\u001b[0;31m \u001b[0mcmap_c\u001b[0m \u001b[0;34m=\u001b[0m \u001b[0mmatplotlib\u001b[0m\u001b[0;34m.\u001b[0m\u001b[0mcolors\u001b[0m\u001b[0;34m.\u001b[0m\u001b[0mListedColormap\u001b[0m\u001b[0;34m(\u001b[0m\u001b[0msns\u001b[0m\u001b[0;34m.\u001b[0m\u001b[0mcolor_palette\u001b[0m\u001b[0;34m(\u001b[0m\u001b[0;34m\"Blues_r\"\u001b[0m\u001b[0;34m,\u001b[0m \u001b[0;36m10\u001b[0m\u001b[0;34m)\u001b[0m\u001b[0;34m)\u001b[0m\u001b[0;34m\u001b[0m\u001b[0;34m\u001b[0m\u001b[0m\n\u001b[0m\u001b[1;32m      4\u001b[0m \u001b[0mcmap_c\u001b[0m\u001b[0;34m.\u001b[0m\u001b[0mset_bad\u001b[0m\u001b[0;34m(\u001b[0m\u001b[0mcolor\u001b[0m \u001b[0;34m=\u001b[0m \u001b[0;34m'lightgrey'\u001b[0m\u001b[0;34m)\u001b[0m\u001b[0;34m\u001b[0m\u001b[0;34m\u001b[0m\u001b[0m\n\u001b[1;32m      5\u001b[0m \u001b[0;34m\u001b[0m\u001b[0m\n",
      "\u001b[0;31mNameError\u001b[0m: name 'matplotlib' is not defined"
     ]
    }
   ],
   "source": [
    "cvar='seg_length'\n",
    "\n",
    "cmap_c = matplotlib.colors.ListedColormap(sns.color_palette(\"Blues_r\", 10))\n",
    "cmap_c.set_bad(color = 'lightgrey')\n",
    "\n",
    "# can widen this or shift a bit \n",
    "central_extent = [-3850000*0.6, 3725000*0.6, -5325000*0.45, 5850000*0.45] # (x0, x1, y0, y1\n",
    "(f, axes) = ice_plot.multi_polar_axis(ncols=1, nrows=2, Nplots=2, sizefcter=5, extent=central_extent, central_longitude=0)\n",
    "\n",
    "i=0\n",
    "obs_h = obs.plot.pcolormesh(ax=axes[i], x='lon', y='lat', \n",
    "                      transform=ccrs.PlateCarree(),\n",
    "                      add_colorbar=False,\n",
    "                      cmap=cmap_c,\n",
    "                      vmin=0, vmax=1)\n",
    "\n",
    "da = ds1r[cvar]\n",
    "track=axes[i].scatter(ds1r.lon, ds1r.lat, c=da, cmap='viridis', transform=ccrs.PlateCarree(),vmin=0, vmax=200)\n",
    "\n",
    "f.colorbar(track, label=cvar, shrink=0.5, extend='both')\n",
    "\n",
    "cbar_ax = f.add_axes([0.55, 0.325, 0.015, 0.35])\n",
    "cbar = f.colorbar(obs_h, cax=cbar_ax, label='Sea Ice Concentration', orientation='vertical')\n",
    "\n",
    "\n",
    "f_out = os.path.join(fig_dir,ATL07file+'_seg_lengths.png')\n",
    "print(f_out)\n",
    "plt.savefig(f_out,bbox_inches='tight', dpi=200)"
   ]
  },
  {
   "cell_type": "code",
   "execution_count": 11,
   "metadata": {},
   "outputs": [],
   "source": []
  },
  {
   "cell_type": "markdown",
   "metadata": {},
   "source": [
    "### The rest is some gynmastics with xarray plotting and selecting"
   ]
  },
  {
   "cell_type": "code",
   "execution_count": 11,
   "metadata": {},
   "outputs": [
    {
     "data": {
      "image/png": "[encoded data removed]",
      "text/plain": [
       "<Figure size 432x288 with 1 Axes>"
      ]
     },
     "metadata": {
      "needs_background": "light"
     },
     "output_type": "display_data"
    }
   ],
   "source": [
    "ds1r.height.plot(x='lon')\n",
    "plt.ylim([0.,20.]);  # ugh there are some weird points"
   ]
  },
  {
   "cell_type": "code",
   "execution_count": 24,
   "metadata": {},
   "outputs": [
    {
     "name": "stdout",
     "output_type": "stream",
     "text": [
      "<xarray.DataArray 'height' (segs: 346966)>\n",
      "array([     nan,      nan,      nan, ..., 0.133968, 0.131038, 0.208547],\n",
      "      dtype=float32)\n",
      "Coordinates:\n",
      "    lon         (segs) float64 -0.5842 -0.5842 -0.5842 ... -165.2 -165.2 -165.2\n",
      "    lat         (segs) float64 79.83 79.83 79.83 79.83 ... 71.08 71.08 71.08\n",
      "    time        (segs) datetime64[ns] 2018-12-06T11:57:46 ... 2018-12-06T12:05:20\n",
      "    delta_time  (segs) float64 2.933e+07 2.933e+07 ... 2.933e+07 2.933e+07\n",
      "    lon360      (segs) float64 359.4 359.4 359.4 359.4 ... 194.8 194.8 194.8\n",
      "  * segs        (segs) int64 0 1 2 3 4 5 ... 346961 346962 346963 346964 346965\n"
     ]
    },
    {
     "data": {
      "text/plain": [
       "[<matplotlib.lines.Line2D at 0x7f78c95ad390>]"
      ]
     },
     "execution_count": 24,
     "metadata": {},
     "output_type": "execute_result"
    },
    {
     "data": {
      "image/png": "[encoded data removed]",
      "text/plain": [
       "<Figure size 432x288 with 1 Axes>"
      ]
     },
     "metadata": {
      "needs_background": "light"
     },
     "output_type": "display_data"
    }
   ],
   "source": [
    "igood = ds1r.height.values<20.0  # make an array of T/F where the conditions is met\n",
    "da_height_withnan = ds1r.height.where(igood)   # leaves nan where not true\n",
    "print(da_height_withnan) # notice the segs are same total #\n",
    "da_height_withnan.plot()"
   ]
  },
  {
   "cell_type": "code",
   "execution_count": 25,
   "metadata": {},
   "outputs": [
    {
     "name": "stdout",
     "output_type": "stream",
     "text": [
      "<xarray.DataArray 'height' (segs: 345815)>\n",
      "array([0.229414, 0.269694, 0.270873, ..., 0.133968, 0.131038, 0.208547],\n",
      "      dtype=float32)\n",
      "Coordinates:\n",
      "    lon         (segs) float64 -0.739 -0.7392 -0.7397 ... -165.2 -165.2 -165.2\n",
      "    lat         (segs) float64 79.96 79.96 79.96 79.96 ... 71.08 71.08 71.08\n",
      "    time        (segs) datetime64[ns] 2018-12-06T11:57:48 ... 2018-12-06T12:05:20\n",
      "    delta_time  (segs) float64 2.933e+07 2.933e+07 ... 2.933e+07 2.933e+07\n",
      "    lon360      (segs) float64 359.3 359.3 359.3 359.3 ... 194.8 194.8 194.8\n",
      "  * segs        (segs) int64 66 67 68 69 77 ... 346962 346963 346964 346965\n"
     ]
    },
    {
     "data": {
      "text/plain": [
       "[<matplotlib.lines.Line2D at 0x7f78c9676dd8>]"
      ]
     },
     "execution_count": 25,
     "metadata": {},
     "output_type": "execute_result"
    },
    {
     "data": {
      "image/png": "[encoded data removed]",
      "text/plain": [
       "<Figure size 432x288 with 1 Axes>"
      ]
     },
     "metadata": {
      "needs_background": "light"
     },
     "output_type": "display_data"
    }
   ],
   "source": [
    "da_height_nonan = ds1r.height[igood]         # eliminates where not true makes dataarray\n",
    "print(da_height_nonan) # notice there are fewer segs\n",
    "da_height_nonan.plot()"
   ]
  },
  {
   "cell_type": "code",
   "execution_count": null,
   "metadata": {},
   "outputs": [],
   "source": []
  },
  {
   "cell_type": "code",
   "execution_count": null,
   "metadata": {},
   "outputs": [],
   "source": []
  }
 ],
 "metadata": {
  "kernelspec": {
   "display_name": "Python 3",
   "language": "python",
   "name": "python3"
  },
  "language_info": {
   "codemirror_mode": {
    "name": "ipython",
    "version": 3
   },
   "file_extension": ".py",
   "mimetype": "text/x-python",
   "name": "python",
   "nbconvert_exporter": "python",
   "pygments_lexer": "ipython3",
   "version": "3.6.7"
  }
 },
 "nbformat": 4,
 "nbformat_minor": 2
}
