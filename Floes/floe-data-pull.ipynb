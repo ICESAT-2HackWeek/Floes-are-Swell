{
 "cells": [
  {
   "cell_type": "markdown",
   "metadata": {},
   "source": [
    "# Obtain Data from NSIDC DAAC - spatially/temporally subsetted to Bering Sea\n",
    "\n"
   ]
  },
  {
   "cell_type": "markdown",
   "metadata": {},
   "source": [
    "## Import packages\n"
   ]
  },
  {
   "cell_type": "code",
   "execution_count": 1,
   "metadata": {},
   "outputs": [],
   "source": [
    "import requests\n",
    "import getpass\n",
    "import socket\n",
    "import json\n",
    "import zipfile\n",
    "import io\n",
    "import math\n",
    "import os\n",
    "import shutil\n",
    "import pprint\n",
    "import time\n",
    "import geopandas as gpd\n",
    "import matplotlib.pyplot as plt\n",
    "import fiona\n",
    "import h5py\n",
    "import re\n",
    "# To read KML files with geopandas, we will need to enable KML support in fiona (disabled by default)\n",
    "fiona.drvsupport.supported_drivers['LIBKML'] = 'rw'\n",
    "from shapely.geometry import Polygon, mapping\n",
    "from shapely.geometry.polygon import orient\n",
    "from statistics import mean\n",
    "from requests.auth import HTTPBasicAuth"
   ]
  },
  {
   "cell_type": "code",
   "execution_count": 6,
   "metadata": {},
   "outputs": [
    {
     "name": "stdin",
     "output_type": "stream",
     "text": [
      "Earthdata Login password:  ·········\n"
     ]
    }
   ],
   "source": [
    "# Earthdata Login credentials\n",
    "\n",
    "# Enter your Earthdata Login user name\n",
    "uid = 'chorvat'\n",
    "# Enter your email address associated with your Earthdata Login account\n",
    "email = 'christopher_horvat@brown.edu'\n",
    "pswd = getpass.getpass('Earthdata Login password: ')"
   ]
  },
  {
   "cell_type": "code",
   "execution_count": 7,
   "metadata": {
    "attributes": {
     "classes": [],
     "id": "",
     "n": "3"
    }
   },
   "outputs": [
    {
     "name": "stdout",
     "output_type": "stream",
     "text": [
      "586CF0FE-BDA2-FD51-F1CB-814780A9DB3F\n"
     ]
    }
   ],
   "source": [
    "# Request token from Common Metadata Repository using Earthdata credentials\n",
    "token_api_url = 'https://cmr.earthdata.nasa.gov/legacy-services/rest/tokens'\n",
    "hostname = socket.gethostname()\n",
    "ip = socket.gethostbyname(hostname)\n",
    "\n",
    "data = {\n",
    "    'token': {\n",
    "        'username': uid,\n",
    "        'password': pswd,\n",
    "        'client_id': 'NSIDC_client_id',\n",
    "        'user_ip_address': ip\n",
    "    }\n",
    "}\n",
    "headers={'Accept': 'application/json'}\n",
    "response = requests.post(token_api_url, json=data, headers=headers)\n",
    "token = json.loads(response.content)['token']['id']\n",
    "print(token)\n",
    "#4351E4A7-9907-AEA1-82B3-FE2A36C88659"
   ]
  },
  {
   "cell_type": "code",
   "execution_count": 39,
   "metadata": {},
   "outputs": [],
   "source": [
    "# Input data set ID (e.g. ATL07) of interest here, also known as \"short name\".\n",
    "# We're gonna do this with the sea ice product. \n",
    "short_name = 'ATL07'\n",
    "latest_version = '001'"
   ]
  },
  {
   "cell_type": "code",
   "execution_count": 10,
   "metadata": {},
   "outputs": [],
   "source": [
    "# Get json response from CMR collection metadata and print results. This provides high-level metadata on a data set or \"collection\", provide in json format.\n",
    "\n",
    "params = {\n",
    "    'short_name': short_name\n",
    "}\n",
    "\n",
    "cmr_collections_url = 'https://cmr.earthdata.nasa.gov/search/collections.json'\n",
    "response = requests.get(cmr_collections_url, params=params)\n",
    "results = json.loads(response.content)"
   ]
  },
  {
   "cell_type": "markdown",
   "metadata": {},
   "source": [
    "#### Now that we have the most recent version of this data set, let's determine the number of granules available over our area and time of interest. According to the [CMR API documentation](https://cmr.earthdata.nasa.gov/search/site/docs/search/api.html#g-temporal), our time range must be given in `yyyy-MM-ddTHH:mm:ssZ` format."
   ]
  },
  {
   "cell_type": "code",
   "execution_count": 28,
   "metadata": {},
   "outputs": [
    {
     "name": "stdout",
     "output_type": "stream",
     "text": [
      "2018-12-01T00:00:00Z,2018-12-06T23:59:59Z\n"
     ]
    }
   ],
   "source": [
    "# Input temporal range \n",
    "\n",
    "# Input start date in yyyy-MM-dd format\n",
    "start_date = '2018-12-01'\n",
    "# Input start time in HH:mm:ss format\n",
    "start_time = '00:00:00'\n",
    "# Input end date in yyyy-MM-dd format\n",
    "end_date = '2018-12-06'\n",
    "# Input end time in HH:mm:ss format\n",
    "end_time = '23:59:59'\n",
    "\n",
    "temporal = start_date + 'T' + start_time + 'Z' + ',' + end_date + 'T' + end_time + 'Z'\n",
    "print(temporal)"
   ]
  },
  {
   "cell_type": "markdown",
   "metadata": {},
   "source": [
    "### Area of Interest input\n",
    "\n",
    "#### There are three different options for inputting an area of interest to be applied to our granule search:\n",
    "    1) Bounding Box \n",
    "    2) Polygon coordinate pairs \n",
    "    3) Spatial file input, including Esri Shapefile or KML/KMZ. "
   ]
  },
  {
   "cell_type": "markdown",
   "metadata": {},
   "source": [
    "#### For the bounding box option, enter information in the following cell. "
   ]
  },
  {
   "cell_type": "code",
   "execution_count": 29,
   "metadata": {},
   "outputs": [
    {
     "name": "stdout",
     "output_type": "stream",
     "text": [
      "180,60,-160,73\n"
     ]
    }
   ],
   "source": [
    "# # Commenting for tutorial since we will be walking through option 3 (spatial file input) together\n",
    "# # Bounding Box spatial parameter in 'W,S,E,N' format\n",
    "\n",
    "# # Input bounding box\n",
    "# # Input lower left longitude in decimal degrees\n",
    "LL_lon = '180'\n",
    "# # Input lower left latitude in decimal degrees\n",
    "LL_lat = '60'\n",
    "# # Input upper right longitude in decimal degrees\n",
    "UR_lon = '-160'\n",
    "# # Input upper right latitude in decimal degrees\n",
    "UR_lat = '73'\n",
    "\n",
    "bounding_box = LL_lon + ',' + LL_lat + ',' + UR_lon + ',' + UR_lat\n",
    "# # aoi value used for CMR params below\n",
    "aoi = '1'\n",
    "print(bounding_box)"
   ]
  },
  {
   "cell_type": "code",
   "execution_count": 40,
   "metadata": {},
   "outputs": [
    {
     "name": "stdout",
     "output_type": "stream",
     "text": [
      "CMR search parameters:  {'short_name': 'ATL07', 'version': '001', 'temporal': '2018-12-01T00:00:00Z,2018-12-06T23:59:59Z', 'page_size': 100, 'page_num': 1, 'bounding_box': '180,60,-160,73'}\n"
     ]
    }
   ],
   "source": [
    "#Create CMR parameters used for granule search. Modify params depending on bounding_box or polygon input.\n",
    "\n",
    "if aoi == '1':\n",
    "# bounding box input:\n",
    "    params = {\n",
    "    'short_name': short_name,\n",
    "    'version': latest_version,\n",
    "    'temporal': temporal,\n",
    "    'page_size': 100,\n",
    "    'page_num': 1,\n",
    "    'bounding_box': bounding_box\n",
    "    }\n",
    "    \n",
    "print('CMR search parameters: ', params)"
   ]
  },
  {
   "cell_type": "markdown",
   "metadata": {},
   "source": [
    "#### Input the parameter dictionary to the CMR granule search to query all granules that meet the criteria based on the granule metadata. Print the number of granules returned."
   ]
  },
  {
   "cell_type": "code",
   "execution_count": 31,
   "metadata": {},
   "outputs": [
    {
     "data": {
      "text/plain": [
       "20"
      ]
     },
     "execution_count": 31,
     "metadata": {},
     "output_type": "execute_result"
    }
   ],
   "source": [
    "# Query number of granules using our (paging over results)\n",
    "\n",
    "granule_search_url = 'https://cmr.earthdata.nasa.gov/search/granules'\n",
    "\n",
    "granules = []\n",
    "while True:\n",
    "    response = requests.get(granule_search_url, params=params, headers=headers)\n",
    "    results = json.loads(response.content)\n",
    "\n",
    "#    print(results)\n",
    "    \n",
    "    if len(results['feed']['entry']) == 0:\n",
    "        # Out of results, so break out of loop\n",
    "        break\n",
    "\n",
    "    # Collect results and increment page_num\n",
    "    granules.extend(results['feed']['entry'])\n",
    "    params['page_num'] += 1\n",
    "\n",
    "    \n",
    "# Get number of granules over my area and time of interest\n",
    "len(granules)\n"
   ]
  },
  {
   "cell_type": "markdown",
   "metadata": {},
   "source": [
    "#### We can view this in the [NASA Earthdata Search web interface](https://search.earthdata.nasa.gov/search/granules?polygon=-86.625%2C-74.900390625%2C-87.029296875%2C-74.6015625%2C-90.298828125%2C-74.021484375%2C-93.427734375%2C-73.93359375%2C-94.359375%2C-73.74023437500001%2C-96.767578125%2C-74.126953125%2C-100.107421875%2C-74.021484375%2C-100.828125%2C-74.37304687500001%2C-102.427734375%2C-74.49609375%2C-101.25%2C-74.70703125%2C-101.548828125%2C-75.02343750000001%2C-104.009765625%2C-75.515625%2C-102.357421875%2C-75.744140625%2C-101.28515625%2C-76.201171875%2C-101.197265625%2C-76.271484375%2C-101.443359375%2C-76.658203125%2C-101.03906250000001%2C-76.93945312500001%2C-96.521484375%2C-77.484375%2C-96.43359375%2C-77.677734375%2C-97.611328125%2C-78.029296875%2C-95.02734375%2C-78.591796875%2C-94.9921875%2C-78.732421875%2C-95.677734375%2C-78.99609375%2C-95.27343750000001%2C-79.119140625%2C-95.431640625%2C-79.2421875%2C-93.990234375%2C-79.611328125%2C-93.884765625%2C-79.875%2C-93.234375%2C-80.0859375%2C-91.705078125%2C-79.875%2C-91.810546875%2C-79.857421875%2C-91.494140625%2C-79.8046875%2C-91.458984375%2C-79.646484375%2C-90.43945312500001%2C-79.59375%2C-90.544921875%2C-79.55859375%2C-90.03515625%2C-79.2421875%2C-88.98046875%2C-79.083984375%2C-92.03906250000001%2C-78.416015625%2C-92.109375%2C-78.310546875%2C-90.73828125%2C-77.90625000000001%2C-92.390625%2C-77.501953125%2C-92.197265625%2C-77.37890625%2C-92.337890625%2C-77.203125%2C-91.01953125%2C-77.150390625%2C-91.880859375%2C-76.869140625%2C-87.064453125%2C-75.884765625%2C-86.87109375%2C-75.708984375%2C-87.08203125%2C-75.4453125%2C-86.607421875%2C-75.005859375%2C-86.625%2C-74.900390625&p=C1511847675-NSIDC_ECS!C1511847675-NSIDC_ECS&pg[1][v]=t&m=-74.09615279797836!-130.36684058200473!1!2!0!0%2C2&qt=2019-02-22T00%3A00%3A00.000Z%2C2019-02-22T23%3A59%3A59.000Z&q=atl06&ok=atl06&sf=5633090487), which relies on the same metadata, although their simplified polygon may differ slightly. With the same search criteria applied, we can view the same 4 granules of ATL06 over the glacier.\n"
   ]
  },
  {
   "cell_type": "markdown",
   "metadata": {},
   "source": [
    "#### Now query the average size of those granules: "
   ]
  },
  {
   "cell_type": "code",
   "execution_count": 32,
   "metadata": {},
   "outputs": [
    {
     "data": {
      "text/plain": [
       "163.0865790844"
      ]
     },
     "execution_count": 32,
     "metadata": {},
     "output_type": "execute_result"
    }
   ],
   "source": [
    "granule_sizes = [float(granule['granule_size']) for granule in granules]\n",
    "\n",
    "# Average size of granules in MB\n",
    "mean(granule_sizes)"
   ]
  },
  {
   "cell_type": "markdown",
   "metadata": {},
   "source": [
    "#### As well as the total volume:"
   ]
  },
  {
   "cell_type": "code",
   "execution_count": 33,
   "metadata": {},
   "outputs": [
    {
     "data": {
      "text/plain": [
       "3261.7315816879996"
      ]
     },
     "execution_count": 33,
     "metadata": {},
     "output_type": "execute_result"
    }
   ],
   "source": [
    "# Total volume in MB\n",
    "sum(granule_sizes)"
   ]
  },
  {
   "cell_type": "markdown",
   "metadata": {},
   "source": [
    "## Select the subsetting and reformatting services enabled for your data set of interest."
   ]
  },
  {
   "cell_type": "markdown",
   "metadata": {},
   "source": [
    "The NSIDC DAAC supports customization services on many of our NASA Earthdata mission collections. Reformatting and subsetting are available on all Level-2 and -3 ICESat-2 data sets. Let's discover the specific service options supported for this data set and select which of these services we want to request. \n",
    "\n",
    "We will start by querying the service capability to gather and select customization options."
   ]
  },
  {
   "cell_type": "code",
   "execution_count": 41,
   "metadata": {},
   "outputs": [
    {
     "name": "stdout",
     "output_type": "stream",
     "text": [
      "https://n5eil02u.ecs.nsidc.org/egi/capabilities/ATL07.001.xml\n"
     ]
    }
   ],
   "source": [
    "# Query service capability URL \n",
    "\n",
    "from xml.etree import ElementTree as ET\n",
    "\n",
    "capability_url = f'https://n5eil02u.ecs.nsidc.org/egi/capabilities/{short_name}.{latest_version}.xml'\n",
    "\n",
    "print(capability_url)"
   ]
  },
  {
   "cell_type": "markdown",
   "metadata": {},
   "source": [
    "All of NSIDC's service endpoints are behind NASA Earthdata Login. We need to create a session to store cookies and pass Earthdata Login credentials to capabilities url."
   ]
  },
  {
   "cell_type": "code",
   "execution_count": 42,
   "metadata": {},
   "outputs": [],
   "source": [
    "# Create session to store cookie and pass credentials to capabilities url\n",
    "\n",
    "session = requests.session()\n",
    "s = session.get(capability_url)\n",
    "response = session.get(s.url,auth=(uid,pswd))\n",
    "\n",
    "root = ET.fromstring(response.content)"
   ]
  },
  {
   "cell_type": "markdown",
   "metadata": {},
   "source": [
    "From the service capability XML, we can collect lists with each service option to gather service information."
   ]
  },
  {
   "cell_type": "code",
   "execution_count": 43,
   "metadata": {},
   "outputs": [],
   "source": [
    "# collect lists with each service option\n",
    "\n",
    "subagent = [subset_agent.attrib for subset_agent in root.iter('SubsetAgent')]\n",
    "\n",
    "# variable subsetting\n",
    "variables = [SubsetVariable.attrib for SubsetVariable in root.iter('SubsetVariable')]  \n",
    "variables_raw = [variables[i]['value'] for i in range(len(variables))]\n",
    "variables_join = [''.join(('/',v)) if v.startswith('/') == False else v for v in variables_raw] \n",
    "variable_vals = [v.replace(':', '/') for v in variables_join]\n",
    "\n",
    "# reformatting\n",
    "formats = [Format.attrib for Format in root.iter('Format')]\n",
    "format_vals = [formats[i]['value'] for i in range(len(formats))]\n",
    "format_vals.remove('')\n",
    "\n",
    "# reprojection only applicable on ICESat-2 L3B products, yet to be available. \n",
    "\n",
    "# reformatting options that support reprojection\n",
    "normalproj = [Projections.attrib for Projections in root.iter('Projections')]\n",
    "normalproj_vals = []\n",
    "normalproj_vals.append(normalproj[0]['normalProj'])\n",
    "format_proj = normalproj_vals[0].split(',')\n",
    "format_proj.remove('')\n",
    "format_proj.append('No reformatting')\n",
    "\n",
    "#reprojection options\n",
    "projections = [Projection.attrib for Projection in root.iter('Projection')]\n",
    "proj_vals = []\n",
    "for i in range(len(projections)):\n",
    "    if (projections[i]['value']) != 'NO_CHANGE' :\n",
    "        proj_vals.append(projections[i]['value'])\n",
    "        \n",
    "# reformatting options that do not support reprojection\n",
    "no_proj = [i for i in format_vals if i not in format_proj]"
   ]
  },
  {
   "cell_type": "markdown",
   "metadata": {},
   "source": [
    "#### Let's confirm that subset services exist for our data set by reviewing the `subagent` list. If the list contains service information, we know that services are available. If not, we need to set the `agent` API parameter to `NO` to indicate that our request will bypass the subsetter. This will quickly send back the data \"natively\" without any customization applied."
   ]
  },
  {
   "cell_type": "code",
   "execution_count": 44,
   "metadata": {},
   "outputs": [
    {
     "name": "stdout",
     "output_type": "stream",
     "text": [
      "[{'id': 'ICESAT2', 'spatialSubsetting': 'true', 'spatialSubsettingShapefile': 'true', 'temporalSubsetting': 'true', 'type': 'both', 'maxGransSyncRequest': '100', 'maxGransAsyncRequest': '2000'}]\n"
     ]
    }
   ],
   "source": [
    "print(subagent)\n",
    "if len(subagent) < 1 :\n",
    "    agent = 'NO'"
   ]
  },
  {
   "cell_type": "markdown",
   "metadata": {},
   "source": [
    "More information is contained in the subagent list, including the maximum number of granules that we can request per order depending on our configuration. We'll come back to these options below."
   ]
  },
  {
   "cell_type": "markdown",
   "metadata": {},
   "source": [
    "### We'll begin populating the subsetting and reformatting parameters used for our NSIDC API request. In addition to the CMR information we queried above, the NSIDC API accepts Key-Value-Pairs (KVPs) for subsetting and reformatting services."
   ]
  },
  {
   "cell_type": "markdown",
   "metadata": {},
   "source": [
    "#### Let's start with spatial subsetting. Recall that there are three options to *filter* our search results by spatial constraint: \n",
    "\n",
    "1) Bounding Box: Corresponding to the CMR `bounding_box` KVP\n",
    "\n",
    "2) Polygon coordinate pairs: Corresponding to the CMR `polygon` KVP\n",
    "\n",
    "3) Spatial file input, including Esri Shapefile or KML/KMZ: We simplified the file input to also be read by the CMR `polygon` KVP \n",
    "    \n",
    "#### We see above that `spatialSubsetting` is `true` and `spatialSubsettingShapefile` is `true`. Therefore the same *filtering* options can be applied to our *subset* constraint, with unique KVPs for the subsetting service:\n",
    "\n",
    "1) Bounding Box: `bbox` subset KVP\n",
    "\n",
    "2) Polygon coordinate pairs: `bounding_shape` subset KVP in [GeoJSON](https://geojson.org/) format. \n",
    "\n",
    "3) Spatial file input: The file can be read directly by the subsetter without simplification. This file will be posted to the API endpoint, so we don't need to specify an additional subset KVP here. "
   ]
  },
  {
   "cell_type": "markdown",
   "metadata": {},
   "source": [
    "#### Because we're pursuing option 3), we don't need to provide an additional subset parameter. Below is commented code for bounding box inputs."
   ]
  },
  {
   "cell_type": "code",
   "execution_count": 45,
   "metadata": {},
   "outputs": [],
   "source": [
    "# Bounding box subsetting (bbox) in same format as bounding_box\n",
    "\n",
    "bbox = bounding_box"
   ]
  },
  {
   "cell_type": "markdown",
   "metadata": {},
   "source": [
    "#### Temporal subsetting is next, since we saw above that `temporalSubsetting` is `true`. We filtered data over 22 Feb 2019 and we can also subset the data to those dates if desired. \n",
    "\n",
    "The `time` KVP is used to subset temporally. This can be entered in the following formats:\n",
    "\n",
    "`time=yyyy-mm-dd,yyyy-mm-dd`\n",
    "\n",
    "`time=yyy-mm-ddThh:MM:ss,yyy-mm-ddThh:MM:ss` "
   ]
  },
  {
   "cell_type": "code",
   "execution_count": 46,
   "metadata": {},
   "outputs": [
    {
     "name": "stdout",
     "output_type": "stream",
     "text": [
      "2018-12-01T00:00:00,2018-12-06T23:59:59\n"
     ]
    }
   ],
   "source": [
    "# Temporal subsetting KVP\n",
    "\n",
    "timevar = start_date + 'T' + start_time + ',' + end_date + 'T' + end_time\n",
    "print(timevar)"
   ]
  },
  {
   "cell_type": "markdown",
   "metadata": {},
   "source": [
    "#### Next, let's explore the reformatting options available.\n"
   ]
  },
  {
   "cell_type": "code",
   "execution_count": 47,
   "metadata": {},
   "outputs": [
    {
     "name": "stdout",
     "output_type": "stream",
     "text": [
      "['NetCDF-3', 'NetCDF4-CF', 'TABULAR_ASCII']\n"
     ]
    }
   ],
   "source": [
    "print(format_vals)"
   ]
  },
  {
   "cell_type": "markdown",
   "metadata": {},
   "source": [
    "These options can be inputted into the API request exactly as printed in the list, with quotes removed, using the `format=` Key-Value-Pair. For example:\n",
    "\n",
    "`format=TABULAR_ASCII`\n",
    "\n",
    "We will be exploring the data in its native HDF5 format so we won't pursue this option in this tutorial. "
   ]
  },
  {
   "cell_type": "markdown",
   "metadata": {},
   "source": [
    "#### Reprojection options will be available on the gridded ICESat-2 L3B data sets. Let's confirm that no reprojection options exist:"
   ]
  },
  {
   "cell_type": "code",
   "execution_count": 48,
   "metadata": {},
   "outputs": [
    {
     "name": "stdout",
     "output_type": "stream",
     "text": [
      "[]\n"
     ]
    }
   ],
   "source": [
    "print(proj_vals)"
   ]
  },
  {
   "cell_type": "markdown",
   "metadata": {},
   "source": [
    "#### Finally, let's determine if variable subsetting is available by finding the length of the `variable_vals` list we gathered from the capabilities URL. "
   ]
  },
  {
   "cell_type": "code",
   "execution_count": null,
   "metadata": {},
   "outputs": [],
   "source": [
    "len(variable_vals)"
   ]
  },
  {
   "cell_type": "markdown",
   "metadata": {},
   "source": [
    "We can view the entire list of variables if desired:"
   ]
  },
  {
   "cell_type": "code",
   "execution_count": 49,
   "metadata": {},
   "outputs": [
    {
     "name": "stdout",
     "output_type": "stream",
     "text": [
      "['/ancillary_data',\n",
      " '/ancillary_data/atlas_sdp_gps_epoch',\n",
      " '/ancillary_data/control',\n",
      " '/ancillary_data/data_end_utc',\n",
      " '/ancillary_data/data_start_utc',\n",
      " '/ancillary_data/end_cycle',\n",
      " '/ancillary_data/end_delta_time',\n",
      " '/ancillary_data/end_geoseg',\n",
      " '/ancillary_data/end_gpssow',\n",
      " '/ancillary_data/end_gpsweek',\n",
      " '/ancillary_data/end_orbit',\n",
      " '/ancillary_data/end_region',\n",
      " '/ancillary_data/end_rgt',\n",
      " '/ancillary_data/granule_end_utc',\n",
      " '/ancillary_data/granule_start_utc',\n",
      " '/ancillary_data/qa_at_interval',\n",
      " '/ancillary_data/release',\n",
      " '/ancillary_data/start_cycle',\n",
      " '/ancillary_data/start_delta_time',\n",
      " '/ancillary_data/start_geoseg',\n",
      " '/ancillary_data/start_gpssow',\n",
      " '/ancillary_data/start_gpsweek',\n",
      " '/ancillary_data/start_orbit',\n",
      " '/ancillary_data/start_region',\n",
      " '/ancillary_data/start_rgt',\n",
      " '/ancillary_data/version',\n",
      " '/ancillary_data/coarse_surface_finding',\n",
      " '/ancillary_data/coarse_surface_finding/bin_c',\n",
      " '/ancillary_data/coarse_surface_finding/coarse_lb_wins',\n",
      " '/ancillary_data/coarse_surface_finding/coarse_ub_wins',\n",
      " '/ancillary_data/coarse_surface_finding/l',\n",
      " '/ancillary_data/coarse_surface_finding/n_ph_min',\n",
      " '/ancillary_data/coarse_surface_finding/si_conc_min',\n",
      " '/ancillary_data/coarse_surface_finding/th_d_bot',\n",
      " '/ancillary_data/coarse_surface_finding/th_d_top',\n",
      " '/ancillary_data/coarse_surface_finding/th_fm',\n",
      " '/ancillary_data/coarse_surface_finding/th_pc',\n",
      " '/ancillary_data/coarse_surface_finding/th_tc',\n",
      " '/ancillary_data/fine_surface_finding',\n",
      " '/ancillary_data/fine_surface_finding/bin_f',\n",
      " '/ancillary_data/fine_surface_finding/delta_h_tab',\n",
      " '/ancillary_data/fine_surface_finding/delta_w_tab',\n",
      " '/ancillary_data/fine_surface_finding/h_diff_limit',\n",
      " '/ancillary_data/fine_surface_finding/lb_h_tab',\n",
      " '/ancillary_data/fine_surface_finding/lb_oc_switch_strong',\n",
      " '/ancillary_data/fine_surface_finding/lb_oc_switch_weak',\n",
      " '/ancillary_data/fine_surface_finding/lb_win_s',\n",
      " '/ancillary_data/fine_surface_finding/lb_w_tab',\n",
      " '/ancillary_data/fine_surface_finding/n_photon_min',\n",
      " '/ancillary_data/fine_surface_finding/n_photon_trim',\n",
      " '/ancillary_data/fine_surface_finding/n_s',\n",
      " '/ancillary_data/fine_surface_finding/n_spec_scale',\n",
      " '/ancillary_data/fine_surface_finding/n_specular',\n",
      " '/ancillary_data/fine_surface_finding/n_w',\n",
      " '/ancillary_data/fine_surface_finding/overlap_switch',\n",
      " '/ancillary_data/fine_surface_finding/tep_used_gt1_strong',\n",
      " '/ancillary_data/fine_surface_finding/tep_used_gt1_weak',\n",
      " '/ancillary_data/fine_surface_finding/tep_used_gt2_strong',\n",
      " '/ancillary_data/fine_surface_finding/tep_used_gt2_weak',\n",
      " '/ancillary_data/fine_surface_finding/tep_used_gt3_strong',\n",
      " '/ancillary_data/fine_surface_finding/tep_used_gt3_weak',\n",
      " '/ancillary_data/fine_surface_finding/ub_h_tab',\n",
      " '/ancillary_data/fine_surface_finding/ub_length_strong',\n",
      " '/ancillary_data/fine_surface_finding/ub_length_weak',\n",
      " '/ancillary_data/fine_surface_finding/ub_oc_switch_strong',\n",
      " '/ancillary_data/fine_surface_finding/ub_oc_switch_weak',\n",
      " '/ancillary_data/fine_surface_finding/ub_win_s',\n",
      " '/ancillary_data/fine_surface_finding/ub_w_tab',\n",
      " '/ancillary_data/sea_ice',\n",
      " '/ancillary_data/sea_ice/geoseg_max',\n",
      " '/ancillary_data/sea_ice/geoseg_min',\n",
      " '/ancillary_data/sea_ice/proc_beam_pair1',\n",
      " '/ancillary_data/sea_ice/proc_beam_pair2',\n",
      " '/ancillary_data/sea_ice/proc_beam_pair3',\n",
      " '/ancillary_data/sea_ice/proc_interval',\n",
      " '/ancillary_data/sea_ice/region',\n",
      " '/ancillary_data/surface_classification',\n",
      " '/ancillary_data/surface_classification/b1',\n",
      " '/ancillary_data/surface_classification/beam_gain',\n",
      " '/ancillary_data/surface_classification/height_pct',\n",
      " '/ancillary_data/surface_classification/p1',\n",
      " '/ancillary_data/surface_classification/p2',\n",
      " '/ancillary_data/surface_classification/p3',\n",
      " '/ancillary_data/surface_classification/p4',\n",
      " '/ancillary_data/surface_classification/theta_cntl',\n",
      " '/ancillary_data/surface_classification/theta_nlb',\n",
      " '/ancillary_data/surface_classification/theta_ref',\n",
      " '/ancillary_data/surface_classification/w1',\n",
      " '/ancillary_data/surface_classification/w2',\n",
      " '/gt1l',\n",
      " '/gt1l/sea_ice_segments',\n",
      " '/gt1l/sea_ice_segments/delta_time',\n",
      " '/gt1l/sea_ice_segments/geoseg_beg',\n",
      " '/gt1l/sea_ice_segments/geoseg_end',\n",
      " '/gt1l/sea_ice_segments/height_segment_id',\n",
      " '/gt1l/sea_ice_segments/latitude',\n",
      " '/gt1l/sea_ice_segments/longitude',\n",
      " '/gt1l/sea_ice_segments/seg_dist_x',\n",
      " '/gt1l/sea_ice_segments/geolocation',\n",
      " '/gt1l/sea_ice_segments/geolocation/beam_azimuth',\n",
      " '/gt1l/sea_ice_segments/geolocation/beam_coelev',\n",
      " '/gt1l/sea_ice_segments/geolocation/ref_atm_delay',\n",
      " '/gt1l/sea_ice_segments/geolocation/ref_atm_delay_derivative',\n",
      " '/gt1l/sea_ice_segments/geolocation/rgt',\n",
      " '/gt1l/sea_ice_segments/geolocation/sigma_h',\n",
      " '/gt1l/sea_ice_segments/geolocation/sigma_lat',\n",
      " '/gt1l/sea_ice_segments/geolocation/sigma_lon',\n",
      " '/gt1l/sea_ice_segments/geolocation/solar_azimuth',\n",
      " '/gt1l/sea_ice_segments/geolocation/solar_elevation',\n",
      " '/gt1l/sea_ice_segments/geophysical',\n",
      " '/gt1l/sea_ice_segments/geophysical/height_segment_dac',\n",
      " '/gt1l/sea_ice_segments/geophysical/height_segment_earth',\n",
      " '/gt1l/sea_ice_segments/geophysical/height_segment_geoid',\n",
      " '/gt1l/sea_ice_segments/geophysical/height_segment_ib',\n",
      " '/gt1l/sea_ice_segments/geophysical/height_segment_load',\n",
      " '/gt1l/sea_ice_segments/geophysical/height_segment_mss',\n",
      " '/gt1l/sea_ice_segments/geophysical/height_segment_ocean',\n",
      " '/gt1l/sea_ice_segments/geophysical/height_segment_pole',\n",
      " '/gt1l/sea_ice_segments/geophysical/height_segment_ps',\n",
      " '/gt1l/sea_ice_segments/geophysical/height_segment_t2m',\n",
      " '/gt1l/sea_ice_segments/geophysical/height_segment_u2m',\n",
      " '/gt1l/sea_ice_segments/geophysical/height_segment_v2m',\n",
      " '/gt1l/sea_ice_segments/heights',\n",
      " '/gt1l/sea_ice_segments/heights/across_track_distance',\n",
      " '/gt1l/sea_ice_segments/heights/height_segment_asr_calc',\n",
      " '/gt1l/sea_ice_segments/heights/height_segment_confidence',\n",
      " '/gt1l/sea_ice_segments/heights/height_segment_fit_quality_flag',\n",
      " '/gt1l/sea_ice_segments/heights/height_segment_height',\n",
      " '/gt1l/sea_ice_segments/heights/height_segment_htcorr_skew',\n",
      " '/gt1l/sea_ice_segments/heights/height_segment_length_seg',\n",
      " '/gt1l/sea_ice_segments/heights/height_segment_n_pulse_seg',\n",
      " '/gt1l/sea_ice_segments/heights/height_segment_quality',\n",
      " '/gt1l/sea_ice_segments/heights/height_segment_rms',\n",
      " '/gt1l/sea_ice_segments/heights/height_segment_ssh_flag',\n",
      " '/gt1l/sea_ice_segments/heights/height_segment_surface_error_est',\n",
      " '/gt1l/sea_ice_segments/heights/height_segment_type',\n",
      " '/gt1l/sea_ice_segments/heights/height_segment_w_gaussian',\n",
      " '/gt1l/sea_ice_segments/stats',\n",
      " '/gt1l/sea_ice_segments/stats/asr_25',\n",
      " '/gt1l/sea_ice_segments/stats/backgr_calc',\n",
      " '/gt1l/sea_ice_segments/stats/background_int_height',\n",
      " '/gt1l/sea_ice_segments/stats/background_r_norm',\n",
      " '/gt1l/sea_ice_segments/stats/backgr_r_200',\n",
      " '/gt1l/sea_ice_segments/stats/backgr_r_25',\n",
      " '/gt1l/sea_ice_segments/stats/bsnow_con',\n",
      " '/gt1l/sea_ice_segments/stats/bsnow_h',\n",
      " '/gt1l/sea_ice_segments/stats/cloud_flag_asr',\n",
      " '/gt1l/sea_ice_segments/stats/cloud_flag_atm',\n",
      " '/gt1l/sea_ice_segments/stats/ds_si_hist_bins',\n",
      " '/gt1l/sea_ice_segments/stats/exmax_mean_1',\n",
      " '/gt1l/sea_ice_segments/stats/exmax_mean_2',\n",
      " '/gt1l/sea_ice_segments/stats/exmax_mix',\n",
      " '/gt1l/sea_ice_segments/stats/exmax_stdev_1',\n",
      " '/gt1l/sea_ice_segments/stats/exmax_stdev_2',\n",
      " '/gt1l/sea_ice_segments/stats/fpb_avg_dt',\n",
      " '/gt1l/sea_ice_segments/stats/fpb_corr',\n",
      " '/gt1l/sea_ice_segments/stats/fpb_corr_width',\n",
      " '/gt1l/sea_ice_segments/stats/fpb_strength',\n",
      " '/gt1l/sea_ice_segments/stats/height_coarse_mn',\n",
      " '/gt1l/sea_ice_segments/stats/height_coarse_stdev',\n",
      " '/gt1l/sea_ice_segments/stats/height_filter_05',\n",
      " '/gt1l/sea_ice_segments/stats/height_filter_min',\n",
      " '/gt1l/sea_ice_segments/stats/hist_mean_h',\n",
      " '/gt1l/sea_ice_segments/stats/hist_median_h',\n",
      " '/gt1l/sea_ice_segments/stats/hist_photon_bin_size',\n",
      " '/gt1l/sea_ice_segments/stats/hist_photon_bottom',\n",
      " '/gt1l/sea_ice_segments/stats/hist_photon_heights',\n",
      " '/gt1l/sea_ice_segments/stats/hist_photon_top',\n",
      " '/gt1l/sea_ice_segments/stats/hist_w',\n",
      " '/gt1l/sea_ice_segments/stats/ice_conc',\n",
      " '/gt1l/sea_ice_segments/stats/layer_flag',\n",
      " '/gt1l/sea_ice_segments/stats/msw_flag',\n",
      " '/gt1l/sea_ice_segments/stats/n_photons_actual',\n",
      " '/gt1l/sea_ice_segments/stats/n_photons_define',\n",
      " '/gt1l/sea_ice_segments/stats/n_photons_used',\n",
      " '/gt1l/sea_ice_segments/stats/photon_rate',\n",
      " '/gt1l/sea_ice_segments/stats/trim_height_bottom',\n",
      " '/gt1l/sea_ice_segments/stats/trim_height_top',\n",
      " '/gt1r',\n",
      " '/gt1r/sea_ice_segments',\n",
      " '/gt1r/sea_ice_segments/delta_time',\n",
      " '/gt1r/sea_ice_segments/geoseg_beg',\n",
      " '/gt1r/sea_ice_segments/geoseg_end',\n",
      " '/gt1r/sea_ice_segments/height_segment_id',\n",
      " '/gt1r/sea_ice_segments/latitude',\n",
      " '/gt1r/sea_ice_segments/longitude',\n",
      " '/gt1r/sea_ice_segments/seg_dist_x',\n",
      " '/gt1r/sea_ice_segments/geolocation',\n",
      " '/gt1r/sea_ice_segments/geolocation/beam_azimuth',\n",
      " '/gt1r/sea_ice_segments/geolocation/beam_coelev',\n",
      " '/gt1r/sea_ice_segments/geolocation/ref_atm_delay',\n",
      " '/gt1r/sea_ice_segments/geolocation/ref_atm_delay_derivative',\n",
      " '/gt1r/sea_ice_segments/geolocation/rgt',\n",
      " '/gt1r/sea_ice_segments/geolocation/sigma_h',\n",
      " '/gt1r/sea_ice_segments/geolocation/sigma_lat',\n",
      " '/gt1r/sea_ice_segments/geolocation/sigma_lon',\n",
      " '/gt1r/sea_ice_segments/geolocation/solar_azimuth',\n",
      " '/gt1r/sea_ice_segments/geolocation/solar_elevation',\n",
      " '/gt1r/sea_ice_segments/geophysical',\n",
      " '/gt1r/sea_ice_segments/geophysical/height_segment_dac',\n",
      " '/gt1r/sea_ice_segments/geophysical/height_segment_earth',\n",
      " '/gt1r/sea_ice_segments/geophysical/height_segment_geoid',\n",
      " '/gt1r/sea_ice_segments/geophysical/height_segment_ib',\n",
      " '/gt1r/sea_ice_segments/geophysical/height_segment_load',\n",
      " '/gt1r/sea_ice_segments/geophysical/height_segment_mss',\n",
      " '/gt1r/sea_ice_segments/geophysical/height_segment_ocean',\n",
      " '/gt1r/sea_ice_segments/geophysical/height_segment_pole',\n",
      " '/gt1r/sea_ice_segments/geophysical/height_segment_ps',\n",
      " '/gt1r/sea_ice_segments/geophysical/height_segment_t2m',\n",
      " '/gt1r/sea_ice_segments/geophysical/height_segment_u2m',\n",
      " '/gt1r/sea_ice_segments/geophysical/height_segment_v2m',\n",
      " '/gt1r/sea_ice_segments/heights',\n",
      " '/gt1r/sea_ice_segments/heights/across_track_distance',\n",
      " '/gt1r/sea_ice_segments/heights/height_segment_asr_calc',\n",
      " '/gt1r/sea_ice_segments/heights/height_segment_confidence',\n",
      " '/gt1r/sea_ice_segments/heights/height_segment_fit_quality_flag',\n",
      " '/gt1r/sea_ice_segments/heights/height_segment_height',\n",
      " '/gt1r/sea_ice_segments/heights/height_segment_htcorr_skew',\n",
      " '/gt1r/sea_ice_segments/heights/height_segment_length_seg',\n",
      " '/gt1r/sea_ice_segments/heights/height_segment_n_pulse_seg',\n",
      " '/gt1r/sea_ice_segments/heights/height_segment_quality',\n",
      " '/gt1r/sea_ice_segments/heights/height_segment_rms',\n",
      " '/gt1r/sea_ice_segments/heights/height_segment_ssh_flag',\n",
      " '/gt1r/sea_ice_segments/heights/height_segment_surface_error_est',\n",
      " '/gt1r/sea_ice_segments/heights/height_segment_type',\n",
      " '/gt1r/sea_ice_segments/heights/height_segment_w_gaussian',\n",
      " '/gt1r/sea_ice_segments/stats',\n",
      " '/gt1r/sea_ice_segments/stats/asr_25',\n",
      " '/gt1r/sea_ice_segments/stats/backgr_calc',\n",
      " '/gt1r/sea_ice_segments/stats/background_int_height',\n",
      " '/gt1r/sea_ice_segments/stats/background_r_norm',\n",
      " '/gt1r/sea_ice_segments/stats/backgr_r_200',\n",
      " '/gt1r/sea_ice_segments/stats/backgr_r_25',\n",
      " '/gt1r/sea_ice_segments/stats/bsnow_con',\n",
      " '/gt1r/sea_ice_segments/stats/bsnow_h',\n",
      " '/gt1r/sea_ice_segments/stats/cloud_flag_asr',\n",
      " '/gt1r/sea_ice_segments/stats/cloud_flag_atm',\n",
      " '/gt1r/sea_ice_segments/stats/ds_si_hist_bins',\n",
      " '/gt1r/sea_ice_segments/stats/exmax_mean_1',\n",
      " '/gt1r/sea_ice_segments/stats/exmax_mean_2',\n",
      " '/gt1r/sea_ice_segments/stats/exmax_mix',\n",
      " '/gt1r/sea_ice_segments/stats/exmax_stdev_1',\n",
      " '/gt1r/sea_ice_segments/stats/exmax_stdev_2',\n",
      " '/gt1r/sea_ice_segments/stats/fpb_avg_dt',\n",
      " '/gt1r/sea_ice_segments/stats/fpb_corr',\n",
      " '/gt1r/sea_ice_segments/stats/fpb_corr_width',\n",
      " '/gt1r/sea_ice_segments/stats/fpb_strength',\n",
      " '/gt1r/sea_ice_segments/stats/height_coarse_mn',\n",
      " '/gt1r/sea_ice_segments/stats/height_coarse_stdev',\n",
      " '/gt1r/sea_ice_segments/stats/height_filter_05',\n",
      " '/gt1r/sea_ice_segments/stats/height_filter_min',\n",
      " '/gt1r/sea_ice_segments/stats/hist_mean_h',\n",
      " '/gt1r/sea_ice_segments/stats/hist_median_h',\n",
      " '/gt1r/sea_ice_segments/stats/hist_photon_bin_size',\n",
      " '/gt1r/sea_ice_segments/stats/hist_photon_bottom',\n",
      " '/gt1r/sea_ice_segments/stats/hist_photon_heights',\n",
      " '/gt1r/sea_ice_segments/stats/hist_photon_top',\n",
      " '/gt1r/sea_ice_segments/stats/hist_w',\n",
      " '/gt1r/sea_ice_segments/stats/ice_conc',\n",
      " '/gt1r/sea_ice_segments/stats/layer_flag',\n",
      " '/gt1r/sea_ice_segments/stats/msw_flag',\n",
      " '/gt1r/sea_ice_segments/stats/n_photons_actual',\n",
      " '/gt1r/sea_ice_segments/stats/n_photons_define',\n",
      " '/gt1r/sea_ice_segments/stats/n_photons_used',\n",
      " '/gt1r/sea_ice_segments/stats/photon_rate',\n",
      " '/gt1r/sea_ice_segments/stats/trim_height_bottom',\n",
      " '/gt1r/sea_ice_segments/stats/trim_height_top',\n",
      " '/gt2l',\n",
      " '/gt2l/sea_ice_segments',\n",
      " '/gt2l/sea_ice_segments/delta_time',\n",
      " '/gt2l/sea_ice_segments/geoseg_beg',\n",
      " '/gt2l/sea_ice_segments/geoseg_end',\n",
      " '/gt2l/sea_ice_segments/height_segment_id',\n",
      " '/gt2l/sea_ice_segments/latitude',\n",
      " '/gt2l/sea_ice_segments/longitude',\n",
      " '/gt2l/sea_ice_segments/seg_dist_x',\n",
      " '/gt2l/sea_ice_segments/geolocation',\n",
      " '/gt2l/sea_ice_segments/geolocation/beam_azimuth',\n",
      " '/gt2l/sea_ice_segments/geolocation/beam_coelev',\n",
      " '/gt2l/sea_ice_segments/geolocation/ref_atm_delay',\n",
      " '/gt2l/sea_ice_segments/geolocation/ref_atm_delay_derivative',\n",
      " '/gt2l/sea_ice_segments/geolocation/rgt',\n",
      " '/gt2l/sea_ice_segments/geolocation/sigma_h',\n",
      " '/gt2l/sea_ice_segments/geolocation/sigma_lat',\n",
      " '/gt2l/sea_ice_segments/geolocation/sigma_lon',\n",
      " '/gt2l/sea_ice_segments/geolocation/solar_azimuth',\n",
      " '/gt2l/sea_ice_segments/geolocation/solar_elevation',\n",
      " '/gt2l/sea_ice_segments/geophysical',\n",
      " '/gt2l/sea_ice_segments/geophysical/height_segment_dac',\n",
      " '/gt2l/sea_ice_segments/geophysical/height_segment_earth',\n",
      " '/gt2l/sea_ice_segments/geophysical/height_segment_geoid',\n",
      " '/gt2l/sea_ice_segments/geophysical/height_segment_ib',\n",
      " '/gt2l/sea_ice_segments/geophysical/height_segment_load',\n",
      " '/gt2l/sea_ice_segments/geophysical/height_segment_mss',\n",
      " '/gt2l/sea_ice_segments/geophysical/height_segment_ocean',\n",
      " '/gt2l/sea_ice_segments/geophysical/height_segment_pole',\n",
      " '/gt2l/sea_ice_segments/geophysical/height_segment_ps',\n",
      " '/gt2l/sea_ice_segments/geophysical/height_segment_t2m',\n",
      " '/gt2l/sea_ice_segments/geophysical/height_segment_u2m',\n",
      " '/gt2l/sea_ice_segments/geophysical/height_segment_v2m',\n",
      " '/gt2l/sea_ice_segments/heights',\n",
      " '/gt2l/sea_ice_segments/heights/across_track_distance',\n",
      " '/gt2l/sea_ice_segments/heights/height_segment_asr_calc',\n",
      " '/gt2l/sea_ice_segments/heights/height_segment_confidence',\n",
      " '/gt2l/sea_ice_segments/heights/height_segment_fit_quality_flag',\n",
      " '/gt2l/sea_ice_segments/heights/height_segment_height',\n",
      " '/gt2l/sea_ice_segments/heights/height_segment_htcorr_skew',\n",
      " '/gt2l/sea_ice_segments/heights/height_segment_length_seg',\n",
      " '/gt2l/sea_ice_segments/heights/height_segment_n_pulse_seg',\n",
      " '/gt2l/sea_ice_segments/heights/height_segment_quality',\n",
      " '/gt2l/sea_ice_segments/heights/height_segment_rms',\n",
      " '/gt2l/sea_ice_segments/heights/height_segment_ssh_flag',\n",
      " '/gt2l/sea_ice_segments/heights/height_segment_surface_error_est',\n",
      " '/gt2l/sea_ice_segments/heights/height_segment_type',\n",
      " '/gt2l/sea_ice_segments/heights/height_segment_w_gaussian',\n",
      " '/gt2l/sea_ice_segments/stats',\n",
      " '/gt2l/sea_ice_segments/stats/asr_25',\n",
      " '/gt2l/sea_ice_segments/stats/backgr_calc',\n",
      " '/gt2l/sea_ice_segments/stats/background_int_height',\n",
      " '/gt2l/sea_ice_segments/stats/background_r_norm',\n",
      " '/gt2l/sea_ice_segments/stats/backgr_r_200',\n",
      " '/gt2l/sea_ice_segments/stats/backgr_r_25',\n",
      " '/gt2l/sea_ice_segments/stats/bsnow_con',\n",
      " '/gt2l/sea_ice_segments/stats/bsnow_h',\n",
      " '/gt2l/sea_ice_segments/stats/cloud_flag_asr',\n",
      " '/gt2l/sea_ice_segments/stats/cloud_flag_atm',\n",
      " '/gt2l/sea_ice_segments/stats/ds_si_hist_bins',\n",
      " '/gt2l/sea_ice_segments/stats/exmax_mean_1',\n",
      " '/gt2l/sea_ice_segments/stats/exmax_mean_2',\n",
      " '/gt2l/sea_ice_segments/stats/exmax_mix',\n",
      " '/gt2l/sea_ice_segments/stats/exmax_stdev_1',\n",
      " '/gt2l/sea_ice_segments/stats/exmax_stdev_2',\n",
      " '/gt2l/sea_ice_segments/stats/fpb_avg_dt',\n",
      " '/gt2l/sea_ice_segments/stats/fpb_corr',\n",
      " '/gt2l/sea_ice_segments/stats/fpb_corr_width',\n",
      " '/gt2l/sea_ice_segments/stats/fpb_strength',\n",
      " '/gt2l/sea_ice_segments/stats/height_coarse_mn',\n",
      " '/gt2l/sea_ice_segments/stats/height_coarse_stdev',\n",
      " '/gt2l/sea_ice_segments/stats/height_filter_05',\n",
      " '/gt2l/sea_ice_segments/stats/height_filter_min',\n",
      " '/gt2l/sea_ice_segments/stats/hist_mean_h',\n",
      " '/gt2l/sea_ice_segments/stats/hist_median_h',\n",
      " '/gt2l/sea_ice_segments/stats/hist_photon_bin_size',\n",
      " '/gt2l/sea_ice_segments/stats/hist_photon_bottom',\n",
      " '/gt2l/sea_ice_segments/stats/hist_photon_heights',\n",
      " '/gt2l/sea_ice_segments/stats/hist_photon_top',\n",
      " '/gt2l/sea_ice_segments/stats/hist_w',\n",
      " '/gt2l/sea_ice_segments/stats/ice_conc',\n",
      " '/gt2l/sea_ice_segments/stats/layer_flag',\n",
      " '/gt2l/sea_ice_segments/stats/msw_flag',\n",
      " '/gt2l/sea_ice_segments/stats/n_photons_actual',\n",
      " '/gt2l/sea_ice_segments/stats/n_photons_define',\n",
      " '/gt2l/sea_ice_segments/stats/n_photons_used',\n",
      " '/gt2l/sea_ice_segments/stats/photon_rate',\n",
      " '/gt2l/sea_ice_segments/stats/trim_height_bottom',\n",
      " '/gt2l/sea_ice_segments/stats/trim_height_top',\n",
      " '/gt2r',\n",
      " '/gt2r/sea_ice_segments',\n",
      " '/gt2r/sea_ice_segments/delta_time',\n",
      " '/gt2r/sea_ice_segments/geoseg_beg',\n",
      " '/gt2r/sea_ice_segments/geoseg_end',\n",
      " '/gt2r/sea_ice_segments/height_segment_id',\n",
      " '/gt2r/sea_ice_segments/latitude',\n",
      " '/gt2r/sea_ice_segments/longitude',\n",
      " '/gt2r/sea_ice_segments/seg_dist_x',\n",
      " '/gt2r/sea_ice_segments/geolocation',\n",
      " '/gt2r/sea_ice_segments/geolocation/beam_azimuth',\n",
      " '/gt2r/sea_ice_segments/geolocation/beam_coelev',\n",
      " '/gt2r/sea_ice_segments/geolocation/ref_atm_delay',\n",
      " '/gt2r/sea_ice_segments/geolocation/ref_atm_delay_derivative',\n",
      " '/gt2r/sea_ice_segments/geolocation/rgt',\n",
      " '/gt2r/sea_ice_segments/geolocation/sigma_h',\n",
      " '/gt2r/sea_ice_segments/geolocation/sigma_lat',\n",
      " '/gt2r/sea_ice_segments/geolocation/sigma_lon',\n",
      " '/gt2r/sea_ice_segments/geolocation/solar_azimuth',\n",
      " '/gt2r/sea_ice_segments/geolocation/solar_elevation',\n",
      " '/gt2r/sea_ice_segments/geophysical',\n",
      " '/gt2r/sea_ice_segments/geophysical/height_segment_dac',\n",
      " '/gt2r/sea_ice_segments/geophysical/height_segment_earth',\n",
      " '/gt2r/sea_ice_segments/geophysical/height_segment_geoid',\n",
      " '/gt2r/sea_ice_segments/geophysical/height_segment_ib',\n",
      " '/gt2r/sea_ice_segments/geophysical/height_segment_load',\n",
      " '/gt2r/sea_ice_segments/geophysical/height_segment_mss',\n",
      " '/gt2r/sea_ice_segments/geophysical/height_segment_ocean',\n",
      " '/gt2r/sea_ice_segments/geophysical/height_segment_pole',\n",
      " '/gt2r/sea_ice_segments/geophysical/height_segment_ps',\n",
      " '/gt2r/sea_ice_segments/geophysical/height_segment_t2m',\n",
      " '/gt2r/sea_ice_segments/geophysical/height_segment_u2m',\n",
      " '/gt2r/sea_ice_segments/geophysical/height_segment_v2m',\n",
      " '/gt2r/sea_ice_segments/heights',\n",
      " '/gt2r/sea_ice_segments/heights/across_track_distance',\n",
      " '/gt2r/sea_ice_segments/heights/height_segment_asr_calc',\n",
      " '/gt2r/sea_ice_segments/heights/height_segment_confidence',\n",
      " '/gt2r/sea_ice_segments/heights/height_segment_fit_quality_flag',\n",
      " '/gt2r/sea_ice_segments/heights/height_segment_height',\n",
      " '/gt2r/sea_ice_segments/heights/height_segment_htcorr_skew',\n",
      " '/gt2r/sea_ice_segments/heights/height_segment_length_seg',\n",
      " '/gt2r/sea_ice_segments/heights/height_segment_n_pulse_seg',\n",
      " '/gt2r/sea_ice_segments/heights/height_segment_quality',\n",
      " '/gt2r/sea_ice_segments/heights/height_segment_rms',\n",
      " '/gt2r/sea_ice_segments/heights/height_segment_ssh_flag',\n",
      " '/gt2r/sea_ice_segments/heights/height_segment_surface_error_est',\n",
      " '/gt2r/sea_ice_segments/heights/height_segment_type',\n",
      " '/gt2r/sea_ice_segments/heights/height_segment_w_gaussian',\n",
      " '/gt2r/sea_ice_segments/stats',\n",
      " '/gt2r/sea_ice_segments/stats/asr_25',\n",
      " '/gt2r/sea_ice_segments/stats/backgr_calc',\n",
      " '/gt2r/sea_ice_segments/stats/background_int_height',\n",
      " '/gt2r/sea_ice_segments/stats/background_r_norm',\n",
      " '/gt2r/sea_ice_segments/stats/backgr_r_200',\n",
      " '/gt2r/sea_ice_segments/stats/backgr_r_25',\n",
      " '/gt2r/sea_ice_segments/stats/bsnow_con',\n",
      " '/gt2r/sea_ice_segments/stats/bsnow_h',\n",
      " '/gt2r/sea_ice_segments/stats/cloud_flag_asr',\n",
      " '/gt2r/sea_ice_segments/stats/cloud_flag_atm',\n",
      " '/gt2r/sea_ice_segments/stats/ds_si_hist_bins',\n",
      " '/gt2r/sea_ice_segments/stats/exmax_mean_1',\n",
      " '/gt2r/sea_ice_segments/stats/exmax_mean_2',\n",
      " '/gt2r/sea_ice_segments/stats/exmax_mix',\n",
      " '/gt2r/sea_ice_segments/stats/exmax_stdev_1',\n",
      " '/gt2r/sea_ice_segments/stats/exmax_stdev_2',\n",
      " '/gt2r/sea_ice_segments/stats/fpb_avg_dt',\n",
      " '/gt2r/sea_ice_segments/stats/fpb_corr',\n",
      " '/gt2r/sea_ice_segments/stats/fpb_corr_width',\n",
      " '/gt2r/sea_ice_segments/stats/fpb_strength',\n",
      " '/gt2r/sea_ice_segments/stats/height_coarse_mn',\n",
      " '/gt2r/sea_ice_segments/stats/height_coarse_stdev',\n",
      " '/gt2r/sea_ice_segments/stats/height_filter_05',\n",
      " '/gt2r/sea_ice_segments/stats/height_filter_min',\n",
      " '/gt2r/sea_ice_segments/stats/hist_mean_h',\n",
      " '/gt2r/sea_ice_segments/stats/hist_median_h',\n",
      " '/gt2r/sea_ice_segments/stats/hist_photon_bin_size',\n",
      " '/gt2r/sea_ice_segments/stats/hist_photon_bottom',\n",
      " '/gt2r/sea_ice_segments/stats/hist_photon_heights',\n",
      " '/gt2r/sea_ice_segments/stats/hist_photon_top',\n",
      " '/gt2r/sea_ice_segments/stats/hist_w',\n",
      " '/gt2r/sea_ice_segments/stats/ice_conc',\n",
      " '/gt2r/sea_ice_segments/stats/layer_flag',\n",
      " '/gt2r/sea_ice_segments/stats/msw_flag',\n",
      " '/gt2r/sea_ice_segments/stats/n_photons_actual',\n",
      " '/gt2r/sea_ice_segments/stats/n_photons_define',\n",
      " '/gt2r/sea_ice_segments/stats/n_photons_used',\n",
      " '/gt2r/sea_ice_segments/stats/photon_rate',\n",
      " '/gt2r/sea_ice_segments/stats/trim_height_bottom',\n",
      " '/gt2r/sea_ice_segments/stats/trim_height_top',\n",
      " '/gt3l',\n",
      " '/gt3l/sea_ice_segments',\n",
      " '/gt3l/sea_ice_segments/delta_time',\n",
      " '/gt3l/sea_ice_segments/geoseg_beg',\n",
      " '/gt3l/sea_ice_segments/geoseg_end',\n",
      " '/gt3l/sea_ice_segments/height_segment_id',\n",
      " '/gt3l/sea_ice_segments/latitude',\n",
      " '/gt3l/sea_ice_segments/longitude',\n",
      " '/gt3l/sea_ice_segments/seg_dist_x',\n",
      " '/gt3l/sea_ice_segments/geolocation',\n",
      " '/gt3l/sea_ice_segments/geolocation/beam_azimuth',\n",
      " '/gt3l/sea_ice_segments/geolocation/beam_coelev',\n",
      " '/gt3l/sea_ice_segments/geolocation/ref_atm_delay',\n",
      " '/gt3l/sea_ice_segments/geolocation/ref_atm_delay_derivative',\n",
      " '/gt3l/sea_ice_segments/geolocation/rgt',\n",
      " '/gt3l/sea_ice_segments/geolocation/sigma_h',\n",
      " '/gt3l/sea_ice_segments/geolocation/sigma_lat',\n",
      " '/gt3l/sea_ice_segments/geolocation/sigma_lon',\n",
      " '/gt3l/sea_ice_segments/geolocation/solar_azimuth',\n",
      " '/gt3l/sea_ice_segments/geolocation/solar_elevation',\n",
      " '/gt3l/sea_ice_segments/geophysical',\n",
      " '/gt3l/sea_ice_segments/geophysical/height_segment_dac',\n",
      " '/gt3l/sea_ice_segments/geophysical/height_segment_earth',\n",
      " '/gt3l/sea_ice_segments/geophysical/height_segment_geoid',\n",
      " '/gt3l/sea_ice_segments/geophysical/height_segment_ib',\n",
      " '/gt3l/sea_ice_segments/geophysical/height_segment_load',\n",
      " '/gt3l/sea_ice_segments/geophysical/height_segment_mss',\n",
      " '/gt3l/sea_ice_segments/geophysical/height_segment_ocean',\n",
      " '/gt3l/sea_ice_segments/geophysical/height_segment_pole',\n",
      " '/gt3l/sea_ice_segments/geophysical/height_segment_ps',\n",
      " '/gt3l/sea_ice_segments/geophysical/height_segment_t2m',\n",
      " '/gt3l/sea_ice_segments/geophysical/height_segment_u2m',\n",
      " '/gt3l/sea_ice_segments/geophysical/height_segment_v2m',\n",
      " '/gt3l/sea_ice_segments/heights',\n",
      " '/gt3l/sea_ice_segments/heights/across_track_distance',\n",
      " '/gt3l/sea_ice_segments/heights/height_segment_asr_calc',\n",
      " '/gt3l/sea_ice_segments/heights/height_segment_confidence',\n",
      " '/gt3l/sea_ice_segments/heights/height_segment_fit_quality_flag',\n",
      " '/gt3l/sea_ice_segments/heights/height_segment_height',\n",
      " '/gt3l/sea_ice_segments/heights/height_segment_htcorr_skew',\n",
      " '/gt3l/sea_ice_segments/heights/height_segment_length_seg',\n",
      " '/gt3l/sea_ice_segments/heights/height_segment_n_pulse_seg',\n",
      " '/gt3l/sea_ice_segments/heights/height_segment_quality',\n",
      " '/gt3l/sea_ice_segments/heights/height_segment_rms',\n",
      " '/gt3l/sea_ice_segments/heights/height_segment_ssh_flag',\n",
      " '/gt3l/sea_ice_segments/heights/height_segment_surface_error_est',\n",
      " '/gt3l/sea_ice_segments/heights/height_segment_type',\n",
      " '/gt3l/sea_ice_segments/heights/height_segment_w_gaussian',\n",
      " '/gt3l/sea_ice_segments/stats',\n",
      " '/gt3l/sea_ice_segments/stats/asr_25',\n",
      " '/gt3l/sea_ice_segments/stats/backgr_calc',\n",
      " '/gt3l/sea_ice_segments/stats/background_int_height',\n",
      " '/gt3l/sea_ice_segments/stats/background_r_norm',\n",
      " '/gt3l/sea_ice_segments/stats/backgr_r_200',\n",
      " '/gt3l/sea_ice_segments/stats/backgr_r_25',\n",
      " '/gt3l/sea_ice_segments/stats/bsnow_con',\n",
      " '/gt3l/sea_ice_segments/stats/bsnow_h',\n",
      " '/gt3l/sea_ice_segments/stats/cloud_flag_asr',\n",
      " '/gt3l/sea_ice_segments/stats/cloud_flag_atm',\n",
      " '/gt3l/sea_ice_segments/stats/ds_si_hist_bins',\n",
      " '/gt3l/sea_ice_segments/stats/exmax_mean_1',\n",
      " '/gt3l/sea_ice_segments/stats/exmax_mean_2',\n",
      " '/gt3l/sea_ice_segments/stats/exmax_mix',\n",
      " '/gt3l/sea_ice_segments/stats/exmax_stdev_1',\n",
      " '/gt3l/sea_ice_segments/stats/exmax_stdev_2',\n",
      " '/gt3l/sea_ice_segments/stats/fpb_avg_dt',\n",
      " '/gt3l/sea_ice_segments/stats/fpb_corr',\n",
      " '/gt3l/sea_ice_segments/stats/fpb_corr_width',\n",
      " '/gt3l/sea_ice_segments/stats/fpb_strength',\n",
      " '/gt3l/sea_ice_segments/stats/height_coarse_mn',\n",
      " '/gt3l/sea_ice_segments/stats/height_coarse_stdev',\n",
      " '/gt3l/sea_ice_segments/stats/height_filter_05',\n",
      " '/gt3l/sea_ice_segments/stats/height_filter_min',\n",
      " '/gt3l/sea_ice_segments/stats/hist_mean_h',\n",
      " '/gt3l/sea_ice_segments/stats/hist_median_h',\n",
      " '/gt3l/sea_ice_segments/stats/hist_photon_bin_size',\n",
      " '/gt3l/sea_ice_segments/stats/hist_photon_bottom',\n",
      " '/gt3l/sea_ice_segments/stats/hist_photon_heights',\n",
      " '/gt3l/sea_ice_segments/stats/hist_photon_top',\n",
      " '/gt3l/sea_ice_segments/stats/hist_w',\n",
      " '/gt3l/sea_ice_segments/stats/ice_conc',\n",
      " '/gt3l/sea_ice_segments/stats/layer_flag',\n",
      " '/gt3l/sea_ice_segments/stats/msw_flag',\n",
      " '/gt3l/sea_ice_segments/stats/n_photons_actual',\n",
      " '/gt3l/sea_ice_segments/stats/n_photons_define',\n",
      " '/gt3l/sea_ice_segments/stats/n_photons_used',\n",
      " '/gt3l/sea_ice_segments/stats/photon_rate',\n",
      " '/gt3l/sea_ice_segments/stats/trim_height_bottom',\n",
      " '/gt3l/sea_ice_segments/stats/trim_height_top',\n",
      " '/gt3r',\n",
      " '/gt3r/sea_ice_segments',\n",
      " '/gt3r/sea_ice_segments/delta_time',\n",
      " '/gt3r/sea_ice_segments/geoseg_beg',\n",
      " '/gt3r/sea_ice_segments/geoseg_end',\n",
      " '/gt3r/sea_ice_segments/height_segment_id',\n",
      " '/gt3r/sea_ice_segments/latitude',\n",
      " '/gt3r/sea_ice_segments/longitude',\n",
      " '/gt3r/sea_ice_segments/seg_dist_x',\n",
      " '/gt3r/sea_ice_segments/geolocation',\n",
      " '/gt3r/sea_ice_segments/geolocation/beam_azimuth',\n",
      " '/gt3r/sea_ice_segments/geolocation/beam_coelev',\n",
      " '/gt3r/sea_ice_segments/geolocation/ref_atm_delay',\n",
      " '/gt3r/sea_ice_segments/geolocation/ref_atm_delay_derivative',\n",
      " '/gt3r/sea_ice_segments/geolocation/rgt',\n",
      " '/gt3r/sea_ice_segments/geolocation/sigma_h',\n",
      " '/gt3r/sea_ice_segments/geolocation/sigma_lat',\n",
      " '/gt3r/sea_ice_segments/geolocation/sigma_lon',\n",
      " '/gt3r/sea_ice_segments/geolocation/solar_azimuth',\n",
      " '/gt3r/sea_ice_segments/geolocation/solar_elevation',\n",
      " '/gt3r/sea_ice_segments/geophysical',\n",
      " '/gt3r/sea_ice_segments/geophysical/height_segment_dac',\n",
      " '/gt3r/sea_ice_segments/geophysical/height_segment_earth',\n",
      " '/gt3r/sea_ice_segments/geophysical/height_segment_geoid',\n",
      " '/gt3r/sea_ice_segments/geophysical/height_segment_ib',\n",
      " '/gt3r/sea_ice_segments/geophysical/height_segment_load',\n",
      " '/gt3r/sea_ice_segments/geophysical/height_segment_mss',\n",
      " '/gt3r/sea_ice_segments/geophysical/height_segment_ocean',\n",
      " '/gt3r/sea_ice_segments/geophysical/height_segment_pole',\n",
      " '/gt3r/sea_ice_segments/geophysical/height_segment_ps',\n",
      " '/gt3r/sea_ice_segments/geophysical/height_segment_t2m',\n",
      " '/gt3r/sea_ice_segments/geophysical/height_segment_u2m',\n",
      " '/gt3r/sea_ice_segments/geophysical/height_segment_v2m',\n",
      " '/gt3r/sea_ice_segments/heights',\n",
      " '/gt3r/sea_ice_segments/heights/across_track_distance',\n",
      " '/gt3r/sea_ice_segments/heights/height_segment_asr_calc',\n",
      " '/gt3r/sea_ice_segments/heights/height_segment_confidence',\n",
      " '/gt3r/sea_ice_segments/heights/height_segment_fit_quality_flag',\n",
      " '/gt3r/sea_ice_segments/heights/height_segment_height',\n",
      " '/gt3r/sea_ice_segments/heights/height_segment_htcorr_skew',\n",
      " '/gt3r/sea_ice_segments/heights/height_segment_length_seg',\n",
      " '/gt3r/sea_ice_segments/heights/height_segment_n_pulse_seg',\n",
      " '/gt3r/sea_ice_segments/heights/height_segment_quality',\n",
      " '/gt3r/sea_ice_segments/heights/height_segment_rms',\n",
      " '/gt3r/sea_ice_segments/heights/height_segment_ssh_flag',\n",
      " '/gt3r/sea_ice_segments/heights/height_segment_surface_error_est',\n",
      " '/gt3r/sea_ice_segments/heights/height_segment_type',\n",
      " '/gt3r/sea_ice_segments/heights/height_segment_w_gaussian',\n",
      " '/gt3r/sea_ice_segments/stats',\n",
      " '/gt3r/sea_ice_segments/stats/asr_25',\n",
      " '/gt3r/sea_ice_segments/stats/backgr_calc',\n",
      " '/gt3r/sea_ice_segments/stats/background_int_height',\n",
      " '/gt3r/sea_ice_segments/stats/background_r_norm',\n",
      " '/gt3r/sea_ice_segments/stats/backgr_r_200',\n",
      " '/gt3r/sea_ice_segments/stats/backgr_r_25',\n",
      " '/gt3r/sea_ice_segments/stats/bsnow_con',\n",
      " '/gt3r/sea_ice_segments/stats/bsnow_h',\n",
      " '/gt3r/sea_ice_segments/stats/cloud_flag_asr',\n",
      " '/gt3r/sea_ice_segments/stats/cloud_flag_atm',\n",
      " '/gt3r/sea_ice_segments/stats/ds_si_hist_bins',\n",
      " '/gt3r/sea_ice_segments/stats/exmax_mean_1',\n",
      " '/gt3r/sea_ice_segments/stats/exmax_mean_2',\n",
      " '/gt3r/sea_ice_segments/stats/exmax_mix',\n",
      " '/gt3r/sea_ice_segments/stats/exmax_stdev_1',\n",
      " '/gt3r/sea_ice_segments/stats/exmax_stdev_2',\n",
      " '/gt3r/sea_ice_segments/stats/fpb_avg_dt',\n",
      " '/gt3r/sea_ice_segments/stats/fpb_corr',\n",
      " '/gt3r/sea_ice_segments/stats/fpb_corr_width',\n",
      " '/gt3r/sea_ice_segments/stats/fpb_strength',\n",
      " '/gt3r/sea_ice_segments/stats/height_coarse_mn',\n",
      " '/gt3r/sea_ice_segments/stats/height_coarse_stdev',\n",
      " '/gt3r/sea_ice_segments/stats/height_filter_05',\n",
      " '/gt3r/sea_ice_segments/stats/height_filter_min',\n",
      " '/gt3r/sea_ice_segments/stats/hist_mean_h',\n",
      " '/gt3r/sea_ice_segments/stats/hist_median_h',\n",
      " '/gt3r/sea_ice_segments/stats/hist_photon_bin_size',\n",
      " '/gt3r/sea_ice_segments/stats/hist_photon_bottom',\n",
      " '/gt3r/sea_ice_segments/stats/hist_photon_heights',\n",
      " '/gt3r/sea_ice_segments/stats/hist_photon_top',\n",
      " '/gt3r/sea_ice_segments/stats/hist_w',\n",
      " '/gt3r/sea_ice_segments/stats/ice_conc',\n",
      " '/gt3r/sea_ice_segments/stats/layer_flag',\n",
      " '/gt3r/sea_ice_segments/stats/msw_flag',\n",
      " '/gt3r/sea_ice_segments/stats/n_photons_actual',\n",
      " '/gt3r/sea_ice_segments/stats/n_photons_define',\n",
      " '/gt3r/sea_ice_segments/stats/n_photons_used',\n",
      " '/gt3r/sea_ice_segments/stats/photon_rate',\n",
      " '/gt3r/sea_ice_segments/stats/trim_height_bottom',\n",
      " '/gt3r/sea_ice_segments/stats/trim_height_top',\n",
      " '/orbit_info',\n",
      " '/orbit_info/crossing_time',\n",
      " '/orbit_info/cycle_number',\n",
      " '/orbit_info/lan',\n",
      " '/orbit_info/orbit_number',\n",
      " '/orbit_info/rgt',\n",
      " '/orbit_info/sc_orient',\n",
      " '/orbit_info/sc_orient_time',\n",
      " '/quality_assessment',\n",
      " '/quality_assessment/qa_granule_fail_reason',\n",
      " '/quality_assessment/qa_granule_pass_fail']\n"
     ]
    }
   ],
   "source": [
    "pprint.pprint(variable_vals)"
   ]
  },
  {
   "cell_type": "code",
   "execution_count": null,
   "metadata": {},
   "outputs": [],
   "source": []
  },
  {
   "cell_type": "code",
   "execution_count": null,
   "metadata": {},
   "outputs": [],
   "source": []
  },
  {
   "cell_type": "markdown",
   "metadata": {},
   "source": [
    "And we can enter a list of variables to subset separated by comma using the `coverage` key. All forward slashes need to be included to indicate HDF group hierarchy."
   ]
  },
  {
   "cell_type": "code",
   "execution_count": 70,
   "metadata": {},
   "outputs": [],
   "source": [
    "coverage = '/ancillary_data/atlas_sdp_gps_epoch,\\\n",
    "/gt1l/sea_ice_segments/delta_time,\\\n",
    "/gt1l/sea_ice_segments/latitude,\\\n",
    "/gt1l/sea_ice_segments/longitude,\\\n",
    "/gt1l/sea_ice_segments/seg_dist_x,\\\n",
    "/gt1l/sea_ice_segments/heights/across_track_distance,\\\n",
    "/gt1l/sea_ice_segments/heights/height_segment_height,\\\n",
    "/gt1l/sea_ice_segments/heights/height_segment_fit_quality_flag,\\\n",
    "/gt1l/sea_ice_segments/stats/ice_conc,\\\n",
    "/gt1r/sea_ice_segments/delta_time,\\\n",
    "/gt1r/sea_ice_segments/latitude,\\\n",
    "/gt1r/sea_ice_segments/longitude,\\\n",
    "/gt1r/sea_ice_segments/seg_dist_x,\\\n",
    "/gt1r/sea_ice_segments/heights/across_track_distance,\\\n",
    "/gt1r/sea_ice_segments/heights/height_segment_height,\\\n",
    "/gt1r/sea_ice_segments/heights/height_segment_fit_quality_flag,\\\n",
    "/gt1r/sea_ice_segments/stats/ice_conc,\\\n",
    "/gt2l/sea_ice_segments/delta_time,\\\n",
    "/gt2l/sea_ice_segments/latitude,\\\n",
    "/gt2l/sea_ice_segments/longitude,\\\n",
    "/gt2l/sea_ice_segments/seg_dist_x,\\\n",
    "/gt2l/sea_ice_segments/heights/across_track_distance,\\\n",
    "/gt2l/sea_ice_segments/heights/height_segment_height,\\\n",
    "/gt2l/sea_ice_segments/heights/height_segment_fit_quality_flag,\\\n",
    "/gt2l/sea_ice_segments/stats/ice_conc,\\\n",
    "/gt2r/sea_ice_segments/delta_time,\\\n",
    "/gt2r/sea_ice_segments/latitude,\\\n",
    "/gt2r/sea_ice_segments/longitude,\\\n",
    "/gt2r/sea_ice_segments/seg_dist_x,\\\n",
    "/gt2r/sea_ice_segments/heights/across_track_distance,\\\n",
    "/gt2r/sea_ice_segments/heights/height_segment_height,\\\n",
    "/gt2r/sea_ice_segments/heights/height_segment_fit_quality_flag,\\\n",
    "/gt2r/sea_ice_segments/stats/ice_conc,\\\n",
    "/gt3l/sea_ice_segments/delta_time,\\\n",
    "/gt3l/sea_ice_segments/latitude,\\\n",
    "/gt3l/sea_ice_segments/longitude,\\\n",
    "/gt3l/sea_ice_segments/seg_dist_x,\\\n",
    "/gt3l/sea_ice_segments/heights/across_track_distance,\\\n",
    "/gt3l/sea_ice_segments/heights/height_segment_height,\\\n",
    "/gt3l/sea_ice_segments/heights/height_segment_fit_quality_flag,\\\n",
    "/gt3l/sea_ice_segments/stats/ice_conc,\\\n",
    "/gt3r/sea_ice_segments/delta_time,\\\n",
    "/gt3r/sea_ice_segments/latitude,\\\n",
    "/gt3r/sea_ice_segments/longitude,\\\n",
    "/gt3r/sea_ice_segments/seg_dist_x,\\\n",
    "/gt3r/sea_ice_segments/heights/across_track_distance,\\\n",
    "/gt3r/sea_ice_segments/heights/height_segment_height,\\\n",
    "/gt3r/sea_ice_segments/heights/height_segment_fit_quality_flag,\\\n",
    "/gt3r/sea_ice_segments/stats/ice_conc'"
   ]
  },
  {
   "cell_type": "code",
   "execution_count": 71,
   "metadata": {},
   "outputs": [],
   "source": [
    "#Set NSIDC data access base URL\n",
    "base_url = 'https://n5eil02u.ecs.nsidc.org/egi/request'"
   ]
  },
  {
   "cell_type": "markdown",
   "metadata": {},
   "source": [
    "#### Let's go over the configuration parameters:\n",
    "\n",
    "* `request_mode`\n",
    "* `page_size`\n",
    "* `page_num`\n",
    "\n",
    "`request_mode` is \"synchronous\" by default, meaning that the request relies on a direct, continous connection between you and the API endpoint. Outputs are directly downloaded, or \"streamed\" to your working directory. For this tutorial, we will set the request mode to asynchronous, which will allow concurrent requests to be queued and processed without the need for a continuous connection.\n",
    "\n",
    "**Use the streaming `request_mode` with caution: While it can be beneficial to stream outputs directly to your local directory, note that timeout errors can result depending on the size of the request, and your request will not be queued in the system if NSIDC is experiencing high request volume. For best performance, I recommend setting `page_size=1` to download individual outputs, which will eliminate extra time needed to zip outputs and will ensure faster processing times per request. An example streaming request loop is available at the bottom of the tutorial below. **\n",
    "\n",
    "Recall that we queried the total number and volume of granules prior to applying customization services. `page_size` and `page_num` can be used to adjust the number of granules per request up to a limit of 2000 granules for asynchronous, and 100 granules for synchronous (streaming). For now, let's select 10 granules to be processed in each zipped request. For ATL06, the granule size can exceed 100 MB so we want to choose a granule count that provides us with a reasonable zipped download size. "
   ]
  },
  {
   "cell_type": "code",
   "execution_count": 76,
   "metadata": {},
   "outputs": [
    {
     "name": "stdout",
     "output_type": "stream",
     "text": [
      "2\n",
      "20\n"
     ]
    }
   ],
   "source": [
    "# Set number of granules requested per order, which we will initially set to 10.\n",
    "page_size = 10\n",
    "\n",
    "#Determine number of pages basd on page_size and total granules. Loop requests by this value\n",
    "page_num = math.ceil(len(granules)/page_size)\n",
    "\n",
    "#Set request mode. \n",
    "request_mode = 'async'\n",
    "\n",
    "# Determine how many individual orders we will request based on the number of granules requested\n",
    "\n",
    "print(page_num)\n",
    "print(len(granules))"
   ]
  },
  {
   "cell_type": "markdown",
   "metadata": {},
   "source": [
    "#### After all of these KVP inputs, what does our request look like? Here's a summary of all possible KVPs that we explored, both for CMR searching and for the subsetter:\n",
    "\n",
    "#### CMR search keys:\n",
    "* `short_name=`\n",
    "* `version=`\n",
    "* `temporal=`\n",
    "* `bounding_box=`\n",
    "* `polygon=`\n",
    "\n",
    "#### Customization service keys:\n",
    "* `time=`\n",
    "* `bbox=`\n",
    "* `bounding_shape=` \n",
    "* `format=`\n",
    "* `projection=`\n",
    "* `projection_parameters=`\n",
    "* `Coverage=`\n",
    "\n",
    "#### No customization (access only):\n",
    "* `agent=`    \n",
    "* `include_meta=` \n",
    "    * `Y` by default. `N` for No metadata requested.\n",
    "\n",
    "#### Request configuration keys:\n",
    "* `request_mode=` \n",
    "* `page_size=`\n",
    "* `page_num=`\n",
    "* `token=`\n",
    "* `email=`"
   ]
  },
  {
   "cell_type": "markdown",
   "metadata": {},
   "source": [
    "#### If we were to create an API request based on our request parameters and submit into a web browser for example, here's what we end up with:"
   ]
  },
  {
   "cell_type": "code",
   "execution_count": 78,
   "metadata": {},
   "outputs": [
    {
     "name": "stdout",
     "output_type": "stream",
     "text": [
      "https://n5eil02u.ecs.nsidc.org/egi/request?short_name=ATL07&version=001&temporal=2018-12-01T00:00:00Z,2018-12-06T23:59:59Z&time=2018-12-01T00:00:00,2018-12-06T23:59:59&bbox=180,60,-160,73&Coverage=/ancillary_data/atlas_sdp_gps_epoch,/gt1l/sea_ice_segments/delta_time,/gt1l/sea_ice_segments/latitude,/gt1l/sea_ice_segments/longitude,/gt1l/sea_ice_segments/seg_dist_x,/gt1l/sea_ice_segments/heights/across_track_distance,/gt1l/sea_ice_segments/heights/height_segment_height,/gt1l/sea_ice_segments/heights/height_segment_fit_quality_flag,/gt1l/sea_ice_segments/stats/ice_conc,/gt1r/sea_ice_segments/delta_time,/gt1r/sea_ice_segments/latitude,/gt1r/sea_ice_segments/longitude,/gt1r/sea_ice_segments/seg_dist_x,/gt1r/sea_ice_segments/heights/across_track_distance,/gt1r/sea_ice_segments/heights/height_segment_height,/gt1r/sea_ice_segments/heights/height_segment_fit_quality_flag,/gt1r/sea_ice_segments/stats/ice_conc,/gt2l/sea_ice_segments/delta_time,/gt2l/sea_ice_segments/latitude,/gt2l/sea_ice_segments/longitude,/gt2l/sea_ice_segments/seg_dist_x,/gt2l/sea_ice_segments/heights/across_track_distance,/gt2l/sea_ice_segments/heights/height_segment_height,/gt2l/sea_ice_segments/heights/height_segment_fit_quality_flag,/gt2l/sea_ice_segments/stats/ice_conc,/gt2r/sea_ice_segments/delta_time,/gt2r/sea_ice_segments/latitude,/gt2r/sea_ice_segments/longitude,/gt2r/sea_ice_segments/seg_dist_x,/gt2r/sea_ice_segments/heights/across_track_distance,/gt2r/sea_ice_segments/heights/height_segment_height,/gt2r/sea_ice_segments/heights/height_segment_fit_quality_flag,/gt2r/sea_ice_segments/stats/ice_conc,/gt3l/sea_ice_segments/delta_time,/gt3l/sea_ice_segments/latitude,/gt3l/sea_ice_segments/longitude,/gt3l/sea_ice_segments/seg_dist_x,/gt3l/sea_ice_segments/heights/across_track_distance,/gt3l/sea_ice_segments/heights/height_segment_height,/gt3l/sea_ice_segments/heights/height_segment_fit_quality_flag,/gt3l/sea_ice_segments/stats/ice_conc,/gt3r/sea_ice_segments/delta_time,/gt3r/sea_ice_segments/latitude,/gt3r/sea_ice_segments/longitude,/gt3r/sea_ice_segments/seg_dist_x,/gt3r/sea_ice_segments/heights/across_track_distance,/gt3r/sea_ice_segments/heights/height_segment_height,/gt3r/sea_ice_segments/heights/height_segment_fit_quality_flag,/gt3r/sea_ice_segments/stats/ice_conc&request_mode=async&page_size=10&page_num=2&token=586CF0FE-BDA2-FD51-F1CB-814780A9DB3F&email=christopher_horvat@brown.edu\n"
     ]
    }
   ],
   "source": [
    "#Print API base URL + request parameters\n",
    "API_request = f'{base_url}?short_name={short_name}&version={latest_version}&temporal={temporal}&time={timevar}&bbox={bbox}&Coverage={coverage}&request_mode={request_mode}&page_size={page_size}&page_num={page_num}&token={token}&email={email}'\n",
    "print(API_request)\n"
   ]
  },
  {
   "cell_type": "markdown",
   "metadata": {},
   "source": [
    "#### We'll also create a new dictionary of NSIDC API KVPs to be used in our subset request. Because we are looping through each page of requests, we'll add the `page_num` KVP to our dictionary within the loop below."
   ]
  },
  {
   "cell_type": "code",
   "execution_count": 79,
   "metadata": {},
   "outputs": [
    {
     "name": "stdout",
     "output_type": "stream",
     "text": [
      "{'short_name': 'ATL07', 'version': '001', 'temporal': '2018-12-01T00:00:00Z,2018-12-06T23:59:59Z', 'time': '2018-12-01T00:00:00,2018-12-06T23:59:59', 'bbox': '180,60,-160,73', 'Coverage': '/ancillary_data/atlas_sdp_gps_epoch,/gt1l/sea_ice_segments/delta_time,/gt1l/sea_ice_segments/latitude,/gt1l/sea_ice_segments/longitude,/gt1l/sea_ice_segments/seg_dist_x,/gt1l/sea_ice_segments/heights/across_track_distance,/gt1l/sea_ice_segments/heights/height_segment_height,/gt1l/sea_ice_segments/heights/height_segment_fit_quality_flag,/gt1l/sea_ice_segments/stats/ice_conc,/gt1r/sea_ice_segments/delta_time,/gt1r/sea_ice_segments/latitude,/gt1r/sea_ice_segments/longitude,/gt1r/sea_ice_segments/seg_dist_x,/gt1r/sea_ice_segments/heights/across_track_distance,/gt1r/sea_ice_segments/heights/height_segment_height,/gt1r/sea_ice_segments/heights/height_segment_fit_quality_flag,/gt1r/sea_ice_segments/stats/ice_conc,/gt2l/sea_ice_segments/delta_time,/gt2l/sea_ice_segments/latitude,/gt2l/sea_ice_segments/longitude,/gt2l/sea_ice_segments/seg_dist_x,/gt2l/sea_ice_segments/heights/across_track_distance,/gt2l/sea_ice_segments/heights/height_segment_height,/gt2l/sea_ice_segments/heights/height_segment_fit_quality_flag,/gt2l/sea_ice_segments/stats/ice_conc,/gt2r/sea_ice_segments/delta_time,/gt2r/sea_ice_segments/latitude,/gt2r/sea_ice_segments/longitude,/gt2r/sea_ice_segments/seg_dist_x,/gt2r/sea_ice_segments/heights/across_track_distance,/gt2r/sea_ice_segments/heights/height_segment_height,/gt2r/sea_ice_segments/heights/height_segment_fit_quality_flag,/gt2r/sea_ice_segments/stats/ice_conc,/gt3l/sea_ice_segments/delta_time,/gt3l/sea_ice_segments/latitude,/gt3l/sea_ice_segments/longitude,/gt3l/sea_ice_segments/seg_dist_x,/gt3l/sea_ice_segments/heights/across_track_distance,/gt3l/sea_ice_segments/heights/height_segment_height,/gt3l/sea_ice_segments/heights/height_segment_fit_quality_flag,/gt3l/sea_ice_segments/stats/ice_conc,/gt3r/sea_ice_segments/delta_time,/gt3r/sea_ice_segments/latitude,/gt3r/sea_ice_segments/longitude,/gt3r/sea_ice_segments/seg_dist_x,/gt3r/sea_ice_segments/heights/across_track_distance,/gt3r/sea_ice_segments/heights/height_segment_height,/gt3r/sea_ice_segments/heights/height_segment_fit_quality_flag,/gt3r/sea_ice_segments/stats/ice_conc', 'request_mode': 'async', 'page_size': 10, 'token': '586CF0FE-BDA2-FD51-F1CB-814780A9DB3F', 'email': 'christopher_horvat@brown.edu'}\n"
     ]
    }
   ],
   "source": [
    "subset_params = {\n",
    "    'short_name': short_name, \n",
    "    'version': latest_version, \n",
    "    'temporal': temporal, \n",
    "    'time': timevar, \n",
    "    'bbox': bbox, \n",
    "    'Coverage': coverage, \n",
    "    'request_mode': request_mode, \n",
    "    'page_size': page_size,  \n",
    "    'token': token, \n",
    "    'email': email, \n",
    "    }\n",
    "print(subset_params)"
   ]
  },
  {
   "cell_type": "markdown",
   "metadata": {},
   "source": [
    "#### We'll request the same data but without any subsetting services applied. Let's create another request parameter dictionary with the `time` and `coverage` service keys removed, and we'll add `agent=NO` instead."
   ]
  },
  {
   "cell_type": "code",
   "execution_count": 87,
   "metadata": {},
   "outputs": [
    {
     "ename": "NameError",
     "evalue": "name 'polygon' is not defined",
     "output_type": "error",
     "traceback": [
      "\u001b[0;31m---------------------------------------------------------------------------\u001b[0m",
      "\u001b[0;31mNameError\u001b[0m                                 Traceback (most recent call last)",
      "\u001b[0;32m<ipython-input-87-99c800e48ca3>\u001b[0m in \u001b[0;36m<module>\u001b[0;34m\u001b[0m\n\u001b[1;32m      3\u001b[0m     \u001b[0;34m'version'\u001b[0m\u001b[0;34m:\u001b[0m \u001b[0mlatest_version\u001b[0m\u001b[0;34m,\u001b[0m\u001b[0;34m\u001b[0m\u001b[0;34m\u001b[0m\u001b[0m\n\u001b[1;32m      4\u001b[0m     \u001b[0;34m'temporal'\u001b[0m\u001b[0;34m:\u001b[0m \u001b[0mtemporal\u001b[0m\u001b[0;34m,\u001b[0m\u001b[0;34m\u001b[0m\u001b[0;34m\u001b[0m\u001b[0m\n\u001b[0;32m----> 5\u001b[0;31m     \u001b[0;34m'polygon'\u001b[0m\u001b[0;34m:\u001b[0m \u001b[0mpolygon\u001b[0m\u001b[0;34m,\u001b[0m\u001b[0;34m\u001b[0m\u001b[0;34m\u001b[0m\u001b[0m\n\u001b[0m\u001b[1;32m      6\u001b[0m     \u001b[0;34m'agent'\u001b[0m \u001b[0;34m:\u001b[0m \u001b[0;34m'NO'\u001b[0m\u001b[0;34m,\u001b[0m\u001b[0;34m\u001b[0m\u001b[0;34m\u001b[0m\u001b[0m\n\u001b[1;32m      7\u001b[0m     \u001b[0;34m'include_meta'\u001b[0m \u001b[0;34m:\u001b[0m \u001b[0;34m'Y'\u001b[0m\u001b[0;34m,\u001b[0m\u001b[0;34m\u001b[0m\u001b[0;34m\u001b[0m\u001b[0m\n",
      "\u001b[0;31mNameError\u001b[0m: name 'polygon' is not defined"
     ]
    }
   ],
   "source": [
    "request_params = {\n",
    "    'short_name': short_name, \n",
    "    'version': latest_version, \n",
    "    'temporal': temporal, \n",
    "    'polygon': polygon, \n",
    "    'agent' : 'NO',\n",
    "    'include_meta' : 'Y',\n",
    "    'request_mode': request_mode, \n",
    "    'page_size': page_size,  \n",
    "    'token': token, \n",
    "    'email': email, \n",
    "    }\n",
    "\n",
    "print(request_params)"
   ]
  },
  {
   "cell_type": "markdown",
   "metadata": {},
   "source": [
    "### Before we request the data and download the outputs, let's explore some simple comparisons of the data from s3 that we've already requested."
   ]
  },
  {
   "cell_type": "markdown",
   "metadata": {},
   "source": [
    "Compare file sizes:"
   ]
  },
  {
   "cell_type": "markdown",
   "metadata": {},
   "source": [
    "Read the files using h5py and compare the HDF5 groups and datasets:"
   ]
  },
  {
   "cell_type": "markdown",
   "metadata": {},
   "source": [
    "Native file groups:"
   ]
  },
  {
   "cell_type": "markdown",
   "metadata": {},
   "source": [
    "Subsetted file groups:"
   ]
  },
  {
   "cell_type": "markdown",
   "metadata": {},
   "source": [
    "Compare geolocation range from the /gt1l/land_ice_segments group:"
   ]
  },
  {
   "cell_type": "markdown",
   "metadata": {},
   "source": [
    "## Request Data\n",
    "\n",
    "#### Finally, we'll download the data directly to this notebook directory in a new Outputs folder. The progress of each order will be reported.\n",
    "\n",
    "We'll start by creating an output folder if the folder does not already exist."
   ]
  },
  {
   "cell_type": "code",
   "execution_count": 82,
   "metadata": {},
   "outputs": [],
   "source": [
    "path = str(os.getcwd() + '/Outputs')\n",
    "if not os.path.exists(path):\n",
    "    os.mkdir(path)"
   ]
  },
  {
   "cell_type": "markdown",
   "metadata": {},
   "source": [
    "First we'll submit our request without subsetting services:"
   ]
  },
  {
   "cell_type": "code",
   "execution_count": null,
   "metadata": {},
   "outputs": [],
   "source": [
    "# Request data service for each page number, and unzip outputs\n",
    "\n",
    "for i in range(page_num):\n",
    "    page_val = i + 1\n",
    "    print('Order: ', page_val)\n",
    "    request_params.update( {'page_num': page_val} )\n",
    "    \n",
    "# For all requests other than spatial file upload, use get function\n",
    "    request = session.get(base_url, params=request_params)\n",
    "    \n",
    "    print('Request HTTP response: ', request.status_code)\n",
    "\n",
    "# Raise bad request: Loop will stop for bad response code.\n",
    "    request.raise_for_status()\n",
    "    print('Order request URL: ', request.url)\n",
    "    esir_root = ET.fromstring(request.content)\n",
    "    print('Order request response XML content: ', request.content)\n",
    "\n",
    "#Look up order ID\n",
    "    orderlist = []   \n",
    "    for order in esir_root.findall(\"./order/\"):\n",
    "        orderlist.append(order.text)\n",
    "    orderID = orderlist[0]\n",
    "    print('order ID: ', orderID)\n",
    "\n",
    "#Create status URL\n",
    "    statusURL = base_url + '/' + orderID\n",
    "    print('status URL: ', statusURL)\n",
    "\n",
    "#Find order status\n",
    "    request_response = session.get(statusURL)    \n",
    "    print('HTTP response from order response URL: ', request_response.status_code)\n",
    "    \n",
    "# Raise bad request: Loop will stop for bad response code.\n",
    "    request_response.raise_for_status()\n",
    "    request_root = ET.fromstring(request_response.content)\n",
    "    statuslist = []\n",
    "    for status in request_root.findall(\"./requestStatus/\"):\n",
    "        statuslist.append(status.text)\n",
    "    status = statuslist[0]\n",
    "    print('Data request ', page_val, ' is submitting...')\n",
    "    print('Initial request status is ', status)\n",
    "\n",
    "#Continue loop while request is still processing\n",
    "    while status == 'pending' or status == 'processing': \n",
    "        print('Status is not complete. Trying again.')\n",
    "        time.sleep(10)\n",
    "        loop_response = session.get(statusURL)\n",
    "\n",
    "# Raise bad request: Loop will stop for bad response code.\n",
    "        loop_response.raise_for_status()\n",
    "        loop_root = ET.fromstring(loop_response.content)\n",
    "\n",
    "#find status\n",
    "        statuslist = []\n",
    "        for status in loop_root.findall(\"./requestStatus/\"):\n",
    "            statuslist.append(status.text)\n",
    "        status = statuslist[0]\n",
    "        print('Retry request status is: ', status)\n",
    "        if status == 'pending' or status == 'processing':\n",
    "            continue\n",
    "\n",
    "#Order can either complete, complete_with_errors, or fail:\n",
    "# Provide complete_with_errors error message:\n",
    "    if status == 'complete_with_errors' or status == 'failed':\n",
    "        messagelist = []\n",
    "        for message in loop_root.findall(\"./processInfo/\"):\n",
    "            messagelist.append(message.text)\n",
    "        print('error messages:')\n",
    "        pprint.pprint(messagelist)\n",
    "\n",
    "# Download zipped order if status is complete or complete_with_errors\n",
    "    if status == 'complete' or status == 'complete_with_errors':\n",
    "        downloadURL = 'https://n5eil02u.ecs.nsidc.org/esir/' + orderID + '.zip'\n",
    "        print('Zip download URL: ', downloadURL)\n",
    "        print('Beginning download of zipped output...')\n",
    "        zip_response = session.get(downloadURL)\n",
    "        # Raise bad request: Loop will stop for bad response code.\n",
    "        zip_response.raise_for_status()\n",
    "        with zipfile.ZipFile(io.BytesIO(zip_response.content)) as z:\n",
    "            z.extractall(path)\n",
    "        print('Data request', page_val, 'is complete.')\n",
    "    else: print('Request failed.')\n"
   ]
  },
  {
   "cell_type": "markdown",
   "metadata": {},
   "source": [
    "Let's run our request loop again, this time with subsetting services applied. We will post the KML file directly to the API:"
   ]
  },
  {
   "cell_type": "code",
   "execution_count": 88,
   "metadata": {},
   "outputs": [
    {
     "name": "stdout",
     "output_type": "stream",
     "text": [
      "Order:  1\n",
      "Request HTTP response:  201\n",
      "Order request URL:  https://n5eil02u.ecs.nsidc.org/egi/request?short_name=ATL07&version=001&temporal=2018-12-01T00%3A00%3A00Z%2C2018-12-06T23%3A59%3A59Z&time=2018-12-01T00%3A00%3A00%2C2018-12-06T23%3A59%3A59&bbox=180%2C60%2C-160%2C73&Coverage=%2Fancillary_data%2Fatlas_sdp_gps_epoch%2C%2Fgt1l%2Fsea_ice_segments%2Fdelta_time%2C%2Fgt1l%2Fsea_ice_segments%2Flatitude%2C%2Fgt1l%2Fsea_ice_segments%2Flongitude%2C%2Fgt1l%2Fsea_ice_segments%2Fseg_dist_x%2C%2Fgt1l%2Fsea_ice_segments%2Fheights%2Facross_track_distance%2C%2Fgt1l%2Fsea_ice_segments%2Fheights%2Fheight_segment_height%2C%2Fgt1l%2Fsea_ice_segments%2Fheights%2Fheight_segment_fit_quality_flag%2C%2Fgt1l%2Fsea_ice_segments%2Fstats%2Fice_conc%2C%2Fgt1r%2Fsea_ice_segments%2Fdelta_time%2C%2Fgt1r%2Fsea_ice_segments%2Flatitude%2C%2Fgt1r%2Fsea_ice_segments%2Flongitude%2C%2Fgt1r%2Fsea_ice_segments%2Fseg_dist_x%2C%2Fgt1r%2Fsea_ice_segments%2Fheights%2Facross_track_distance%2C%2Fgt1r%2Fsea_ice_segments%2Fheights%2Fheight_segment_height%2C%2Fgt1r%2Fsea_ice_segments%2Fheights%2Fheight_segment_fit_quality_flag%2C%2Fgt1r%2Fsea_ice_segments%2Fstats%2Fice_conc%2C%2Fgt2l%2Fsea_ice_segments%2Fdelta_time%2C%2Fgt2l%2Fsea_ice_segments%2Flatitude%2C%2Fgt2l%2Fsea_ice_segments%2Flongitude%2C%2Fgt2l%2Fsea_ice_segments%2Fseg_dist_x%2C%2Fgt2l%2Fsea_ice_segments%2Fheights%2Facross_track_distance%2C%2Fgt2l%2Fsea_ice_segments%2Fheights%2Fheight_segment_height%2C%2Fgt2l%2Fsea_ice_segments%2Fheights%2Fheight_segment_fit_quality_flag%2C%2Fgt2l%2Fsea_ice_segments%2Fstats%2Fice_conc%2C%2Fgt2r%2Fsea_ice_segments%2Fdelta_time%2C%2Fgt2r%2Fsea_ice_segments%2Flatitude%2C%2Fgt2r%2Fsea_ice_segments%2Flongitude%2C%2Fgt2r%2Fsea_ice_segments%2Fseg_dist_x%2C%2Fgt2r%2Fsea_ice_segments%2Fheights%2Facross_track_distance%2C%2Fgt2r%2Fsea_ice_segments%2Fheights%2Fheight_segment_height%2C%2Fgt2r%2Fsea_ice_segments%2Fheights%2Fheight_segment_fit_quality_flag%2C%2Fgt2r%2Fsea_ice_segments%2Fstats%2Fice_conc%2C%2Fgt3l%2Fsea_ice_segments%2Fdelta_time%2C%2Fgt3l%2Fsea_ice_segments%2Flatitude%2C%2Fgt3l%2Fsea_ice_segments%2Flongitude%2C%2Fgt3l%2Fsea_ice_segments%2Fseg_dist_x%2C%2Fgt3l%2Fsea_ice_segments%2Fheights%2Facross_track_distance%2C%2Fgt3l%2Fsea_ice_segments%2Fheights%2Fheight_segment_height%2C%2Fgt3l%2Fsea_ice_segments%2Fheights%2Fheight_segment_fit_quality_flag%2C%2Fgt3l%2Fsea_ice_segments%2Fstats%2Fice_conc%2C%2Fgt3r%2Fsea_ice_segments%2Fdelta_time%2C%2Fgt3r%2Fsea_ice_segments%2Flatitude%2C%2Fgt3r%2Fsea_ice_segments%2Flongitude%2C%2Fgt3r%2Fsea_ice_segments%2Fseg_dist_x%2C%2Fgt3r%2Fsea_ice_segments%2Fheights%2Facross_track_distance%2C%2Fgt3r%2Fsea_ice_segments%2Fheights%2Fheight_segment_height%2C%2Fgt3r%2Fsea_ice_segments%2Fheights%2Fheight_segment_fit_quality_flag%2C%2Fgt3r%2Fsea_ice_segments%2Fstats%2Fice_conc&request_mode=async&page_size=10&token=586CF0FE-BDA2-FD51-F1CB-814780A9DB3F&email=christopher_horvat%40brown.edu&page_num=1\n",
      "Order request response XML content:  b'<?xml version=\"1.0\" encoding=\"UTF-8\" standalone=\"yes\"?>\\n<eesi:agentResponse xsi:schemaLocation=\"http://eosdis.nasa.gov/esi/rsp/e https://newsroom.gsfc.nasa.gov/esi/8.1/schemas/ESIAgentResponseExternal.xsd\" xmlns=\"\" xmlns:iesi=\"http://eosdis.nasa.gov/esi/rsp/i\" xmlns:ssw=\"http://newsroom.gsfc.nasa.gov/esi/rsp/ssw\" xmlns:eesi=\"http://eosdis.nasa.gov/esi/rsp/e\" xmlns:esi=\"http://eosdis.nasa.gov/esi/rsp\" xmlns:xsi=\"http://www.w3.org/2001/XMLSchema-instance\">\\n    <order>\\n        <orderId>5000000319293</orderId>\\n        <Instructions>You may receive an email about your order if you specified an EMAIL address. &lt;br/&gt;&lt;br/&gt;The instructions used to process this order are:  Bounding Box(es)=180,60,-160,73. Band(s)=/ancillary_data/atlas_sdp_gps_epoch,/gt1l/sea_ice_segments/delta_time,/gt1l/sea_ice_segments/latitude,/gt1l/sea_ice_segments/longitude,/gt1l/sea_ice_segments/seg_dist_x,/gt1l/sea_ice_segments/heights/across_track_distance,/gt1l/sea_ice_segments/heights/height_segment_height,/gt1l/sea_ice_segments/heights/height_segment_fit_quality_flag,/gt1l/sea_ice_segments/stats/ice_conc,/gt1r/sea_ice_segments/delta_time,/gt1r/sea_ice_segments/latitude,/gt1r/sea_ice_segments/longitude,/gt1r/sea_ice_segments/seg_dist_x,/gt1r/sea_ice_segments/heights/across_track_distance,/gt1r/sea_ice_segments/heights/height_segment_height,/gt1r/sea_ice_segments/heights/height_segment_fit_quality_flag,/gt1r/sea_ice_segments/stats/ice_conc,/gt2l/sea_ice_segments/delta_time,/gt2l/sea_ice_segments/latitude,/gt2l/sea_ice_segments/longitude,/gt2l/sea_ice_segments/seg_dist_x,/gt2l/sea_ice_segments/heights/across_track_distance,/gt2l/sea_ice_segments/heights/height_segment_height,/gt2l/sea_ice_segments/heights/height_segment_fit_quality_flag,/gt2l/sea_ice_segments/stats/ice_conc,/gt2r/sea_ice_segments/delta_time,/gt2r/sea_ice_segments/latitude,/gt2r/sea_ice_segments/longitude,/gt2r/sea_ice_segments/seg_dist_x,/gt2r/sea_ice_segments/heights/across_track_distance,/gt2r/sea_ice_segments/heights/height_segment_height,/gt2r/sea_ice_segments/heights/height_segment_fit_quality_flag,/gt2r/sea_ice_segments/stats/ice_conc,/gt3l/sea_ice_segments/delta_time,/gt3l/sea_ice_segments/latitude,/gt3l/sea_ice_segments/longitude,/gt3l/sea_ice_segments/seg_dist_x,/gt3l/sea_ice_segments/heights/across_track_distance,/gt3l/sea_ice_segments/heights/height_segment_height,/gt3l/sea_ice_segments/heights/height_segment_fit_quality_flag,/gt3l/sea_ice_segments/stats/ice_conc,/gt3r/sea_ice_segments/delta_time,/gt3r/sea_ice_segments/latitude,/gt3r/sea_ice_segments/longitude,/gt3r/sea_ice_segments/seg_dist_x,/gt3r/sea_ice_segments/heights/across_track_distance,/gt3r/sea_ice_segments/heights/height_segment_height,/gt3r/sea_ice_segments/heights/height_segment_fit_quality_flag,/gt3r/sea_ice_segments/stats/ice_conc. Granule id(s)=SC:ATL07.001:161174659,SC:ATL07.001:161206725,SC:ATL07.001:161207873,SC:ATL07.001:161230614,SC:ATL07.001:161213367,SC:ATL07.001:161223897,SC:ATL07.001:161200398,SC:ATL07.001:161213366,SC:ATL07.001:161224247,SC:ATL07.001:161206943. Temporal search start=2018-12-01T00:00:00 end=2018-12-06T23:59:59. Email address=christopher_horvat@brown.edu. Processing tool=ICESAT2.</Instructions>\\n    </order>\\n    <contactInformation>\\n        <contactName>NSIDC User Services</contactName>\\n        <contactEmail>nsidc@nsidc.org</contactEmail>\\n    </contactInformation>\\n    <processInfo>\\n        <processDuration>PT1.132S</processDuration>\\n        <subagentId>ICESAT2</subagentId>\\n    </processInfo>\\n    <requestStatus>\\n        <status>processing</status>\\n        <numberProcessed>0</numberProcessed>\\n        <totalNumber>10</totalNumber>\\n    </requestStatus>\\n</eesi:agentResponse>\\n'\n",
      "order ID:  5000000319293\n",
      "status URL:  https://n5eil02u.ecs.nsidc.org/egi/request/5000000319293\n",
      "HTTP response from order response URL:  201\n",
      "Data request  1  is submitting...\n",
      "Initial request status is  processing\n",
      "Status is not complete. Trying again.\n",
      "Retry request status is:  complete_with_errors\n",
      "error messages:\n",
      "['161174659:NoMatchingData - No data found that matched subset constraints. '\n",
      " 'Exit code 3.',\n",
      " '161207873:NoMatchingData - No data found that matched subset constraints. '\n",
      " 'Exit code 3.',\n",
      " '161230614:NoMatchingData - No data found that matched subset constraints. '\n",
      " 'Exit code 3.',\n",
      " '161213367:NoMatchingData - No data found that matched subset constraints. '\n",
      " 'Exit code 3.',\n",
      " '161223897:NoMatchingData - No data found that matched subset constraints. '\n",
      " 'Exit code 3.',\n",
      " '161200398:NoMatchingData - No data found that matched subset constraints. '\n",
      " 'Exit code 3.',\n",
      " '161213366:NoMatchingData - No data found that matched subset constraints. '\n",
      " 'Exit code 3.',\n",
      " '161224247:NoMatchingData - No data found that matched subset constraints. '\n",
      " 'Exit code 3.',\n",
      " '161206943:NoMatchingData - No data found that matched subset constraints. '\n",
      " 'Exit code 3.',\n",
      " 'PT4.835S',\n",
      " 'ICESAT2']\n",
      "Zip download URL:  https://n5eil02u.ecs.nsidc.org/esir/5000000319293.zip\n",
      "Beginning download of zipped output...\n",
      "Data request 1 is complete.\n",
      "Order:  2\n",
      "Request HTTP response:  201\n",
      "Order request URL:  https://n5eil02u.ecs.nsidc.org/egi/request?short_name=ATL07&version=001&temporal=2018-12-01T00%3A00%3A00Z%2C2018-12-06T23%3A59%3A59Z&time=2018-12-01T00%3A00%3A00%2C2018-12-06T23%3A59%3A59&bbox=180%2C60%2C-160%2C73&Coverage=%2Fancillary_data%2Fatlas_sdp_gps_epoch%2C%2Fgt1l%2Fsea_ice_segments%2Fdelta_time%2C%2Fgt1l%2Fsea_ice_segments%2Flatitude%2C%2Fgt1l%2Fsea_ice_segments%2Flongitude%2C%2Fgt1l%2Fsea_ice_segments%2Fseg_dist_x%2C%2Fgt1l%2Fsea_ice_segments%2Fheights%2Facross_track_distance%2C%2Fgt1l%2Fsea_ice_segments%2Fheights%2Fheight_segment_height%2C%2Fgt1l%2Fsea_ice_segments%2Fheights%2Fheight_segment_fit_quality_flag%2C%2Fgt1l%2Fsea_ice_segments%2Fstats%2Fice_conc%2C%2Fgt1r%2Fsea_ice_segments%2Fdelta_time%2C%2Fgt1r%2Fsea_ice_segments%2Flatitude%2C%2Fgt1r%2Fsea_ice_segments%2Flongitude%2C%2Fgt1r%2Fsea_ice_segments%2Fseg_dist_x%2C%2Fgt1r%2Fsea_ice_segments%2Fheights%2Facross_track_distance%2C%2Fgt1r%2Fsea_ice_segments%2Fheights%2Fheight_segment_height%2C%2Fgt1r%2Fsea_ice_segments%2Fheights%2Fheight_segment_fit_quality_flag%2C%2Fgt1r%2Fsea_ice_segments%2Fstats%2Fice_conc%2C%2Fgt2l%2Fsea_ice_segments%2Fdelta_time%2C%2Fgt2l%2Fsea_ice_segments%2Flatitude%2C%2Fgt2l%2Fsea_ice_segments%2Flongitude%2C%2Fgt2l%2Fsea_ice_segments%2Fseg_dist_x%2C%2Fgt2l%2Fsea_ice_segments%2Fheights%2Facross_track_distance%2C%2Fgt2l%2Fsea_ice_segments%2Fheights%2Fheight_segment_height%2C%2Fgt2l%2Fsea_ice_segments%2Fheights%2Fheight_segment_fit_quality_flag%2C%2Fgt2l%2Fsea_ice_segments%2Fstats%2Fice_conc%2C%2Fgt2r%2Fsea_ice_segments%2Fdelta_time%2C%2Fgt2r%2Fsea_ice_segments%2Flatitude%2C%2Fgt2r%2Fsea_ice_segments%2Flongitude%2C%2Fgt2r%2Fsea_ice_segments%2Fseg_dist_x%2C%2Fgt2r%2Fsea_ice_segments%2Fheights%2Facross_track_distance%2C%2Fgt2r%2Fsea_ice_segments%2Fheights%2Fheight_segment_height%2C%2Fgt2r%2Fsea_ice_segments%2Fheights%2Fheight_segment_fit_quality_flag%2C%2Fgt2r%2Fsea_ice_segments%2Fstats%2Fice_conc%2C%2Fgt3l%2Fsea_ice_segments%2Fdelta_time%2C%2Fgt3l%2Fsea_ice_segments%2Flatitude%2C%2Fgt3l%2Fsea_ice_segments%2Flongitude%2C%2Fgt3l%2Fsea_ice_segments%2Fseg_dist_x%2C%2Fgt3l%2Fsea_ice_segments%2Fheights%2Facross_track_distance%2C%2Fgt3l%2Fsea_ice_segments%2Fheights%2Fheight_segment_height%2C%2Fgt3l%2Fsea_ice_segments%2Fheights%2Fheight_segment_fit_quality_flag%2C%2Fgt3l%2Fsea_ice_segments%2Fstats%2Fice_conc%2C%2Fgt3r%2Fsea_ice_segments%2Fdelta_time%2C%2Fgt3r%2Fsea_ice_segments%2Flatitude%2C%2Fgt3r%2Fsea_ice_segments%2Flongitude%2C%2Fgt3r%2Fsea_ice_segments%2Fseg_dist_x%2C%2Fgt3r%2Fsea_ice_segments%2Fheights%2Facross_track_distance%2C%2Fgt3r%2Fsea_ice_segments%2Fheights%2Fheight_segment_height%2C%2Fgt3r%2Fsea_ice_segments%2Fheights%2Fheight_segment_fit_quality_flag%2C%2Fgt3r%2Fsea_ice_segments%2Fstats%2Fice_conc&request_mode=async&page_size=10&token=586CF0FE-BDA2-FD51-F1CB-814780A9DB3F&email=christopher_horvat%40brown.edu&page_num=2\n",
      "Order request response XML content:  b'<?xml version=\"1.0\" encoding=\"UTF-8\" standalone=\"yes\"?>\\n<eesi:agentResponse xsi:schemaLocation=\"http://eosdis.nasa.gov/esi/rsp/e https://newsroom.gsfc.nasa.gov/esi/8.1/schemas/ESIAgentResponseExternal.xsd\" xmlns=\"\" xmlns:iesi=\"http://eosdis.nasa.gov/esi/rsp/i\" xmlns:ssw=\"http://newsroom.gsfc.nasa.gov/esi/rsp/ssw\" xmlns:eesi=\"http://eosdis.nasa.gov/esi/rsp/e\" xmlns:esi=\"http://eosdis.nasa.gov/esi/rsp\" xmlns:xsi=\"http://www.w3.org/2001/XMLSchema-instance\">\\n    <order>\\n        <orderId>5000000319294</orderId>\\n        <Instructions>You may receive an email about your order if you specified an EMAIL address. &lt;br/&gt;&lt;br/&gt;The instructions used to process this order are:  Bounding Box(es)=180,60,-160,73. Band(s)=/ancillary_data/atlas_sdp_gps_epoch,/gt1l/sea_ice_segments/delta_time,/gt1l/sea_ice_segments/latitude,/gt1l/sea_ice_segments/longitude,/gt1l/sea_ice_segments/seg_dist_x,/gt1l/sea_ice_segments/heights/across_track_distance,/gt1l/sea_ice_segments/heights/height_segment_height,/gt1l/sea_ice_segments/heights/height_segment_fit_quality_flag,/gt1l/sea_ice_segments/stats/ice_conc,/gt1r/sea_ice_segments/delta_time,/gt1r/sea_ice_segments/latitude,/gt1r/sea_ice_segments/longitude,/gt1r/sea_ice_segments/seg_dist_x,/gt1r/sea_ice_segments/heights/across_track_distance,/gt1r/sea_ice_segments/heights/height_segment_height,/gt1r/sea_ice_segments/heights/height_segment_fit_quality_flag,/gt1r/sea_ice_segments/stats/ice_conc,/gt2l/sea_ice_segments/delta_time,/gt2l/sea_ice_segments/latitude,/gt2l/sea_ice_segments/longitude,/gt2l/sea_ice_segments/seg_dist_x,/gt2l/sea_ice_segments/heights/across_track_distance,/gt2l/sea_ice_segments/heights/height_segment_height,/gt2l/sea_ice_segments/heights/height_segment_fit_quality_flag,/gt2l/sea_ice_segments/stats/ice_conc,/gt2r/sea_ice_segments/delta_time,/gt2r/sea_ice_segments/latitude,/gt2r/sea_ice_segments/longitude,/gt2r/sea_ice_segments/seg_dist_x,/gt2r/sea_ice_segments/heights/across_track_distance,/gt2r/sea_ice_segments/heights/height_segment_height,/gt2r/sea_ice_segments/heights/height_segment_fit_quality_flag,/gt2r/sea_ice_segments/stats/ice_conc,/gt3l/sea_ice_segments/delta_time,/gt3l/sea_ice_segments/latitude,/gt3l/sea_ice_segments/longitude,/gt3l/sea_ice_segments/seg_dist_x,/gt3l/sea_ice_segments/heights/across_track_distance,/gt3l/sea_ice_segments/heights/height_segment_height,/gt3l/sea_ice_segments/heights/height_segment_fit_quality_flag,/gt3l/sea_ice_segments/stats/ice_conc,/gt3r/sea_ice_segments/delta_time,/gt3r/sea_ice_segments/latitude,/gt3r/sea_ice_segments/longitude,/gt3r/sea_ice_segments/seg_dist_x,/gt3r/sea_ice_segments/heights/across_track_distance,/gt3r/sea_ice_segments/heights/height_segment_height,/gt3r/sea_ice_segments/heights/height_segment_fit_quality_flag,/gt3r/sea_ice_segments/stats/ice_conc. Granule id(s)=SC:ATL07.001:161224277,SC:ATL07.001:161206735,SC:ATL07.001:161224016,SC:ATL07.001:161211517,SC:ATL07.001:161223957,SC:ATL07.001:161184621,SC:ATL07.001:161223927,SC:ATL07.001:161224285,SC:ATL07.001:161230087,SC:ATL07.001:161223901. Temporal search start=2018-12-01T00:00:00 end=2018-12-06T23:59:59. Email address=christopher_horvat@brown.edu. Processing tool=ICESAT2.</Instructions>\\n    </order>\\n    <contactInformation>\\n        <contactName>NSIDC User Services</contactName>\\n        <contactEmail>nsidc@nsidc.org</contactEmail>\\n    </contactInformation>\\n    <processInfo>\\n        <processDuration>PT0.115S</processDuration>\\n        <subagentId>ICESAT2</subagentId>\\n    </processInfo>\\n    <requestStatus>\\n        <status>processing</status>\\n        <numberProcessed>0</numberProcessed>\\n        <totalNumber>10</totalNumber>\\n    </requestStatus>\\n</eesi:agentResponse>\\n'\n",
      "order ID:  5000000319294\n",
      "status URL:  https://n5eil02u.ecs.nsidc.org/egi/request/5000000319294\n",
      "HTTP response from order response URL:  201\n",
      "Data request  2  is submitting...\n",
      "Initial request status is  processing\n",
      "Status is not complete. Trying again.\n",
      "Retry request status is:  complete_with_errors\n",
      "error messages:\n",
      "['161224277:NoMatchingData - No data found that matched subset constraints. '\n",
      " 'Exit code 3.',\n",
      " '161206735:NoMatchingData - No data found that matched subset constraints. '\n",
      " 'Exit code 3.',\n",
      " '161224016:NoMatchingData - No data found that matched subset constraints. '\n",
      " 'Exit code 3.',\n",
      " '161211517:NoMatchingData - No data found that matched subset constraints. '\n",
      " 'Exit code 3.',\n",
      " '161223957:NoMatchingData - No data found that matched subset constraints. '\n",
      " 'Exit code 3.',\n",
      " '161184621:NoMatchingData - No data found that matched subset constraints. '\n",
      " 'Exit code 3.',\n",
      " '161224285:NoMatchingData - No data found that matched subset constraints. '\n",
      " 'Exit code 3.',\n",
      " '161230087:NoMatchingData - No data found that matched subset constraints. '\n",
      " 'Exit code 3.',\n",
      " '161223901:NoMatchingData - No data found that matched subset constraints. '\n",
      " 'Exit code 3.',\n",
      " 'PT3.559S',\n",
      " 'ICESAT2']\n",
      "Zip download URL:  https://n5eil02u.ecs.nsidc.org/esir/5000000319294.zip\n",
      "Beginning download of zipped output...\n",
      "Data request 2 is complete.\n"
     ]
    }
   ],
   "source": [
    "# Request data service for each page number, and unzip outputs\n",
    "\n",
    "for i in range(page_num):\n",
    "    page_val = i + 1\n",
    "    print('Order: ', page_val)\n",
    "    subset_params.update( {'page_num': page_val} )\n",
    "    \n",
    "# Post polygon to API endpoint for polygon subsetting to subset based on original, non-simplified KML file\n",
    "\n",
    "#     shape_post = {'shapefile': open(kml_filepath, 'rb')}\n",
    "#     request = session.post(base_url, params=subset_params, files=shape_post) \n",
    "    \n",
    "# FOR ALL OTHER REQUESTS THAT DO NOT UTILIZED AN UPLOADED POLYGON FILE, USE A GET REQUEST INSTEAD OF POST:\n",
    "    request = session.get(base_url, params=subset_params)\n",
    "    \n",
    "    print('Request HTTP response: ', request.status_code)\n",
    "\n",
    "# Raise bad request: Loop will stop for bad response code.\n",
    "    request.raise_for_status()\n",
    "    print('Order request URL: ', request.url)\n",
    "    esir_root = ET.fromstring(request.content)\n",
    "    print('Order request response XML content: ', request.content)\n",
    "\n",
    "# Look up order ID\n",
    "    orderlist = []   \n",
    "    for order in esir_root.findall(\"./order/\"):\n",
    "        orderlist.append(order.text)\n",
    "    orderID = orderlist[0]\n",
    "    print('order ID: ', orderID)\n",
    "\n",
    "# Create status URL\n",
    "    statusURL = base_url + '/' + orderID\n",
    "    print('status URL: ', statusURL)\n",
    "\n",
    "# Find order status\n",
    "    request_response = session.get(statusURL)    \n",
    "    print('HTTP response from order response URL: ', request_response.status_code)\n",
    "    \n",
    "# Raise bad request: Loop will stop for bad response code.\n",
    "    request_response.raise_for_status()\n",
    "    request_root = ET.fromstring(request_response.content)\n",
    "    statuslist = []\n",
    "    for status in request_root.findall(\"./requestStatus/\"):\n",
    "        statuslist.append(status.text)\n",
    "    status = statuslist[0]\n",
    "    print('Data request ', page_val, ' is submitting...')\n",
    "    print('Initial request status is ', status)\n",
    "\n",
    "# Continue to loop while request is still processing\n",
    "    while status == 'pending' or status == 'processing': \n",
    "        print('Status is not complete. Trying again.')\n",
    "        time.sleep(10)\n",
    "        loop_response = session.get(statusURL)\n",
    "\n",
    "# Raise bad request: Loop will stop for bad response code.\n",
    "        loop_response.raise_for_status()\n",
    "        loop_root = ET.fromstring(loop_response.content)\n",
    "\n",
    "# Find status\n",
    "        statuslist = []\n",
    "        for status in loop_root.findall(\"./requestStatus/\"):\n",
    "            statuslist.append(status.text)\n",
    "        status = statuslist[0]\n",
    "        print('Retry request status is: ', status)\n",
    "        if status == 'pending' or status == 'processing':\n",
    "            continue\n",
    "\n",
    "# Order can either complete, complete_with_errors, or fail:\n",
    "# Provide complete_with_errors error message:\n",
    "    if status == 'complete_with_errors' or status == 'failed':\n",
    "        messagelist = []\n",
    "        for message in loop_root.findall(\"./processInfo/\"):\n",
    "            messagelist.append(message.text)\n",
    "        print('error messages:')\n",
    "        pprint.pprint(messagelist)\n",
    "\n",
    "# Download zipped order if status is complete or complete_with_errors\n",
    "    if status == 'complete' or status == 'complete_with_errors':\n",
    "        downloadURL = 'https://n5eil02u.ecs.nsidc.org/esir/' + orderID + '.zip'\n",
    "        print('Zip download URL: ', downloadURL)\n",
    "        print('Beginning download of zipped output...')\n",
    "        zip_response = session.get(downloadURL)\n",
    "        # Raise bad request: Loop will stop for bad response code.\n",
    "        zip_response.raise_for_status()\n",
    "        with zipfile.ZipFile(io.BytesIO(zip_response.content)) as z:\n",
    "            z.extractall(path)\n",
    "        print('Data request', page_val, 'is complete.')\n",
    "    else: print('Request failed.')\n"
   ]
  },
  {
   "cell_type": "markdown",
   "metadata": {},
   "source": [
    "#### Why did we get an error? \n",
    "\n",
    "Errors can occur when our search filter overestimates the extent of the data contained within the granule. CMR uses orbit metadata to determine the extent of the file, including the following parameters:\n",
    "\n",
    "Collection-level:\n",
    "* `SwathWidth`\n",
    "* `Period`\n",
    "* `InclinationAngle`\n",
    "* `NumberOfOrbits` \n",
    "* `StartCircularLatitude` \n",
    "\n",
    "Granule level: \n",
    "* `AscendingCrossing`\n",
    "* `StartLatitude`\n",
    "* `StartDirection`\n",
    "* `EndLatitude`\n",
    "* `EndDirection` \n",
    "\n",
    "However, the values themselves are not inspected during our search. This can be a relatively common error for ICESat-2 search and access because of the limitations of the metadata, but it only means that more data were returned in the search results as a \"false positive\" compared to what the subsetter found when cropping the data values. "
   ]
  },
  {
   "cell_type": "markdown",
   "metadata": {},
   "source": [
    "#### Clean up the Output folder by removing individual order folders:"
   ]
  },
  {
   "cell_type": "code",
   "execution_count": null,
   "metadata": {},
   "outputs": [],
   "source": [
    "#Clean up Outputs folder by removing individual granule folders \n",
    "\n",
    "for root, dirs, files in os.walk(path, topdown=False):\n",
    "    for file in files:\n",
    "        try:\n",
    "            shutil.move(os.path.join(root, file), path)\n",
    "        except OSError:\n",
    "            pass\n",
    "        \n",
    "for root, dirs, files in os.walk(path):\n",
    "    for name in dirs:\n",
    "        os.rmdir(os.path.join(root, name))"
   ]
  },
  {
   "cell_type": "code",
   "execution_count": null,
   "metadata": {},
   "outputs": [],
   "source": [
    "#List files\n",
    "sorted(os.listdir(path))"
   ]
  },
  {
   "cell_type": "markdown",
   "metadata": {},
   "source": [
    "If you're interested in the streaming request method, an example loop is below: "
   ]
  },
  {
   "cell_type": "code",
   "execution_count": null,
   "metadata": {},
   "outputs": [],
   "source": [
    "# Set page size to 1 to improve performance\n",
    "page_size = 1\n",
    "request_params.update( {'page_size': page_size})\n",
    "\n",
    "# No metadata to only return a single output\n",
    "request_params.update( {'include_meta': 'N'})\n",
    "\n",
    "#Determine number of pages basd on page_size and total granules. Loop requests by this value\n",
    "page_num = math.ceil(len(granules)/page_size)\n",
    "print(page_num)\n",
    "\n",
    "#Set request mode. \n",
    "request_params.update( {'request_mode': 'stream'})\n",
    "\n",
    "print(request_params)\n",
    "\n",
    "os.chdir(path)\n",
    "\n",
    "for i in range(page_num):\n",
    "    page_val = i + 1\n",
    "    print('Order: ', page_val)\n",
    "    request_params.update( {'page_num': page_val})\n",
    "    request = session.get(base_url, params=request_params)\n",
    "    print('HTTP response from order response URL: ', request.status_code)\n",
    "    request.raise_for_status()\n",
    "    d = request.headers['content-disposition']\n",
    "    fname = re.findall('filename=(.+)', d)\n",
    "    open(eval(fname[0]), 'wb').write(request.content)\n",
    "    print('Data request', page_val, 'is complete.')"
   ]
  },
  {
   "cell_type": "markdown",
   "metadata": {},
   "source": [
    "### To review, we have explored data availability and volume over a region and time of interest, discovered and selected data customization options, and downloaded data directly to our Pangeo environment. You are welcome to modify the search and service parameters to submit more requests to NSIDC."
   ]
  }
 ],
 "metadata": {
  "kernelspec": {
   "display_name": "Python 3",
   "language": "python",
   "name": "python3"
  },
  "language_info": {
   "codemirror_mode": {
    "name": "ipython",
    "version": 3
   },
   "file_extension": ".py",
   "mimetype": "text/x-python",
   "name": "python",
   "nbconvert_exporter": "python",
   "pygments_lexer": "ipython3",
   "version": "3.6.7"
  }
 },
 "nbformat": 4,
 "nbformat_minor": 2
}
