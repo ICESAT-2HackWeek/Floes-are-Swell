{
 "cells": [
  {
   "cell_type": "markdown",
   "metadata": {},
   "source": [
    "# Obtain Data from NSIDC DAAC - spatially/temporally subsetted to Bering Sea\n",
    "\n"
   ]
  },
  {
   "cell_type": "markdown",
   "metadata": {},
   "source": [
    "## Import packages\n"
   ]
  },
  {
   "cell_type": "code",
   "execution_count": 1,
   "metadata": {},
   "outputs": [],
   "source": [
    "import requests\n",
    "import getpass\n",
    "import socket\n",
    "import json\n",
    "import zipfile\n",
    "import io\n",
    "import math\n",
    "import os\n",
    "import shutil\n",
    "import pprint\n",
    "import time\n",
    "import geopandas as gpd\n",
    "import matplotlib.pyplot as plt\n",
    "import fiona\n",
    "import h5py\n",
    "import re\n",
    "# To read KML files with geopandas, we will need to enable KML support in fiona (disabled by default)\n",
    "fiona.drvsupport.supported_drivers['LIBKML'] = 'rw'\n",
    "from shapely.geometry import Polygon, mapping\n",
    "from shapely.geometry.polygon import orient\n",
    "from statistics import mean\n",
    "from requests.auth import HTTPBasicAuth"
   ]
  },
  {
   "cell_type": "code",
   "execution_count": 2,
   "metadata": {},
   "outputs": [
    {
     "name": "stdin",
     "output_type": "stream",
     "text": [
      "Earthdata Login password:  ·········\n"
     ]
    }
   ],
   "source": [
    "# Earthdata Login credentials\n",
    "\n",
    "# Enter your Earthdata Login user name\n",
    "uid = 'chorvat'\n",
    "# Enter your email address associated with your Earthdata Login account\n",
    "email = 'christopher_horvat@brown.edu'\n",
    "pswd = getpass.getpass('Earthdata Login password: ')"
   ]
  },
  {
   "cell_type": "code",
   "execution_count": 3,
   "metadata": {
    "attributes": {
     "classes": [],
     "id": "",
     "n": "3"
    }
   },
   "outputs": [
    {
     "name": "stdout",
     "output_type": "stream",
     "text": [
      "55426424-09AF-2D81-02AE-85ECA842F7C4\n"
     ]
    }
   ],
   "source": [
    "# Request token from Common Metadata Repository using Earthdata credentials\n",
    "token_api_url = 'https://cmr.earthdata.nasa.gov/legacy-services/rest/tokens'\n",
    "hostname = socket.gethostname()\n",
    "ip = socket.gethostbyname(hostname)\n",
    "\n",
    "data = {\n",
    "    'token': {\n",
    "        'username': uid,\n",
    "        'password': pswd,\n",
    "        'client_id': 'NSIDC_client_id',\n",
    "        'user_ip_address': ip\n",
    "    }\n",
    "}\n",
    "headers={'Accept': 'application/json'}\n",
    "response = requests.post(token_api_url, json=data, headers=headers)\n",
    "token = json.loads(response.content)['token']['id']\n",
    "print(token)"
   ]
  },
  {
   "cell_type": "code",
   "execution_count": 4,
   "metadata": {},
   "outputs": [],
   "source": [
    "# Input data set ID (e.g. ATL07) of interest here, also known as \"short name\".\n",
    "# We're gonna do this with the sea ice product. \n",
    "short_name = 'ATL07'\n",
    "latest_version = '001'\n"
   ]
  },
  {
   "cell_type": "code",
   "execution_count": 5,
   "metadata": {},
   "outputs": [
    {
     "name": "stdout",
     "output_type": "stream",
     "text": [
      "2018-12-01T00:00:00Z,2018-12-06T23:59:59Z\n"
     ]
    }
   ],
   "source": [
    "# Input temporal range \n",
    "\n",
    "# Input start date in yyyy-MM-dd format\n",
    "start_date = '2018-12-01'\n",
    "# Input start time in HH:mm:ss format\n",
    "start_time = '00:00:00'\n",
    "# Input end date in yyyy-MM-dd format\n",
    "end_date = '2018-12-06'\n",
    "# Input end time in HH:mm:ss format\n",
    "end_time = '23:59:59'\n",
    "\n",
    "temporal = start_date + 'T' + start_time + 'Z' + ',' + end_date + 'T' + end_time + 'Z'\n",
    "print(temporal)"
   ]
  },
  {
   "cell_type": "code",
   "execution_count": 6,
   "metadata": {},
   "outputs": [
    {
     "name": "stdout",
     "output_type": "stream",
     "text": [
      "-180,60,-160,85\n"
     ]
    }
   ],
   "source": [
    "# # Commenting for tutorial since we will be walking through option 3 (spatial file input) together\n",
    "# # Bounding Box spatial parameter in 'W,S,E,N' format\n",
    "\n",
    "# Input bounding box\n",
    "# Input lower left longitude in decimal degrees\n",
    "LL_lon = '-180'\n",
    "# Input lower left latitude in decimal degrees\n",
    "LL_lat = '60'\n",
    "# Input upper right longitude in decimal degrees\n",
    "UR_lon = '-160'\n",
    "# Input upper right latitude in decimal degrees\n",
    "UR_lat = '85'\n",
    "# aoi value used for CMR params below\n",
    "\n",
    "bounding_box = LL_lon + ',' + LL_lat + ',' + UR_lon + ',' + UR_lat\n",
    "bbox = bounding_box\n",
    "# aoi value used for CMR params below\n",
    "aoi = '1'\n",
    "print(bounding_box)\n"
   ]
  },
  {
   "cell_type": "code",
   "execution_count": 7,
   "metadata": {},
   "outputs": [
    {
     "data": {
      "text/plain": [
       "31"
      ]
     },
     "execution_count": 7,
     "metadata": {},
     "output_type": "execute_result"
    }
   ],
   "source": [
    "params = {\n",
    "    'short_name': short_name,\n",
    "    'version': latest_version,\n",
    "    'temporal': temporal,\n",
    "    'page_size': 100,\n",
    "    'page_num': 1,\n",
    "    'bounding_box': bounding_box\n",
    "    }\n",
    "    \n",
    "# Query number of granules using our (paging over results)\n",
    "\n",
    "granule_search_url = 'https://cmr.earthdata.nasa.gov/search/granules'\n",
    "\n",
    "granules = []\n",
    "while True:\n",
    "    response = requests.get(granule_search_url, params=params, headers=headers)\n",
    "    results = json.loads(response.content)\n",
    "\n",
    "    if len(results['feed']['entry']) == 0:\n",
    "        # Out of results, so break out of loop\n",
    "        break\n",
    "\n",
    "    # Collect results and increment page_num\n",
    "    granules.extend(results['feed']['entry'])\n",
    "    params['page_num'] += 1\n",
    "\n",
    "    \n",
    "# Get number of granules over my area and time of interest\n",
    "len(granules)"
   ]
  },
  {
   "cell_type": "code",
   "execution_count": 8,
   "metadata": {},
   "outputs": [
    {
     "name": "stdout",
     "output_type": "stream",
     "text": [
      "https://n5eil02u.ecs.nsidc.org/egi/capabilities/ATL07.001.xml\n"
     ]
    }
   ],
   "source": [
    "# Query service capability URL \n",
    "\n",
    "from xml.etree import ElementTree as ET\n",
    "\n",
    "capability_url = f'https://n5eil02u.ecs.nsidc.org/egi/capabilities/{short_name}.{latest_version}.xml'\n",
    "\n",
    "print(capability_url)"
   ]
  },
  {
   "cell_type": "markdown",
   "metadata": {},
   "source": [
    "All of NSIDC's service endpoints are behind NASA Earthdata Login. We need to create a session to store cookies and pass Earthdata Login credentials to capabilities url."
   ]
  },
  {
   "cell_type": "code",
   "execution_count": 9,
   "metadata": {},
   "outputs": [],
   "source": [
    "# Create session to store cookie and pass credentials to capabilities url\n",
    "\n",
    "session = requests.session()\n",
    "s = session.get(capability_url)\n",
    "response = session.get(s.url,auth=(uid,pswd))\n",
    "\n",
    "root = ET.fromstring(response.content)"
   ]
  },
  {
   "cell_type": "markdown",
   "metadata": {},
   "source": [
    "From the service capability XML, we can collect lists with each service option to gather service information."
   ]
  },
  {
   "cell_type": "code",
   "execution_count": 10,
   "metadata": {},
   "outputs": [],
   "source": [
    "# collect lists with each service option\n",
    "\n",
    "subagent = [subset_agent.attrib for subset_agent in root.iter('SubsetAgent')]\n",
    "\n",
    "# variable subsetting\n",
    "variables = [SubsetVariable.attrib for SubsetVariable in root.iter('SubsetVariable')]  \n",
    "variables_raw = [variables[i]['value'] for i in range(len(variables))]\n",
    "variables_join = [''.join(('/',v)) if v.startswith('/') == False else v for v in variables_raw] \n",
    "variable_vals = [v.replace(':', '/') for v in variables_join]\n",
    "\n",
    "# reformatting\n",
    "formats = [Format.attrib for Format in root.iter('Format')]\n",
    "format_vals = [formats[i]['value'] for i in range(len(formats))]\n",
    "format_vals.remove('')\n",
    "\n",
    "# reprojection only applicable on ICESat-2 L3B products, yet to be available. \n",
    "\n",
    "# reformatting options that support reprojection\n",
    "normalproj = [Projections.attrib for Projections in root.iter('Projections')]\n",
    "normalproj_vals = []\n",
    "normalproj_vals.append(normalproj[0]['normalProj'])\n",
    "format_proj = normalproj_vals[0].split(',')\n",
    "format_proj.remove('')\n",
    "format_proj.append('No reformatting')\n",
    "\n",
    "#reprojection options\n",
    "projections = [Projection.attrib for Projection in root.iter('Projection')]\n",
    "proj_vals = []\n",
    "for i in range(len(projections)):\n",
    "    if (projections[i]['value']) != 'NO_CHANGE' :\n",
    "        proj_vals.append(projections[i]['value'])\n",
    "        \n",
    "# reformatting options that do not support reprojection\n",
    "no_proj = [i for i in format_vals if i not in format_proj]"
   ]
  },
  {
   "cell_type": "markdown",
   "metadata": {},
   "source": [
    "#### Let's confirm that subset services exist for our data set by reviewing the `subagent` list. If the list contains service information, we know that services are available. If not, we need to set the `agent` API parameter to `NO` to indicate that our request will bypass the subsetter. This will quickly send back the data \"natively\" without any customization applied."
   ]
  },
  {
   "cell_type": "code",
   "execution_count": 11,
   "metadata": {},
   "outputs": [
    {
     "name": "stdout",
     "output_type": "stream",
     "text": [
      "[{'id': 'ICESAT2', 'spatialSubsetting': 'true', 'spatialSubsettingShapefile': 'true', 'temporalSubsetting': 'true', 'type': 'both', 'maxGransSyncRequest': '100', 'maxGransAsyncRequest': '2000'}]\n"
     ]
    }
   ],
   "source": [
    "print(subagent)\n",
    "if len(subagent) < 1 :\n",
    "    agent = 'NO'"
   ]
  },
  {
   "cell_type": "markdown",
   "metadata": {},
   "source": [
    "More information is contained in the subagent list, including the maximum number of granules that we can request per order depending on our configuration. We'll come back to these options below."
   ]
  },
  {
   "cell_type": "markdown",
   "metadata": {},
   "source": [
    "#### Let's start with spatial subsetting. Recall that there are three options to *filter* our search results by spatial constraint: \n",
    "\n",
    "1) Bounding Box: Corresponding to the CMR `bounding_box` KVP\n",
    "\n",
    "2) Polygon coordinate pairs: Corresponding to the CMR `polygon` KVP\n",
    "\n",
    "3) Spatial file input, including Esri Shapefile or KML/KMZ: We simplified the file input to also be read by the CMR `polygon` KVP \n",
    "    \n",
    "#### We see above that `spatialSubsetting` is `true` and `spatialSubsettingShapefile` is `true`. Therefore the same *filtering* options can be applied to our *subset* constraint, with unique KVPs for the subsetting service:\n",
    "\n",
    "1) Bounding Box: `bbox` subset KVP\n",
    "\n",
    "2) Polygon coordinate pairs: `bounding_shape` subset KVP in [GeoJSON](https://geojson.org/) format. \n",
    "\n",
    "3) Spatial file input: The file can be read directly by the subsetter without simplification. This file will be posted to the API endpoint, so we don't need to specify an additional subset KVP here. "
   ]
  },
  {
   "cell_type": "markdown",
   "metadata": {},
   "source": [
    "#### Because we're pursuing option 3), we don't need to provide an additional subset parameter. Below is commented code for bounding box inputs."
   ]
  },
  {
   "cell_type": "code",
   "execution_count": 12,
   "metadata": {},
   "outputs": [
    {
     "name": "stdout",
     "output_type": "stream",
     "text": [
      "2018-12-01T00:00:00,2018-12-06T23:59:59\n"
     ]
    }
   ],
   "source": [
    "# Temporal subsetting KVP\n",
    "\n",
    "timevar = start_date + 'T' + start_time + ',' + end_date + 'T' + end_time\n",
    "print(timevar)\n",
    "\n",
    "# print(format_vals)\n",
    "# pprint.pprint(variable_vals)"
   ]
  },
  {
   "cell_type": "markdown",
   "metadata": {},
   "source": [
    "#### Next, let's explore the reformatting options available.\n"
   ]
  },
  {
   "cell_type": "markdown",
   "metadata": {},
   "source": [
    "We can view the entire list of variables if desired:"
   ]
  },
  {
   "cell_type": "code",
   "execution_count": 13,
   "metadata": {},
   "outputs": [],
   "source": [
    "coverage = '/gt1l/sea_ice_segments/delta_time,\\\n",
    "/gt1l/sea_ice_segments/latitude,\\\n",
    "/gt1l/sea_ice_segments/longitude,\\\n",
    "/gt1l/sea_ice_segments/seg_dist_x,\\\n",
    "/gt1l/sea_ice_segments/heights/across_track_distance,\\\n",
    "/gt1l/sea_ice_segments/heights/height_segment_height,\\\n",
    "/gt1l/sea_ice_segments/heights/height_segment_fit_quality_flag,\\\n",
    "/gt1l/sea_ice_segments/heights/height_segment_confidence,\\\n",
    "/gt1l/sea_ice_segments/heights/height_segment_length_seg,\\\n",
    "/gt1l/sea_ice_segments/heights/height_segment_type,\\\n",
    "/gt1l/sea_ice_segments/heights/height_segment_w_gaussian,\\\n",
    "/gt1l/sea_ice_segments/heights/height_segment_rms,\\\n",
    "/gt1l/sea_ice_segments/heights/height_segment_ssh_flag,\\\n",
    "/gt1l/sea_ice_segments/heights/height_segment_surface_error_est,\\\n",
    "/gt1l/sea_ice_segments/geophysical/height_segment_dac,\\\n",
    "/gt1l/sea_ice_segments/geophysical/height_segment_mss,\\\n",
    "/gt1l/sea_ice_segments/geophysical/height_segment_geoid,\\\n",
    "/gt1l/ancillary_data/atlas_sdp_gps_epoch,\\\n",
    "/gt1l/sea_ice_segments/stats/ice_conc,\\\n",
    "/gt1r/sea_ice_segments/delta_time,\\\n",
    "/gt1r/sea_ice_segments/latitude,\\\n",
    "/gt1r/sea_ice_segments/longitude,\\\n",
    "/gt1r/sea_ice_segments/seg_dist_x,\\\n",
    "/gt1r/sea_ice_segments/heights/across_track_distance,\\\n",
    "/gt1r/sea_ice_segments/heights/height_segment_height,\\\n",
    "/gt1r/sea_ice_segments/heights/height_segment_fit_quality_flag,\\\n",
    "/gt1r/sea_ice_segments/heights/height_segment_confidence,\\\n",
    "/gt1r/sea_ice_segments/heights/height_segment_length_seg,\\\n",
    "/gt1r/sea_ice_segments/heights/height_segment_type,\\\n",
    "/gt1r/sea_ice_segments/heights/height_segment_w_gaussian,\\\n",
    "/gt1r/sea_ice_segments/heights/height_segment_rms,\\\n",
    "/gt1r/sea_ice_segments/heights/height_segment_ssh_flag,\\\n",
    "/gt1r/sea_ice_segments/heights/height_segment_surface_error_est,\\\n",
    "/gt1r/sea_ice_segments/geophysical/height_segment_dac,\\\n",
    "/gt1r/sea_ice_segments/geophysical/height_segment_mss,\\\n",
    "/gt1r/sea_ice_segments/geophysical/height_segment_geoid,\\\n",
    "/gt1r/ancillary_data/atlas_sdp_gps_epoch,\\\n",
    "/gt1r/sea_ice_segments/stats/ice_conc,\\\n",
    "/gt2l/sea_ice_segments/delta_time,\\\n",
    "/gt2l/sea_ice_segments/latitude,\\\n",
    "/gt2l/sea_ice_segments/longitude,\\\n",
    "/gt2l/sea_ice_segments/seg_dist_x,\\\n",
    "/gt2l/sea_ice_segments/heights/across_track_distance,\\\n",
    "/gt2l/sea_ice_segments/heights/height_segment_height,\\\n",
    "/gt2l/sea_ice_segments/heights/height_segment_fit_quality_flag,\\\n",
    "/gt2l/sea_ice_segments/heights/height_segment_confidence,\\\n",
    "/gt2l/sea_ice_segments/heights/height_segment_length_seg,\\\n",
    "/gt2l/sea_ice_segments/heights/height_segment_type,\\\n",
    "/gt2l/sea_ice_segments/heights/height_segment_w_gaussian,\\\n",
    "/gt2l/sea_ice_segments/heights/height_segment_rms,\\\n",
    "/gt2l/sea_ice_segments/heights/height_segment_ssh_flag,\\\n",
    "/gt2l/sea_ice_segments/heights/height_segment_surface_error_est,\\\n",
    "/gt2l/sea_ice_segments/geophysical/height_segment_dac,\\\n",
    "/gt2l/sea_ice_segments/geophysical/height_segment_mss,\\\n",
    "/gt2l/sea_ice_segments/geophysical/height_segment_geoid,\\\n",
    "/gt2l/ancillary_data/atlas_sdp_gps_epoch,\\\n",
    "/gt2l/sea_ice_segments/stats/ice_conc,\\\n",
    "/gt2r/sea_ice_segments/delta_time,\\\n",
    "/gt2r/sea_ice_segments/latitude,\\\n",
    "/gt2r/sea_ice_segments/longitude,\\\n",
    "/gt2r/sea_ice_segments/seg_dist_x,\\\n",
    "/gt2r/sea_ice_segments/heights/across_track_distance,\\\n",
    "/gt2r/sea_ice_segments/heights/height_segment_height,\\\n",
    "/gt2r/sea_ice_segments/heights/height_segment_fit_quality_flag,\\\n",
    "/gt2r/sea_ice_segments/heights/height_segment_confidence,\\\n",
    "/gt2r/sea_ice_segments/heights/height_segment_length_seg,\\\n",
    "/gt2r/sea_ice_segments/heights/height_segment_type,\\\n",
    "/gt2r/sea_ice_segments/heights/height_segment_w_gaussian,\\\n",
    "/gt2r/sea_ice_segments/heights/height_segment_rms,\\\n",
    "/gt2r/sea_ice_segments/heights/height_segment_ssh_flag,\\\n",
    "/gt2r/sea_ice_segments/heights/height_segment_surface_error_est,\\\n",
    "/gt2r/sea_ice_segments/geophysical/height_segment_dac,\\\n",
    "/gt2r/sea_ice_segments/geophysical/height_segment_mss,\\\n",
    "/gt2r/sea_ice_segments/geophysical/height_segment_geoid,\\\n",
    "/gt2r/ancillary_data/atlas_sdp_gps_epoch,\\\n",
    "/gt2r/sea_ice_segments/stats/ice_conc,\\\n",
    "/gt3l/sea_ice_segments/delta_time,\\\n",
    "/gt3l/sea_ice_segments/latitude,\\\n",
    "/gt3l/sea_ice_segments/longitude,\\\n",
    "/gt3l/sea_ice_segments/seg_dist_x,\\\n",
    "/gt3l/sea_ice_segments/heights/across_track_distance,\\\n",
    "/gt3l/sea_ice_segments/heights/height_segment_height,\\\n",
    "/gt3l/sea_ice_segments/heights/height_segment_fit_quality_flag,\\\n",
    "/gt3l/sea_ice_segments/heights/height_segment_confidence,\\\n",
    "/gt3l/sea_ice_segments/heights/height_segment_length_seg,\\\n",
    "/gt3l/sea_ice_segments/heights/height_segment_type,\\\n",
    "/gt3l/sea_ice_segments/heights/height_segment_w_gaussian,\\\n",
    "/gt3l/sea_ice_segments/heights/height_segment_rms,\\\n",
    "/gt3l/sea_ice_segments/heights/height_segment_ssh_flag,\\\n",
    "/gt3l/sea_ice_segments/heights/height_segment_surface_error_est,\\\n",
    "/gt3l/sea_ice_segments/geophysical/height_segment_dac,\\\n",
    "/gt3l/sea_ice_segments/geophysical/height_segment_mss,\\\n",
    "/gt3l/sea_ice_segments/geophysical/height_segment_geoid,\\\n",
    "/gt3l/ancillary_data/atlas_sdp_gps_epoch,\\\n",
    "/gt3l/sea_ice_segments/stats/ice_conc,\\\n",
    "/gt3r/sea_ice_segments/delta_time,\\\n",
    "/gt3r/sea_ice_segments/latitude,\\\n",
    "/gt3r/sea_ice_segments/longitude,\\\n",
    "/gt3r/sea_ice_segments/seg_dist_x,\\\n",
    "/gt3r/sea_ice_segments/heights/across_track_distance,\\\n",
    "/gt3r/sea_ice_segments/heights/height_segment_height,\\\n",
    "/gt3r/sea_ice_segments/heights/height_segment_fit_quality_flag,\\\n",
    "/gt3r/sea_ice_segments/heights/height_segment_confidence,\\\n",
    "/gt3r/sea_ice_segments/heights/height_segment_length_seg,\\\n",
    "/gt3r/sea_ice_segments/heights/height_segment_type,\\\n",
    "/gt3r/sea_ice_segments/heights/height_segment_w_gaussian,\\\n",
    "/gt3r/sea_ice_segments/heights/height_segment_rms,\\\n",
    "/gt3r/sea_ice_segments/heights/height_segment_ssh_flag,\\\n",
    "/gt3r/sea_ice_segments/heights/height_segment_surface_error_est,\\\n",
    "/gt3r/sea_ice_segments/geophysical/height_segment_dac,\\\n",
    "/gt3r/sea_ice_segments/geophysical/height_segment_mss,\\\n",
    "/gt3r/sea_ice_segments/geophysical/height_segment_geoid,\\\n",
    "/gt3r/ancillary_data/atlas_sdp_gps_epoch,\\\n",
    "/gt3r/sea_ice_segments/stats/ice_conc'"
   ]
  },
  {
   "cell_type": "code",
   "execution_count": 14,
   "metadata": {},
   "outputs": [],
   "source": [
    "#Set NSIDC data access base URL\n",
    "base_url = 'https://n5eil02u.ecs.nsidc.org/egi/request'"
   ]
  },
  {
   "cell_type": "code",
   "execution_count": 15,
   "metadata": {},
   "outputs": [],
   "source": [
    "# Set number of granules requested per order, which we will initially set to 10.\n",
    "page_size = 20\n",
    "\n",
    "#Determine number of pages basd on page_size and total granules. Loop requests by this value\n",
    "page_num = math.ceil(len(granules)/page_size)\n",
    "\n",
    "#Set request mode. \n",
    "request_mode = 'async'\n",
    "\n",
    "# Determine how many individual orders we will request based on the number of granules requested"
   ]
  },
  {
   "cell_type": "markdown",
   "metadata": {},
   "source": [
    "#### After all of these KVP inputs, what does our request look like? Here's a summary of all possible KVPs that we explored, both for CMR searching and for the subsetter:\n",
    "\n",
    "#### CMR search keys:\n",
    "* `short_name=`\n",
    "* `version=`\n",
    "* `temporal=`\n",
    "* `bounding_box=`\n",
    "* `polygon=`\n",
    "\n",
    "#### Customization service keys:\n",
    "* `time=`\n",
    "* `bbox=`\n",
    "* `bounding_shape=` \n",
    "* `format=`\n",
    "* `projection=`\n",
    "* `projection_parameters=`\n",
    "* `Coverage=`\n",
    "\n",
    "#### No customization (access only):\n",
    "* `agent=`    \n",
    "* `include_meta=` \n",
    "    * `Y` by default. `N` for No metadata requested.\n",
    "\n",
    "#### Request configuration keys:\n",
    "* `request_mode=` \n",
    "* `page_size=`\n",
    "* `page_num=`\n",
    "* `token=`\n",
    "* `email=`"
   ]
  },
  {
   "cell_type": "markdown",
   "metadata": {},
   "source": [
    "#### If we were to create an API request based on our request parameters and submit into a web browser for example, here's what we end up with:"
   ]
  },
  {
   "cell_type": "code",
   "execution_count": 16,
   "metadata": {},
   "outputs": [
    {
     "name": "stdout",
     "output_type": "stream",
     "text": [
      "-180,60,-160,85\n",
      "{'short_name': 'ATL07', 'temporal': '2018-12-01T00:00:00Z,2018-12-06T23:59:59Z', 'bounding_box': '-180,60,-160,85', 'Coverage': '/gt1l/sea_ice_segments/delta_time,/gt1l/sea_ice_segments/latitude,/gt1l/sea_ice_segments/longitude,/gt1l/sea_ice_segments/seg_dist_x,/gt1l/sea_ice_segments/heights/across_track_distance,/gt1l/sea_ice_segments/heights/height_segment_height,/gt1l/sea_ice_segments/heights/height_segment_fit_quality_flag,/gt1l/sea_ice_segments/heights/height_segment_confidence,/gt1l/sea_ice_segments/heights/height_segment_length_seg,/gt1l/sea_ice_segments/heights/height_segment_type,/gt1l/sea_ice_segments/heights/height_segment_w_gaussian,/gt1l/sea_ice_segments/heights/height_segment_rms,/gt1l/sea_ice_segments/heights/height_segment_ssh_flag,/gt1l/sea_ice_segments/heights/height_segment_surface_error_est,/gt1l/sea_ice_segments/geophysical/height_segment_dac,/gt1l/sea_ice_segments/geophysical/height_segment_mss,/gt1l/sea_ice_segments/geophysical/height_segment_geoid,/gt1l/ancillary_data/atlas_sdp_gps_epoch,/gt1l/sea_ice_segments/stats/ice_conc,/gt1r/sea_ice_segments/delta_time,/gt1r/sea_ice_segments/latitude,/gt1r/sea_ice_segments/longitude,/gt1r/sea_ice_segments/seg_dist_x,/gt1r/sea_ice_segments/heights/across_track_distance,/gt1r/sea_ice_segments/heights/height_segment_height,/gt1r/sea_ice_segments/heights/height_segment_fit_quality_flag,/gt1r/sea_ice_segments/heights/height_segment_confidence,/gt1r/sea_ice_segments/heights/height_segment_length_seg,/gt1r/sea_ice_segments/heights/height_segment_type,/gt1r/sea_ice_segments/heights/height_segment_w_gaussian,/gt1r/sea_ice_segments/heights/height_segment_rms,/gt1r/sea_ice_segments/heights/height_segment_ssh_flag,/gt1r/sea_ice_segments/heights/height_segment_surface_error_est,/gt1r/sea_ice_segments/geophysical/height_segment_dac,/gt1r/sea_ice_segments/geophysical/height_segment_mss,/gt1r/sea_ice_segments/geophysical/height_segment_geoid,/gt1r/ancillary_data/atlas_sdp_gps_epoch,/gt1r/sea_ice_segments/stats/ice_conc,/gt2l/sea_ice_segments/delta_time,/gt2l/sea_ice_segments/latitude,/gt2l/sea_ice_segments/longitude,/gt2l/sea_ice_segments/seg_dist_x,/gt2l/sea_ice_segments/heights/across_track_distance,/gt2l/sea_ice_segments/heights/height_segment_height,/gt2l/sea_ice_segments/heights/height_segment_fit_quality_flag,/gt2l/sea_ice_segments/heights/height_segment_confidence,/gt2l/sea_ice_segments/heights/height_segment_length_seg,/gt2l/sea_ice_segments/heights/height_segment_type,/gt2l/sea_ice_segments/heights/height_segment_w_gaussian,/gt2l/sea_ice_segments/heights/height_segment_rms,/gt2l/sea_ice_segments/heights/height_segment_ssh_flag,/gt2l/sea_ice_segments/heights/height_segment_surface_error_est,/gt2l/sea_ice_segments/geophysical/height_segment_dac,/gt2l/sea_ice_segments/geophysical/height_segment_mss,/gt2l/sea_ice_segments/geophysical/height_segment_geoid,/gt2l/ancillary_data/atlas_sdp_gps_epoch,/gt2l/sea_ice_segments/stats/ice_conc,/gt2r/sea_ice_segments/delta_time,/gt2r/sea_ice_segments/latitude,/gt2r/sea_ice_segments/longitude,/gt2r/sea_ice_segments/seg_dist_x,/gt2r/sea_ice_segments/heights/across_track_distance,/gt2r/sea_ice_segments/heights/height_segment_height,/gt2r/sea_ice_segments/heights/height_segment_fit_quality_flag,/gt2r/sea_ice_segments/heights/height_segment_confidence,/gt2r/sea_ice_segments/heights/height_segment_length_seg,/gt2r/sea_ice_segments/heights/height_segment_type,/gt2r/sea_ice_segments/heights/height_segment_w_gaussian,/gt2r/sea_ice_segments/heights/height_segment_rms,/gt2r/sea_ice_segments/heights/height_segment_ssh_flag,/gt2r/sea_ice_segments/heights/height_segment_surface_error_est,/gt2r/sea_ice_segments/geophysical/height_segment_dac,/gt2r/sea_ice_segments/geophysical/height_segment_mss,/gt2r/sea_ice_segments/geophysical/height_segment_geoid,/gt2r/ancillary_data/atlas_sdp_gps_epoch,/gt2r/sea_ice_segments/stats/ice_conc,/gt3l/sea_ice_segments/delta_time,/gt3l/sea_ice_segments/latitude,/gt3l/sea_ice_segments/longitude,/gt3l/sea_ice_segments/seg_dist_x,/gt3l/sea_ice_segments/heights/across_track_distance,/gt3l/sea_ice_segments/heights/height_segment_height,/gt3l/sea_ice_segments/heights/height_segment_fit_quality_flag,/gt3l/sea_ice_segments/heights/height_segment_confidence,/gt3l/sea_ice_segments/heights/height_segment_length_seg,/gt3l/sea_ice_segments/heights/height_segment_type,/gt3l/sea_ice_segments/heights/height_segment_w_gaussian,/gt3l/sea_ice_segments/heights/height_segment_rms,/gt3l/sea_ice_segments/heights/height_segment_ssh_flag,/gt3l/sea_ice_segments/heights/height_segment_surface_error_est,/gt3l/sea_ice_segments/geophysical/height_segment_dac,/gt3l/sea_ice_segments/geophysical/height_segment_mss,/gt3l/sea_ice_segments/geophysical/height_segment_geoid,/gt3l/ancillary_data/atlas_sdp_gps_epoch,/gt3l/sea_ice_segments/stats/ice_conc,/gt3r/sea_ice_segments/delta_time,/gt3r/sea_ice_segments/latitude,/gt3r/sea_ice_segments/longitude,/gt3r/sea_ice_segments/seg_dist_x,/gt3r/sea_ice_segments/heights/across_track_distance,/gt3r/sea_ice_segments/heights/height_segment_height,/gt3r/sea_ice_segments/heights/height_segment_fit_quality_flag,/gt3r/sea_ice_segments/heights/height_segment_confidence,/gt3r/sea_ice_segments/heights/height_segment_length_seg,/gt3r/sea_ice_segments/heights/height_segment_type,/gt3r/sea_ice_segments/heights/height_segment_w_gaussian,/gt3r/sea_ice_segments/heights/height_segment_rms,/gt3r/sea_ice_segments/heights/height_segment_ssh_flag,/gt3r/sea_ice_segments/heights/height_segment_surface_error_est,/gt3r/sea_ice_segments/geophysical/height_segment_dac,/gt3r/sea_ice_segments/geophysical/height_segment_mss,/gt3r/sea_ice_segments/geophysical/height_segment_geoid,/gt3r/ancillary_data/atlas_sdp_gps_epoch,/gt3r/sea_ice_segments/stats/ice_conc', 'request_mode': 'async', 'page_size': 20, 'token': '55426424-09AF-2D81-02AE-85ECA842F7C4', 'email': 'christopher_horvat@brown.edu'}\n"
     ]
    }
   ],
   "source": [
    "print(bbox)\n",
    "subset_params = {\n",
    "    'short_name': short_name, \n",
    "#    'version': latest_version, \n",
    "    'temporal': temporal, \n",
    "#    'time': timevar, \n",
    "    'bounding_box': bbox, \n",
    "    'Coverage': coverage, \n",
    "    'request_mode': request_mode, \n",
    "    'page_size': page_size,  \n",
    "    'token': token, \n",
    "    'email': email, \n",
    "    }\n",
    "print(subset_params)"
   ]
  },
  {
   "cell_type": "markdown",
   "metadata": {},
   "source": [
    "#### We'll request the same data but without any subsetting services applied. Let's create another request parameter dictionary with the `time` and `coverage` service keys removed, and we'll add `agent=NO` instead."
   ]
  },
  {
   "cell_type": "markdown",
   "metadata": {},
   "source": [
    "## Request Data\n",
    "\n",
    "#### Finally, we'll download the data directly to this notebook directory in a new Outputs folder. The progress of each order will be reported.\n",
    "\n",
    "We'll start by creating an output folder if the folder does not already exist."
   ]
  },
  {
   "cell_type": "code",
   "execution_count": 17,
   "metadata": {},
   "outputs": [],
   "source": [
    "path = '/home/jovyan/Data/'\n",
    "if not os.path.exists(path):\n",
    "    os.mkdir(path)"
   ]
  },
  {
   "cell_type": "markdown",
   "metadata": {},
   "source": [
    "First we'll submit our request without subsetting services:"
   ]
  },
  {
   "cell_type": "code",
   "execution_count": 18,
   "metadata": {},
   "outputs": [
    {
     "name": "stdout",
     "output_type": "stream",
     "text": [
      "Order:  1\n",
      "Request HTTP response:  201\n",
      "Order request URL:  https://n5eil02u.ecs.nsidc.org/egi/request?short_name=ATL07&temporal=2018-12-01T00%3A00%3A00Z%2C2018-12-06T23%3A59%3A59Z&bounding_box=-180%2C60%2C-160%2C85&Coverage=%2Fgt1l%2Fsea_ice_segments%2Fdelta_time%2C%2Fgt1l%2Fsea_ice_segments%2Flatitude%2C%2Fgt1l%2Fsea_ice_segments%2Flongitude%2C%2Fgt1l%2Fsea_ice_segments%2Fseg_dist_x%2C%2Fgt1l%2Fsea_ice_segments%2Fheights%2Facross_track_distance%2C%2Fgt1l%2Fsea_ice_segments%2Fheights%2Fheight_segment_height%2C%2Fgt1l%2Fsea_ice_segments%2Fheights%2Fheight_segment_fit_quality_flag%2C%2Fgt1l%2Fsea_ice_segments%2Fheights%2Fheight_segment_confidence%2C%2Fgt1l%2Fsea_ice_segments%2Fheights%2Fheight_segment_length_seg%2C%2Fgt1l%2Fsea_ice_segments%2Fheights%2Fheight_segment_type%2C%2Fgt1l%2Fsea_ice_segments%2Fheights%2Fheight_segment_w_gaussian%2C%2Fgt1l%2Fsea_ice_segments%2Fheights%2Fheight_segment_rms%2C%2Fgt1l%2Fsea_ice_segments%2Fheights%2Fheight_segment_ssh_flag%2C%2Fgt1l%2Fsea_ice_segments%2Fheights%2Fheight_segment_surface_error_est%2C%2Fgt1l%2Fsea_ice_segments%2Fgeophysical%2Fheight_segment_dac%2C%2Fgt1l%2Fsea_ice_segments%2Fgeophysical%2Fheight_segment_mss%2C%2Fgt1l%2Fsea_ice_segments%2Fgeophysical%2Fheight_segment_geoid%2C%2Fgt1l%2Fancillary_data%2Fatlas_sdp_gps_epoch%2C%2Fgt1l%2Fsea_ice_segments%2Fstats%2Fice_conc%2C%2Fgt1r%2Fsea_ice_segments%2Fdelta_time%2C%2Fgt1r%2Fsea_ice_segments%2Flatitude%2C%2Fgt1r%2Fsea_ice_segments%2Flongitude%2C%2Fgt1r%2Fsea_ice_segments%2Fseg_dist_x%2C%2Fgt1r%2Fsea_ice_segments%2Fheights%2Facross_track_distance%2C%2Fgt1r%2Fsea_ice_segments%2Fheights%2Fheight_segment_height%2C%2Fgt1r%2Fsea_ice_segments%2Fheights%2Fheight_segment_fit_quality_flag%2C%2Fgt1r%2Fsea_ice_segments%2Fheights%2Fheight_segment_confidence%2C%2Fgt1r%2Fsea_ice_segments%2Fheights%2Fheight_segment_length_seg%2C%2Fgt1r%2Fsea_ice_segments%2Fheights%2Fheight_segment_type%2C%2Fgt1r%2Fsea_ice_segments%2Fheights%2Fheight_segment_w_gaussian%2C%2Fgt1r%2Fsea_ice_segments%2Fheights%2Fheight_segment_rms%2C%2Fgt1r%2Fsea_ice_segments%2Fheights%2Fheight_segment_ssh_flag%2C%2Fgt1r%2Fsea_ice_segments%2Fheights%2Fheight_segment_surface_error_est%2C%2Fgt1r%2Fsea_ice_segments%2Fgeophysical%2Fheight_segment_dac%2C%2Fgt1r%2Fsea_ice_segments%2Fgeophysical%2Fheight_segment_mss%2C%2Fgt1r%2Fsea_ice_segments%2Fgeophysical%2Fheight_segment_geoid%2C%2Fgt1r%2Fancillary_data%2Fatlas_sdp_gps_epoch%2C%2Fgt1r%2Fsea_ice_segments%2Fstats%2Fice_conc%2C%2Fgt2l%2Fsea_ice_segments%2Fdelta_time%2C%2Fgt2l%2Fsea_ice_segments%2Flatitude%2C%2Fgt2l%2Fsea_ice_segments%2Flongitude%2C%2Fgt2l%2Fsea_ice_segments%2Fseg_dist_x%2C%2Fgt2l%2Fsea_ice_segments%2Fheights%2Facross_track_distance%2C%2Fgt2l%2Fsea_ice_segments%2Fheights%2Fheight_segment_height%2C%2Fgt2l%2Fsea_ice_segments%2Fheights%2Fheight_segment_fit_quality_flag%2C%2Fgt2l%2Fsea_ice_segments%2Fheights%2Fheight_segment_confidence%2C%2Fgt2l%2Fsea_ice_segments%2Fheights%2Fheight_segment_length_seg%2C%2Fgt2l%2Fsea_ice_segments%2Fheights%2Fheight_segment_type%2C%2Fgt2l%2Fsea_ice_segments%2Fheights%2Fheight_segment_w_gaussian%2C%2Fgt2l%2Fsea_ice_segments%2Fheights%2Fheight_segment_rms%2C%2Fgt2l%2Fsea_ice_segments%2Fheights%2Fheight_segment_ssh_flag%2C%2Fgt2l%2Fsea_ice_segments%2Fheights%2Fheight_segment_surface_error_est%2C%2Fgt2l%2Fsea_ice_segments%2Fgeophysical%2Fheight_segment_dac%2C%2Fgt2l%2Fsea_ice_segments%2Fgeophysical%2Fheight_segment_mss%2C%2Fgt2l%2Fsea_ice_segments%2Fgeophysical%2Fheight_segment_geoid%2C%2Fgt2l%2Fancillary_data%2Fatlas_sdp_gps_epoch%2C%2Fgt2l%2Fsea_ice_segments%2Fstats%2Fice_conc%2C%2Fgt2r%2Fsea_ice_segments%2Fdelta_time%2C%2Fgt2r%2Fsea_ice_segments%2Flatitude%2C%2Fgt2r%2Fsea_ice_segments%2Flongitude%2C%2Fgt2r%2Fsea_ice_segments%2Fseg_dist_x%2C%2Fgt2r%2Fsea_ice_segments%2Fheights%2Facross_track_distance%2C%2Fgt2r%2Fsea_ice_segments%2Fheights%2Fheight_segment_height%2C%2Fgt2r%2Fsea_ice_segments%2Fheights%2Fheight_segment_fit_quality_flag%2C%2Fgt2r%2Fsea_ice_segments%2Fheights%2Fheight_segment_confidence%2C%2Fgt2r%2Fsea_ice_segments%2Fheights%2Fheight_segment_length_seg%2C%2Fgt2r%2Fsea_ice_segments%2Fheights%2Fheight_segment_type%2C%2Fgt2r%2Fsea_ice_segments%2Fheights%2Fheight_segment_w_gaussian%2C%2Fgt2r%2Fsea_ice_segments%2Fheights%2Fheight_segment_rms%2C%2Fgt2r%2Fsea_ice_segments%2Fheights%2Fheight_segment_ssh_flag%2C%2Fgt2r%2Fsea_ice_segments%2Fheights%2Fheight_segment_surface_error_est%2C%2Fgt2r%2Fsea_ice_segments%2Fgeophysical%2Fheight_segment_dac%2C%2Fgt2r%2Fsea_ice_segments%2Fgeophysical%2Fheight_segment_mss%2C%2Fgt2r%2Fsea_ice_segments%2Fgeophysical%2Fheight_segment_geoid%2C%2Fgt2r%2Fancillary_data%2Fatlas_sdp_gps_epoch%2C%2Fgt2r%2Fsea_ice_segments%2Fstats%2Fice_conc%2C%2Fgt3l%2Fsea_ice_segments%2Fdelta_time%2C%2Fgt3l%2Fsea_ice_segments%2Flatitude%2C%2Fgt3l%2Fsea_ice_segments%2Flongitude%2C%2Fgt3l%2Fsea_ice_segments%2Fseg_dist_x%2C%2Fgt3l%2Fsea_ice_segments%2Fheights%2Facross_track_distance%2C%2Fgt3l%2Fsea_ice_segments%2Fheights%2Fheight_segment_height%2C%2Fgt3l%2Fsea_ice_segments%2Fheights%2Fheight_segment_fit_quality_flag%2C%2Fgt3l%2Fsea_ice_segments%2Fheights%2Fheight_segment_confidence%2C%2Fgt3l%2Fsea_ice_segments%2Fheights%2Fheight_segment_length_seg%2C%2Fgt3l%2Fsea_ice_segments%2Fheights%2Fheight_segment_type%2C%2Fgt3l%2Fsea_ice_segments%2Fheights%2Fheight_segment_w_gaussian%2C%2Fgt3l%2Fsea_ice_segments%2Fheights%2Fheight_segment_rms%2C%2Fgt3l%2Fsea_ice_segments%2Fheights%2Fheight_segment_ssh_flag%2C%2Fgt3l%2Fsea_ice_segments%2Fheights%2Fheight_segment_surface_error_est%2C%2Fgt3l%2Fsea_ice_segments%2Fgeophysical%2Fheight_segment_dac%2C%2Fgt3l%2Fsea_ice_segments%2Fgeophysical%2Fheight_segment_mss%2C%2Fgt3l%2Fsea_ice_segments%2Fgeophysical%2Fheight_segment_geoid%2C%2Fgt3l%2Fancillary_data%2Fatlas_sdp_gps_epoch%2C%2Fgt3l%2Fsea_ice_segments%2Fstats%2Fice_conc%2C%2Fgt3r%2Fsea_ice_segments%2Fdelta_time%2C%2Fgt3r%2Fsea_ice_segments%2Flatitude%2C%2Fgt3r%2Fsea_ice_segments%2Flongitude%2C%2Fgt3r%2Fsea_ice_segments%2Fseg_dist_x%2C%2Fgt3r%2Fsea_ice_segments%2Fheights%2Facross_track_distance%2C%2Fgt3r%2Fsea_ice_segments%2Fheights%2Fheight_segment_height%2C%2Fgt3r%2Fsea_ice_segments%2Fheights%2Fheight_segment_fit_quality_flag%2C%2Fgt3r%2Fsea_ice_segments%2Fheights%2Fheight_segment_confidence%2C%2Fgt3r%2Fsea_ice_segments%2Fheights%2Fheight_segment_length_seg%2C%2Fgt3r%2Fsea_ice_segments%2Fheights%2Fheight_segment_type%2C%2Fgt3r%2Fsea_ice_segments%2Fheights%2Fheight_segment_w_gaussian%2C%2Fgt3r%2Fsea_ice_segments%2Fheights%2Fheight_segment_rms%2C%2Fgt3r%2Fsea_ice_segments%2Fheights%2Fheight_segment_ssh_flag%2C%2Fgt3r%2Fsea_ice_segments%2Fheights%2Fheight_segment_surface_error_est%2C%2Fgt3r%2Fsea_ice_segments%2Fgeophysical%2Fheight_segment_dac%2C%2Fgt3r%2Fsea_ice_segments%2Fgeophysical%2Fheight_segment_mss%2C%2Fgt3r%2Fsea_ice_segments%2Fgeophysical%2Fheight_segment_geoid%2C%2Fgt3r%2Fancillary_data%2Fatlas_sdp_gps_epoch%2C%2Fgt3r%2Fsea_ice_segments%2Fstats%2Fice_conc&request_mode=async&page_size=20&token=55426424-09AF-2D81-02AE-85ECA842F7C4&email=christopher_horvat%40brown.edu&page_num=1\n",
      "Order request response XML content:  b'<?xml version=\"1.0\" encoding=\"UTF-8\" standalone=\"yes\"?>\\n<eesi:agentResponse xsi:schemaLocation=\"http://eosdis.nasa.gov/esi/rsp/e https://newsroom.gsfc.nasa.gov/esi/8.1/schemas/ESIAgentResponseExternal.xsd\" xmlns=\"\" xmlns:iesi=\"http://eosdis.nasa.gov/esi/rsp/i\" xmlns:ssw=\"http://newsroom.gsfc.nasa.gov/esi/rsp/ssw\" xmlns:eesi=\"http://eosdis.nasa.gov/esi/rsp/e\" xmlns:esi=\"http://eosdis.nasa.gov/esi/rsp\" xmlns:xsi=\"http://www.w3.org/2001/XMLSchema-instance\">\\n    <order>\\n        <orderId>5000000320137</orderId>\\n        <Instructions>You may receive an email about your order if you specified an EMAIL address. &lt;br/&gt;&lt;br/&gt;The instructions used to process this order are:  Band(s)=/gt1l/sea_ice_segments/delta_time,/gt1l/sea_ice_segments/latitude,/gt1l/sea_ice_segments/longitude,/gt1l/sea_ice_segments/seg_dist_x,/gt1l/sea_ice_segments/heights/across_track_distance,/gt1l/sea_ice_segments/heights/height_segment_height,/gt1l/sea_ice_segments/heights/height_segment_fit_quality_flag,/gt1l/sea_ice_segments/heights/height_segment_confidence,/gt1l/sea_ice_segments/heights/height_segment_length_seg,/gt1l/sea_ice_segments/heights/height_segment_type,/gt1l/sea_ice_segments/heights/height_segment_w_gaussian,/gt1l/sea_ice_segments/heights/height_segment_rms,/gt1l/sea_ice_segments/heights/height_segment_ssh_flag,/gt1l/sea_ice_segments/heights/height_segment_surface_error_est,/gt1l/sea_ice_segments/geophysical/height_segment_dac,/gt1l/sea_ice_segments/geophysical/height_segment_mss,/gt1l/sea_ice_segments/geophysical/height_segment_geoid,/gt1l/ancillary_data/atlas_sdp_gps_epoch,/gt1l/sea_ice_segments/stats/ice_conc,/gt1r/sea_ice_segments/delta_time,/gt1r/sea_ice_segments/latitude,/gt1r/sea_ice_segments/longitude,/gt1r/sea_ice_segments/seg_dist_x,/gt1r/sea_ice_segments/heights/across_track_distance,/gt1r/sea_ice_segments/heights/height_segment_height,/gt1r/sea_ice_segments/heights/height_segment_fit_quality_flag,/gt1r/sea_ice_segments/heights/height_segment_confidence,/gt1r/sea_ice_segments/heights/height_segment_length_seg,/gt1r/sea_ice_segments/heights/height_segment_type,/gt1r/sea_ice_segments/heights/height_segment_w_gaussian,/gt1r/sea_ice_segments/heights/height_segment_rms,/gt1r/sea_ice_segments/heights/height_segment_ssh_flag,/gt1r/sea_ice_segments/heights/height_segment_surface_error_est,/gt1r/sea_ice_segments/geophysical/height_segment_dac,/gt1r/sea_ice_segments/geophysical/height_segment_mss,/gt1r/sea_ice_segments/geophysical/height_segment_geoid,/gt1r/ancillary_data/atlas_sdp_gps_epoch,/gt1r/sea_ice_segments/stats/ice_conc,/gt2l/sea_ice_segments/delta_time,/gt2l/sea_ice_segments/latitude,/gt2l/sea_ice_segments/longitude,/gt2l/sea_ice_segments/seg_dist_x,/gt2l/sea_ice_segments/heights/across_track_distance,/gt2l/sea_ice_segments/heights/height_segment_height,/gt2l/sea_ice_segments/heights/height_segment_fit_quality_flag,/gt2l/sea_ice_segments/heights/height_segment_confidence,/gt2l/sea_ice_segments/heights/height_segment_length_seg,/gt2l/sea_ice_segments/heights/height_segment_type,/gt2l/sea_ice_segments/heights/height_segment_w_gaussian,/gt2l/sea_ice_segments/heights/height_segment_rms,/gt2l/sea_ice_segments/heights/height_segment_ssh_flag,/gt2l/sea_ice_segments/heights/height_segment_surface_error_est,/gt2l/sea_ice_segments/geophysical/height_segment_dac,/gt2l/sea_ice_segments/geophysical/height_segment_mss,/gt2l/sea_ice_segments/geophysical/height_segment_geoid,/gt2l/ancillary_data/atlas_sdp_gps_epoch,/gt2l/sea_ice_segments/stats/ice_conc,/gt2r/sea_ice_segments/delta_time,/gt2r/sea_ice_segments/latitude,/gt2r/sea_ice_segments/longitude,/gt2r/sea_ice_segments/seg_dist_x,/gt2r/sea_ice_segments/heights/across_track_distance,/gt2r/sea_ice_segments/heights/height_segment_height,/gt2r/sea_ice_segments/heights/height_segment_fit_quality_flag,/gt2r/sea_ice_segments/heights/height_segment_confidence,/gt2r/sea_ice_segments/heights/height_segment_length_seg,/gt2r/sea_ice_segments/heights/height_segment_type,/gt2r/sea_ice_segments/heights/height_segment_w_gaussian,/gt2r/sea_ice_segments/heights/height_segment_rms,/gt2r/sea_ice_segments/heights/height_segment_ssh_flag,/gt2r/sea_ice_segments/heights/height_segment_surface_error_est,/gt2r/sea_ice_segments/geophysical/height_segment_dac,/gt2r/sea_ice_segments/geophysical/height_segment_mss,/gt2r/sea_ice_segments/geophysical/height_segment_geoid,/gt2r/ancillary_data/atlas_sdp_gps_epoch,/gt2r/sea_ice_segments/stats/ice_conc,/gt3l/sea_ice_segments/delta_time,/gt3l/sea_ice_segments/latitude,/gt3l/sea_ice_segments/longitude,/gt3l/sea_ice_segments/seg_dist_x,/gt3l/sea_ice_segments/heights/across_track_distance,/gt3l/sea_ice_segments/heights/height_segment_height,/gt3l/sea_ice_segments/heights/height_segment_fit_quality_flag,/gt3l/sea_ice_segments/heights/height_segment_confidence,/gt3l/sea_ice_segments/heights/height_segment_length_seg,/gt3l/sea_ice_segments/heights/height_segment_type,/gt3l/sea_ice_segments/heights/height_segment_w_gaussian,/gt3l/sea_ice_segments/heights/height_segment_rms,/gt3l/sea_ice_segments/heights/height_segment_ssh_flag,/gt3l/sea_ice_segments/heights/height_segment_surface_error_est,/gt3l/sea_ice_segments/geophysical/height_segment_dac,/gt3l/sea_ice_segments/geophysical/height_segment_mss,/gt3l/sea_ice_segments/geophysical/height_segment_geoid,/gt3l/ancillary_data/atlas_sdp_gps_epoch,/gt3l/sea_ice_segments/stats/ice_conc,/gt3r/sea_ice_segments/delta_time,/gt3r/sea_ice_segments/latitude,/gt3r/sea_ice_segments/longitude,/gt3r/sea_ice_segments/seg_dist_x,/gt3r/sea_ice_segments/heights/across_track_distance,/gt3r/sea_ice_segments/heights/height_segment_height,/gt3r/sea_ice_segments/heights/height_segment_fit_quality_flag,/gt3r/sea_ice_segments/heights/height_segment_confidence,/gt3r/sea_ice_segments/heights/height_segment_length_seg,/gt3r/sea_ice_segments/heights/height_segment_type,/gt3r/sea_ice_segments/heights/height_segment_w_gaussian,/gt3r/sea_ice_segments/heights/height_segment_rms,/gt3r/sea_ice_segments/heights/height_segment_ssh_flag,/gt3r/sea_ice_segments/heights/height_segment_surface_error_est,/gt3r/sea_ice_segments/geophysical/height_segment_dac,/gt3r/sea_ice_segments/geophysical/height_segment_mss,/gt3r/sea_ice_segments/geophysical/height_segment_geoid,/gt3r/ancillary_data/atlas_sdp_gps_epoch,/gt3r/sea_ice_segments/stats/ice_conc. Granule id(s)=SC:ATL07.001:161206725,SC:ATL07.001:161184621,SC:ATL07.001:161223927,SC:ATL07.001:161225909,SC:ATL07.001:161225907,SC:ATL07.001:161204112,SC:ATL07.001:161225952,SC:ATL07.001:161204127,SC:ATL07.001:161223899,SC:ATL07.001:161225905,SC:ATL07.001:161225938,SC:ATL07.001:161225664,SC:ATL07.001:161226439,SC:ATL07.001:161225973,SC:ATL07.001:161226428,SC:ATL07.001:161226913,SC:ATL07.001:161192631,SC:ATL07.001:161196353,SC:ATL07.001:161230241,SC:ATL07.001:161227181. Email address=christopher_horvat@brown.edu. Processing tool=ICESAT2.</Instructions>\\n    </order>\\n    <contactInformation>\\n        <contactName>NSIDC User Services</contactName>\\n        <contactEmail>nsidc@nsidc.org</contactEmail>\\n    </contactInformation>\\n    <processInfo>\\n        <processDuration>PT0.269S</processDuration>\\n        <subagentId>ICESAT2</subagentId>\\n    </processInfo>\\n    <requestStatus>\\n        <status>processing</status>\\n        <numberProcessed>0</numberProcessed>\\n        <totalNumber>20</totalNumber>\\n    </requestStatus>\\n</eesi:agentResponse>\\n'\n",
      "order ID:  5000000320137\n",
      "status URL:  https://n5eil02u.ecs.nsidc.org/egi/request/5000000320137\n",
      "HTTP response from order response URL:  201\n",
      "Data request  1  is submitting...\n",
      "Initial request status is  processing\n",
      "Status is not complete. Trying again.\n",
      "Retry request status is:  processing\n",
      "Status is not complete. Trying again.\n",
      "Retry request status is:  processing\n",
      "Status is not complete. Trying again.\n",
      "Retry request status is:  complete\n",
      "Zip download URL:  https://n5eil02u.ecs.nsidc.org/esir/5000000320137.zip\n",
      "Beginning download of zipped output...\n",
      "Data request 1 is complete.\n",
      "Order:  2\n",
      "Request HTTP response:  201\n",
      "Order request URL:  https://n5eil02u.ecs.nsidc.org/egi/request?short_name=ATL07&temporal=2018-12-01T00%3A00%3A00Z%2C2018-12-06T23%3A59%3A59Z&bounding_box=-180%2C60%2C-160%2C85&Coverage=%2Fgt1l%2Fsea_ice_segments%2Fdelta_time%2C%2Fgt1l%2Fsea_ice_segments%2Flatitude%2C%2Fgt1l%2Fsea_ice_segments%2Flongitude%2C%2Fgt1l%2Fsea_ice_segments%2Fseg_dist_x%2C%2Fgt1l%2Fsea_ice_segments%2Fheights%2Facross_track_distance%2C%2Fgt1l%2Fsea_ice_segments%2Fheights%2Fheight_segment_height%2C%2Fgt1l%2Fsea_ice_segments%2Fheights%2Fheight_segment_fit_quality_flag%2C%2Fgt1l%2Fsea_ice_segments%2Fheights%2Fheight_segment_confidence%2C%2Fgt1l%2Fsea_ice_segments%2Fheights%2Fheight_segment_length_seg%2C%2Fgt1l%2Fsea_ice_segments%2Fheights%2Fheight_segment_type%2C%2Fgt1l%2Fsea_ice_segments%2Fheights%2Fheight_segment_w_gaussian%2C%2Fgt1l%2Fsea_ice_segments%2Fheights%2Fheight_segment_rms%2C%2Fgt1l%2Fsea_ice_segments%2Fheights%2Fheight_segment_ssh_flag%2C%2Fgt1l%2Fsea_ice_segments%2Fheights%2Fheight_segment_surface_error_est%2C%2Fgt1l%2Fsea_ice_segments%2Fgeophysical%2Fheight_segment_dac%2C%2Fgt1l%2Fsea_ice_segments%2Fgeophysical%2Fheight_segment_mss%2C%2Fgt1l%2Fsea_ice_segments%2Fgeophysical%2Fheight_segment_geoid%2C%2Fgt1l%2Fancillary_data%2Fatlas_sdp_gps_epoch%2C%2Fgt1l%2Fsea_ice_segments%2Fstats%2Fice_conc%2C%2Fgt1r%2Fsea_ice_segments%2Fdelta_time%2C%2Fgt1r%2Fsea_ice_segments%2Flatitude%2C%2Fgt1r%2Fsea_ice_segments%2Flongitude%2C%2Fgt1r%2Fsea_ice_segments%2Fseg_dist_x%2C%2Fgt1r%2Fsea_ice_segments%2Fheights%2Facross_track_distance%2C%2Fgt1r%2Fsea_ice_segments%2Fheights%2Fheight_segment_height%2C%2Fgt1r%2Fsea_ice_segments%2Fheights%2Fheight_segment_fit_quality_flag%2C%2Fgt1r%2Fsea_ice_segments%2Fheights%2Fheight_segment_confidence%2C%2Fgt1r%2Fsea_ice_segments%2Fheights%2Fheight_segment_length_seg%2C%2Fgt1r%2Fsea_ice_segments%2Fheights%2Fheight_segment_type%2C%2Fgt1r%2Fsea_ice_segments%2Fheights%2Fheight_segment_w_gaussian%2C%2Fgt1r%2Fsea_ice_segments%2Fheights%2Fheight_segment_rms%2C%2Fgt1r%2Fsea_ice_segments%2Fheights%2Fheight_segment_ssh_flag%2C%2Fgt1r%2Fsea_ice_segments%2Fheights%2Fheight_segment_surface_error_est%2C%2Fgt1r%2Fsea_ice_segments%2Fgeophysical%2Fheight_segment_dac%2C%2Fgt1r%2Fsea_ice_segments%2Fgeophysical%2Fheight_segment_mss%2C%2Fgt1r%2Fsea_ice_segments%2Fgeophysical%2Fheight_segment_geoid%2C%2Fgt1r%2Fancillary_data%2Fatlas_sdp_gps_epoch%2C%2Fgt1r%2Fsea_ice_segments%2Fstats%2Fice_conc%2C%2Fgt2l%2Fsea_ice_segments%2Fdelta_time%2C%2Fgt2l%2Fsea_ice_segments%2Flatitude%2C%2Fgt2l%2Fsea_ice_segments%2Flongitude%2C%2Fgt2l%2Fsea_ice_segments%2Fseg_dist_x%2C%2Fgt2l%2Fsea_ice_segments%2Fheights%2Facross_track_distance%2C%2Fgt2l%2Fsea_ice_segments%2Fheights%2Fheight_segment_height%2C%2Fgt2l%2Fsea_ice_segments%2Fheights%2Fheight_segment_fit_quality_flag%2C%2Fgt2l%2Fsea_ice_segments%2Fheights%2Fheight_segment_confidence%2C%2Fgt2l%2Fsea_ice_segments%2Fheights%2Fheight_segment_length_seg%2C%2Fgt2l%2Fsea_ice_segments%2Fheights%2Fheight_segment_type%2C%2Fgt2l%2Fsea_ice_segments%2Fheights%2Fheight_segment_w_gaussian%2C%2Fgt2l%2Fsea_ice_segments%2Fheights%2Fheight_segment_rms%2C%2Fgt2l%2Fsea_ice_segments%2Fheights%2Fheight_segment_ssh_flag%2C%2Fgt2l%2Fsea_ice_segments%2Fheights%2Fheight_segment_surface_error_est%2C%2Fgt2l%2Fsea_ice_segments%2Fgeophysical%2Fheight_segment_dac%2C%2Fgt2l%2Fsea_ice_segments%2Fgeophysical%2Fheight_segment_mss%2C%2Fgt2l%2Fsea_ice_segments%2Fgeophysical%2Fheight_segment_geoid%2C%2Fgt2l%2Fancillary_data%2Fatlas_sdp_gps_epoch%2C%2Fgt2l%2Fsea_ice_segments%2Fstats%2Fice_conc%2C%2Fgt2r%2Fsea_ice_segments%2Fdelta_time%2C%2Fgt2r%2Fsea_ice_segments%2Flatitude%2C%2Fgt2r%2Fsea_ice_segments%2Flongitude%2C%2Fgt2r%2Fsea_ice_segments%2Fseg_dist_x%2C%2Fgt2r%2Fsea_ice_segments%2Fheights%2Facross_track_distance%2C%2Fgt2r%2Fsea_ice_segments%2Fheights%2Fheight_segment_height%2C%2Fgt2r%2Fsea_ice_segments%2Fheights%2Fheight_segment_fit_quality_flag%2C%2Fgt2r%2Fsea_ice_segments%2Fheights%2Fheight_segment_confidence%2C%2Fgt2r%2Fsea_ice_segments%2Fheights%2Fheight_segment_length_seg%2C%2Fgt2r%2Fsea_ice_segments%2Fheights%2Fheight_segment_type%2C%2Fgt2r%2Fsea_ice_segments%2Fheights%2Fheight_segment_w_gaussian%2C%2Fgt2r%2Fsea_ice_segments%2Fheights%2Fheight_segment_rms%2C%2Fgt2r%2Fsea_ice_segments%2Fheights%2Fheight_segment_ssh_flag%2C%2Fgt2r%2Fsea_ice_segments%2Fheights%2Fheight_segment_surface_error_est%2C%2Fgt2r%2Fsea_ice_segments%2Fgeophysical%2Fheight_segment_dac%2C%2Fgt2r%2Fsea_ice_segments%2Fgeophysical%2Fheight_segment_mss%2C%2Fgt2r%2Fsea_ice_segments%2Fgeophysical%2Fheight_segment_geoid%2C%2Fgt2r%2Fancillary_data%2Fatlas_sdp_gps_epoch%2C%2Fgt2r%2Fsea_ice_segments%2Fstats%2Fice_conc%2C%2Fgt3l%2Fsea_ice_segments%2Fdelta_time%2C%2Fgt3l%2Fsea_ice_segments%2Flatitude%2C%2Fgt3l%2Fsea_ice_segments%2Flongitude%2C%2Fgt3l%2Fsea_ice_segments%2Fseg_dist_x%2C%2Fgt3l%2Fsea_ice_segments%2Fheights%2Facross_track_distance%2C%2Fgt3l%2Fsea_ice_segments%2Fheights%2Fheight_segment_height%2C%2Fgt3l%2Fsea_ice_segments%2Fheights%2Fheight_segment_fit_quality_flag%2C%2Fgt3l%2Fsea_ice_segments%2Fheights%2Fheight_segment_confidence%2C%2Fgt3l%2Fsea_ice_segments%2Fheights%2Fheight_segment_length_seg%2C%2Fgt3l%2Fsea_ice_segments%2Fheights%2Fheight_segment_type%2C%2Fgt3l%2Fsea_ice_segments%2Fheights%2Fheight_segment_w_gaussian%2C%2Fgt3l%2Fsea_ice_segments%2Fheights%2Fheight_segment_rms%2C%2Fgt3l%2Fsea_ice_segments%2Fheights%2Fheight_segment_ssh_flag%2C%2Fgt3l%2Fsea_ice_segments%2Fheights%2Fheight_segment_surface_error_est%2C%2Fgt3l%2Fsea_ice_segments%2Fgeophysical%2Fheight_segment_dac%2C%2Fgt3l%2Fsea_ice_segments%2Fgeophysical%2Fheight_segment_mss%2C%2Fgt3l%2Fsea_ice_segments%2Fgeophysical%2Fheight_segment_geoid%2C%2Fgt3l%2Fancillary_data%2Fatlas_sdp_gps_epoch%2C%2Fgt3l%2Fsea_ice_segments%2Fstats%2Fice_conc%2C%2Fgt3r%2Fsea_ice_segments%2Fdelta_time%2C%2Fgt3r%2Fsea_ice_segments%2Flatitude%2C%2Fgt3r%2Fsea_ice_segments%2Flongitude%2C%2Fgt3r%2Fsea_ice_segments%2Fseg_dist_x%2C%2Fgt3r%2Fsea_ice_segments%2Fheights%2Facross_track_distance%2C%2Fgt3r%2Fsea_ice_segments%2Fheights%2Fheight_segment_height%2C%2Fgt3r%2Fsea_ice_segments%2Fheights%2Fheight_segment_fit_quality_flag%2C%2Fgt3r%2Fsea_ice_segments%2Fheights%2Fheight_segment_confidence%2C%2Fgt3r%2Fsea_ice_segments%2Fheights%2Fheight_segment_length_seg%2C%2Fgt3r%2Fsea_ice_segments%2Fheights%2Fheight_segment_type%2C%2Fgt3r%2Fsea_ice_segments%2Fheights%2Fheight_segment_w_gaussian%2C%2Fgt3r%2Fsea_ice_segments%2Fheights%2Fheight_segment_rms%2C%2Fgt3r%2Fsea_ice_segments%2Fheights%2Fheight_segment_ssh_flag%2C%2Fgt3r%2Fsea_ice_segments%2Fheights%2Fheight_segment_surface_error_est%2C%2Fgt3r%2Fsea_ice_segments%2Fgeophysical%2Fheight_segment_dac%2C%2Fgt3r%2Fsea_ice_segments%2Fgeophysical%2Fheight_segment_mss%2C%2Fgt3r%2Fsea_ice_segments%2Fgeophysical%2Fheight_segment_geoid%2C%2Fgt3r%2Fancillary_data%2Fatlas_sdp_gps_epoch%2C%2Fgt3r%2Fsea_ice_segments%2Fstats%2Fice_conc&request_mode=async&page_size=20&token=55426424-09AF-2D81-02AE-85ECA842F7C4&email=christopher_horvat%40brown.edu&page_num=2\n",
      "Order request response XML content:  b'<?xml version=\"1.0\" encoding=\"UTF-8\" standalone=\"yes\"?>\\n<eesi:agentResponse xsi:schemaLocation=\"http://eosdis.nasa.gov/esi/rsp/e https://newsroom.gsfc.nasa.gov/esi/8.1/schemas/ESIAgentResponseExternal.xsd\" xmlns=\"\" xmlns:iesi=\"http://eosdis.nasa.gov/esi/rsp/i\" xmlns:ssw=\"http://newsroom.gsfc.nasa.gov/esi/rsp/ssw\" xmlns:eesi=\"http://eosdis.nasa.gov/esi/rsp/e\" xmlns:esi=\"http://eosdis.nasa.gov/esi/rsp\" xmlns:xsi=\"http://www.w3.org/2001/XMLSchema-instance\">\\n    <order>\\n        <orderId>5000000320139</orderId>\\n        <Instructions>You may receive an email about your order if you specified an EMAIL address. &lt;br/&gt;&lt;br/&gt;The instructions used to process this order are:  Band(s)=/gt1l/sea_ice_segments/delta_time,/gt1l/sea_ice_segments/latitude,/gt1l/sea_ice_segments/longitude,/gt1l/sea_ice_segments/seg_dist_x,/gt1l/sea_ice_segments/heights/across_track_distance,/gt1l/sea_ice_segments/heights/height_segment_height,/gt1l/sea_ice_segments/heights/height_segment_fit_quality_flag,/gt1l/sea_ice_segments/heights/height_segment_confidence,/gt1l/sea_ice_segments/heights/height_segment_length_seg,/gt1l/sea_ice_segments/heights/height_segment_type,/gt1l/sea_ice_segments/heights/height_segment_w_gaussian,/gt1l/sea_ice_segments/heights/height_segment_rms,/gt1l/sea_ice_segments/heights/height_segment_ssh_flag,/gt1l/sea_ice_segments/heights/height_segment_surface_error_est,/gt1l/sea_ice_segments/geophysical/height_segment_dac,/gt1l/sea_ice_segments/geophysical/height_segment_mss,/gt1l/sea_ice_segments/geophysical/height_segment_geoid,/gt1l/ancillary_data/atlas_sdp_gps_epoch,/gt1l/sea_ice_segments/stats/ice_conc,/gt1r/sea_ice_segments/delta_time,/gt1r/sea_ice_segments/latitude,/gt1r/sea_ice_segments/longitude,/gt1r/sea_ice_segments/seg_dist_x,/gt1r/sea_ice_segments/heights/across_track_distance,/gt1r/sea_ice_segments/heights/height_segment_height,/gt1r/sea_ice_segments/heights/height_segment_fit_quality_flag,/gt1r/sea_ice_segments/heights/height_segment_confidence,/gt1r/sea_ice_segments/heights/height_segment_length_seg,/gt1r/sea_ice_segments/heights/height_segment_type,/gt1r/sea_ice_segments/heights/height_segment_w_gaussian,/gt1r/sea_ice_segments/heights/height_segment_rms,/gt1r/sea_ice_segments/heights/height_segment_ssh_flag,/gt1r/sea_ice_segments/heights/height_segment_surface_error_est,/gt1r/sea_ice_segments/geophysical/height_segment_dac,/gt1r/sea_ice_segments/geophysical/height_segment_mss,/gt1r/sea_ice_segments/geophysical/height_segment_geoid,/gt1r/ancillary_data/atlas_sdp_gps_epoch,/gt1r/sea_ice_segments/stats/ice_conc,/gt2l/sea_ice_segments/delta_time,/gt2l/sea_ice_segments/latitude,/gt2l/sea_ice_segments/longitude,/gt2l/sea_ice_segments/seg_dist_x,/gt2l/sea_ice_segments/heights/across_track_distance,/gt2l/sea_ice_segments/heights/height_segment_height,/gt2l/sea_ice_segments/heights/height_segment_fit_quality_flag,/gt2l/sea_ice_segments/heights/height_segment_confidence,/gt2l/sea_ice_segments/heights/height_segment_length_seg,/gt2l/sea_ice_segments/heights/height_segment_type,/gt2l/sea_ice_segments/heights/height_segment_w_gaussian,/gt2l/sea_ice_segments/heights/height_segment_rms,/gt2l/sea_ice_segments/heights/height_segment_ssh_flag,/gt2l/sea_ice_segments/heights/height_segment_surface_error_est,/gt2l/sea_ice_segments/geophysical/height_segment_dac,/gt2l/sea_ice_segments/geophysical/height_segment_mss,/gt2l/sea_ice_segments/geophysical/height_segment_geoid,/gt2l/ancillary_data/atlas_sdp_gps_epoch,/gt2l/sea_ice_segments/stats/ice_conc,/gt2r/sea_ice_segments/delta_time,/gt2r/sea_ice_segments/latitude,/gt2r/sea_ice_segments/longitude,/gt2r/sea_ice_segments/seg_dist_x,/gt2r/sea_ice_segments/heights/across_track_distance,/gt2r/sea_ice_segments/heights/height_segment_height,/gt2r/sea_ice_segments/heights/height_segment_fit_quality_flag,/gt2r/sea_ice_segments/heights/height_segment_confidence,/gt2r/sea_ice_segments/heights/height_segment_length_seg,/gt2r/sea_ice_segments/heights/height_segment_type,/gt2r/sea_ice_segments/heights/height_segment_w_gaussian,/gt2r/sea_ice_segments/heights/height_segment_rms,/gt2r/sea_ice_segments/heights/height_segment_ssh_flag,/gt2r/sea_ice_segments/heights/height_segment_surface_error_est,/gt2r/sea_ice_segments/geophysical/height_segment_dac,/gt2r/sea_ice_segments/geophysical/height_segment_mss,/gt2r/sea_ice_segments/geophysical/height_segment_geoid,/gt2r/ancillary_data/atlas_sdp_gps_epoch,/gt2r/sea_ice_segments/stats/ice_conc,/gt3l/sea_ice_segments/delta_time,/gt3l/sea_ice_segments/latitude,/gt3l/sea_ice_segments/longitude,/gt3l/sea_ice_segments/seg_dist_x,/gt3l/sea_ice_segments/heights/across_track_distance,/gt3l/sea_ice_segments/heights/height_segment_height,/gt3l/sea_ice_segments/heights/height_segment_fit_quality_flag,/gt3l/sea_ice_segments/heights/height_segment_confidence,/gt3l/sea_ice_segments/heights/height_segment_length_seg,/gt3l/sea_ice_segments/heights/height_segment_type,/gt3l/sea_ice_segments/heights/height_segment_w_gaussian,/gt3l/sea_ice_segments/heights/height_segment_rms,/gt3l/sea_ice_segments/heights/height_segment_ssh_flag,/gt3l/sea_ice_segments/heights/height_segment_surface_error_est,/gt3l/sea_ice_segments/geophysical/height_segment_dac,/gt3l/sea_ice_segments/geophysical/height_segment_mss,/gt3l/sea_ice_segments/geophysical/height_segment_geoid,/gt3l/ancillary_data/atlas_sdp_gps_epoch,/gt3l/sea_ice_segments/stats/ice_conc,/gt3r/sea_ice_segments/delta_time,/gt3r/sea_ice_segments/latitude,/gt3r/sea_ice_segments/longitude,/gt3r/sea_ice_segments/seg_dist_x,/gt3r/sea_ice_segments/heights/across_track_distance,/gt3r/sea_ice_segments/heights/height_segment_height,/gt3r/sea_ice_segments/heights/height_segment_fit_quality_flag,/gt3r/sea_ice_segments/heights/height_segment_confidence,/gt3r/sea_ice_segments/heights/height_segment_length_seg,/gt3r/sea_ice_segments/heights/height_segment_type,/gt3r/sea_ice_segments/heights/height_segment_w_gaussian,/gt3r/sea_ice_segments/heights/height_segment_rms,/gt3r/sea_ice_segments/heights/height_segment_ssh_flag,/gt3r/sea_ice_segments/heights/height_segment_surface_error_est,/gt3r/sea_ice_segments/geophysical/height_segment_dac,/gt3r/sea_ice_segments/geophysical/height_segment_mss,/gt3r/sea_ice_segments/geophysical/height_segment_geoid,/gt3r/ancillary_data/atlas_sdp_gps_epoch,/gt3r/sea_ice_segments/stats/ice_conc. Granule id(s)=SC:ATL07.001:161227284,SC:ATL07.001:161196383,SC:ATL07.001:161212639,SC:ATL07.001:161208343,SC:ATL07.001:161227933,SC:ATL07.001:161227928,SC:ATL07.001:161214433,SC:ATL07.001:161228268,SC:ATL07.001:161228141,SC:ATL07.001:161228833,SC:ATL07.001:161208329. Email address=christopher_horvat@brown.edu. Processing tool=ICESAT2.</Instructions>\\n    </order>\\n    <contactInformation>\\n        <contactName>NSIDC User Services</contactName>\\n        <contactEmail>nsidc@nsidc.org</contactEmail>\\n    </contactInformation>\\n    <processInfo>\\n        <processDuration>PT0.199S</processDuration>\\n        <subagentId>ICESAT2</subagentId>\\n    </processInfo>\\n    <requestStatus>\\n        <status>pending</status>\\n        <numberProcessed>0</numberProcessed>\\n        <totalNumber>11</totalNumber>\\n    </requestStatus>\\n</eesi:agentResponse>\\n'\n",
      "order ID:  5000000320139\n",
      "status URL:  https://n5eil02u.ecs.nsidc.org/egi/request/5000000320139\n",
      "HTTP response from order response URL:  201\n",
      "Data request  2  is submitting...\n",
      "Initial request status is  pending\n",
      "Status is not complete. Trying again.\n",
      "Retry request status is:  processing\n",
      "Status is not complete. Trying again.\n",
      "Retry request status is:  processing\n",
      "Status is not complete. Trying again.\n",
      "Retry request status is:  processing\n",
      "Status is not complete. Trying again.\n",
      "Retry request status is:  complete\n",
      "Zip download URL:  https://n5eil02u.ecs.nsidc.org/esir/5000000320139.zip\n",
      "Beginning download of zipped output...\n",
      "Data request 2 is complete.\n"
     ]
    }
   ],
   "source": [
    "# Request data service for each page number, and unzip outputs\n",
    "\n",
    "for i in range(page_num):\n",
    "    page_val = i + 1\n",
    "    print('Order: ', page_val)\n",
    "    subset_params.update( {'page_num': page_val} )\n",
    "    \n",
    "# Post polygon to API endpoint for polygon subsetting to subset based on original, non-simplified KML file\n",
    "\n",
    "#    shape_post = {'shapefile': open(kml_filepath, 'rb')}\n",
    "#    request = session.post(base_url, params=subset_params, files=shape_post) \n",
    "    \n",
    "# FOR ALL OTHER REQUESTS THAT DO NOT UTILIZED AN UPLOADED POLYGON FILE, USE A GET REQUEST INSTEAD OF POST:\n",
    "    request = session.get(base_url, params=subset_params)\n",
    "    \n",
    "    print('Request HTTP response: ', request.status_code)\n",
    "\n",
    "# Raise bad request: Loop will stop for bad response code.\n",
    "    request.raise_for_status()\n",
    "    print('Order request URL: ', request.url)\n",
    "    esir_root = ET.fromstring(request.content)\n",
    "    print('Order request response XML content: ', request.content)\n",
    "\n",
    "# Look up order ID\n",
    "    orderlist = []   \n",
    "    for order in esir_root.findall(\"./order/\"):\n",
    "        orderlist.append(order.text)\n",
    "    orderID = orderlist[0]\n",
    "    print('order ID: ', orderID)\n",
    "\n",
    "# Create status URL\n",
    "    statusURL = base_url + '/' + orderID\n",
    "    print('status URL: ', statusURL)\n",
    "\n",
    "# Find order status\n",
    "    request_response = session.get(statusURL)    \n",
    "    print('HTTP response from order response URL: ', request_response.status_code)\n",
    "    \n",
    "# Raise bad request: Loop will stop for bad response code.\n",
    "    request_response.raise_for_status()\n",
    "    request_root = ET.fromstring(request_response.content)\n",
    "    statuslist = []\n",
    "    for status in request_root.findall(\"./requestStatus/\"):\n",
    "        statuslist.append(status.text)\n",
    "    status = statuslist[0]\n",
    "    print('Data request ', page_val, ' is submitting...')\n",
    "    print('Initial request status is ', status)\n",
    "\n",
    "# Continue to loop while request is still processing\n",
    "    while status == 'pending' or status == 'processing': \n",
    "        print('Status is not complete. Trying again.')\n",
    "        time.sleep(10)\n",
    "        loop_response = session.get(statusURL)\n",
    "\n",
    "# Raise bad request: Loop will stop for bad response code.\n",
    "        loop_response.raise_for_status()\n",
    "        loop_root = ET.fromstring(loop_response.content)\n",
    "\n",
    "# Find status\n",
    "        statuslist = []\n",
    "        for status in loop_root.findall(\"./requestStatus/\"):\n",
    "            statuslist.append(status.text)\n",
    "        status = statuslist[0]\n",
    "        print('Retry request status is: ', status)\n",
    "        if status == 'pending' or status == 'processing':\n",
    "            continue\n",
    "\n",
    "# Order can either complete, complete_with_errors, or fail:\n",
    "# Provide complete_with_errors error message:\n",
    "    if status == 'complete_with_errors' or status == 'failed':\n",
    "        messagelist = []\n",
    "        for message in loop_root.findall(\"./processInfo/\"):\n",
    "            messagelist.append(message.text)\n",
    "        print('error messages:')\n",
    "        pprint.pprint(messagelist)\n",
    "\n",
    "# Download zipped order if status is complete or complete_with_errors\n",
    "    if status == 'complete' or status == 'complete_with_errors':\n",
    "        downloadURL = 'https://n5eil02u.ecs.nsidc.org/esir/' + orderID + '.zip'\n",
    "        print('Zip download URL: ', downloadURL)\n",
    "        print('Beginning download of zipped output...')\n",
    "        zip_response = session.get(downloadURL)\n",
    "        # Raise bad request: Loop will stop for bad response code.\n",
    "        zip_response.raise_for_status()\n",
    "        with zipfile.ZipFile(io.BytesIO(zip_response.content)) as z:\n",
    "            z.extractall(path)\n",
    "        print('Data request', page_val, 'is complete.')\n",
    "    else: print('Request failed.')"
   ]
  },
  {
   "cell_type": "code",
   "execution_count": 19,
   "metadata": {},
   "outputs": [
    {
     "name": "stdout",
     "output_type": "stream",
     "text": [
      "/home/jovyan/Data/\n",
      "/home/jovyan/Data/161226428\n"
     ]
    },
    {
     "ename": "OSError",
     "evalue": "[Errno 39] Directory not empty: '/home/jovyan/Data/161226428'",
     "output_type": "error",
     "traceback": [
      "\u001b[0;31m---------------------------------------------------------------------------\u001b[0m",
      "\u001b[0;31mOSError\u001b[0m                                   Traceback (most recent call last)",
      "\u001b[0;32m<ipython-input-19-bec6d5667c5e>\u001b[0m in \u001b[0;36m<module>\u001b[0;34m\u001b[0m\n\u001b[1;32m     13\u001b[0m     \u001b[0;32mfor\u001b[0m \u001b[0mname\u001b[0m \u001b[0;32min\u001b[0m \u001b[0mdirs\u001b[0m\u001b[0;34m:\u001b[0m\u001b[0;34m\u001b[0m\u001b[0;34m\u001b[0m\u001b[0m\n\u001b[1;32m     14\u001b[0m         \u001b[0mprint\u001b[0m\u001b[0;34m(\u001b[0m\u001b[0mos\u001b[0m\u001b[0;34m.\u001b[0m\u001b[0mpath\u001b[0m\u001b[0;34m.\u001b[0m\u001b[0mjoin\u001b[0m\u001b[0;34m(\u001b[0m\u001b[0mroot\u001b[0m\u001b[0;34m,\u001b[0m \u001b[0mname\u001b[0m\u001b[0;34m)\u001b[0m\u001b[0;34m)\u001b[0m\u001b[0;34m\u001b[0m\u001b[0;34m\u001b[0m\u001b[0m\n\u001b[0;32m---> 15\u001b[0;31m         \u001b[0mos\u001b[0m\u001b[0;34m.\u001b[0m\u001b[0mrmdir\u001b[0m\u001b[0;34m(\u001b[0m\u001b[0mos\u001b[0m\u001b[0;34m.\u001b[0m\u001b[0mpath\u001b[0m\u001b[0;34m.\u001b[0m\u001b[0mjoin\u001b[0m\u001b[0;34m(\u001b[0m\u001b[0mroot\u001b[0m\u001b[0;34m,\u001b[0m \u001b[0mname\u001b[0m\u001b[0;34m)\u001b[0m\u001b[0;34m)\u001b[0m\u001b[0;34m\u001b[0m\u001b[0;34m\u001b[0m\u001b[0m\n\u001b[0m",
      "\u001b[0;31mOSError\u001b[0m: [Errno 39] Directory not empty: '/home/jovyan/Data/161226428'"
     ]
    }
   ],
   "source": [
    "#Clean up Outputs folder by removing individual granule folders \n",
    "\n",
    "print(path)\n",
    "\n",
    "for root, dirs, files in os.walk(path, topdown=False):\n",
    "    for file in files:\n",
    "        try:\n",
    "            shutil.move(os.path.join(root, file), path)\n",
    "        except OSError:\n",
    "            pass\n",
    "        \n",
    "for root, dirs, files in os.walk(path):\n",
    "    for name in dirs:\n",
    "        print(os.path.join(root, name))\n",
    "        os.rmdir(os.path.join(root, name))"
   ]
  },
  {
   "cell_type": "code",
   "execution_count": null,
   "metadata": {},
   "outputs": [],
   "source": [
    "#List files\n",
    "sorted(os.listdir(path))"
   ]
  }
 ],
 "metadata": {
  "kernelspec": {
   "display_name": "Python 3",
   "language": "python",
   "name": "python3"
  },
  "language_info": {
   "codemirror_mode": {
    "name": "ipython",
    "version": 3
   },
   "file_extension": ".py",
   "mimetype": "text/x-python",
   "name": "python",
   "nbconvert_exporter": "python",
   "pygments_lexer": "ipython3",
   "version": "3.6.7"
  }
 },
 "nbformat": 4,
 "nbformat_minor": 2
}
