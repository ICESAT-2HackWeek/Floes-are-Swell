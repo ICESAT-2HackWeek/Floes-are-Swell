{
 "cells": [
  {
   "cell_type": "code",
   "execution_count": 1,
   "metadata": {},
   "outputs": [
    {
     "name": "stdout",
     "output_type": "stream",
     "text": [
      "/home/jovyan/Data\n"
     ]
    }
   ],
   "source": [
    "import os\n",
    "import h5py\n",
    "from glob import glob\n",
    "import numpy as np\n",
    "import matplotlib.pyplot as plt\n",
    "import cartopy.crs as ccrs\n",
    "\n",
    "import scipy.signal\n",
    "data_dir='~/Data/'\n",
    "import numpy\n",
    "import os\n",
    "import sys\n",
    "module_path = os.path.abspath(os.path.join('..'))\n",
    "if module_path not in sys.path:\n",
    "    sys.path.append(module_path)\n",
    "\n",
    "\n",
    "# make sure we're dealing with the most recent version of any code we're using\n",
    "%load_ext autoreload\n",
    "%autoreload 2\n",
    "%cd ~/Data/\n",
    "%pwd\n",
    "\n",
    "filename = 'processed_ATL07-01_20181202120647_09910101_001_01.h5'\n",
    "# See what is in a particular file\n",
    "# !h5ls -r processed_ATL07-01_20181202120647_09910101_001_01.h5"
   ]
  },
  {
   "cell_type": "code",
   "execution_count": 4,
   "metadata": {},
   "outputs": [
    {
     "name": "stdout",
     "output_type": "stream",
     "text": [
      "['gt1r', 'gt1l', 'gt2r', 'gt2l', 'gt3r', 'gt3l']\n"
     ]
    }
   ],
   "source": [
    "%pwd\n",
    "\n",
    "namer = ['gt1r','gt1l','gt2r','gt2l','gt3r','gt3l']\n",
    "print(namer)\n",
    "\n",
    "f = h5py.File(filename, 'r')\n",
    "\n",
    "\n",
    "[xval,conc,lat,lon,SSH,qual,pgram] = ([] for i in range(7))\n",
    "\n",
    "for x in range(len(namer)):\n",
    "    \n",
    "    # Load in all beams\n",
    "    xval.append(f[namer[x] + '/sea_ice_segments/seg_dist_x'][:] - f[namer[x] + '/sea_ice_segments/seg_dist_x'][0]) \n",
    "    conc.append(f[namer[x] + '/sea_ice_segments/stats/ice_conc'][:])\n",
    "    lat.append(f[namer[x] + '/sea_ice_segments/latitude'][:])\n",
    "    lon.append(f[namer[x] + '/sea_ice_segments/longitude'][:])\n",
    "    SSH.append(f[namer[x] + '/sea_ice_segments/heights/height_segment_height'][:])\n",
    "    qual.append(f[namer[x] + '/sea_ice_segments/heights/height_segment_fit_quality_flag'][:])\n",
    " \n",
    "    \n",
    "    \n",
    "#plt.scatter(lat,SSH,c=qual); plt.colorbar()"
   ]
  },
  {
   "cell_type": "code",
   "execution_count": null,
   "metadata": {},
   "outputs": [],
   "source": [
    "plt.subplot(1,2,1)    \n",
    "plt.plot(xval[1],SSH[1])\n",
    "     \n",
    "ax1 = plt.subplot(1,2,2, projection=ccrs.NorthPolarStereo(true_scale_latitude=70))\n",
    "ax1.coastlines()\n",
    "ax1.scatter(lon[1], lat[1],c=qual[1], cmap='viridis',transform=ccrs.PlateCarree())\n",
    "ax1.set_extent([-180, 180, 90, 60], ccrs.PlateCarree())\n",
    "\n",
    "#     ax1.quiver(x, y, u, v, transform=vector_crs)    \n",
    "    \n",
    "# plt.subplot(1,2,2,projection=)\n",
    "# ax.coastlines()\n",
    "# plt.show()\n",
    "\n",
    "\n",
    "# \n",
    "# \n",
    "# #plt.pcolormesh(lons, lats, tile_to_plot,\n",
    "# #               transform=ccrs.PlateCarree());\n",
    "# # plt.coastlines()\n",
    "# #ax.drawmeridians()\n",
    "# plt.colorbar(label=var, shrink=0.5, extend='both')\n",
    "# # Limit the map to -60 degrees latitude and below.\n"
   ]
  },
  {
   "cell_type": "code",
   "execution_count": 28,
   "metadata": {},
   "outputs": [
    {
     "data": {
      "text/plain": [
       "[<matplotlib.lines.Line2D at 0x7f83ab002860>]"
      ]
     },
     "execution_count": 28,
     "metadata": {},
     "output_type": "execute_result"
    },
    {
     "data": {
      "image/png": "[encoded data removed]",
      "text/plain": [
       "<Figure size 432x288 with 1 Axes>"
      ]
     },
     "metadata": {
      "needs_background": "light"
     },
     "output_type": "display_data"
    }
   ],
   "source": [
    "good = qual > 1; \n",
    "yvec = SSH[good]\n",
    "xvec = lat[good]\n",
    "xbuckets = numpy.logspace(1, 5, num=25, endpoint=False, base=10.0, dtype=None)\n",
    "pgram = scipy.signal.lombscargle(xvec,yvec,xbuckets)\n",
    "plt.loglog(xbuckets,pgram)"
   ]
  },
  {
   "cell_type": "code",
   "execution_count": null,
   "metadata": {},
   "outputs": [],
   "source": []
  }
 ],
 "metadata": {
  "kernelspec": {
   "display_name": "Python 3",
   "language": "python",
   "name": "python3"
  },
  "language_info": {
   "codemirror_mode": {
    "name": "ipython",
    "version": 3
   },
   "file_extension": ".py",
   "mimetype": "text/x-python",
   "name": "python",
   "nbconvert_exporter": "python",
   "pygments_lexer": "ipython3",
   "version": "3.6.7"
  }
 },
 "nbformat": 4,
 "nbformat_minor": 2
}
