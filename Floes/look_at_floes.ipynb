{
 "cells": [
  {
   "cell_type": "code",
   "execution_count": 57,
   "metadata": {},
   "outputs": [
    {
     "name": "stdout",
     "output_type": "stream",
     "text": [
      "The autoreload extension is already loaded. To reload it, use:\n",
      "  %reload_ext autoreload\n",
      "/home/jovyan/Track-Data/161204112\n"
     ]
    },
    {
     "data": {
      "text/plain": [
       "'/home/jovyan/Track-Data/161204112'"
      ]
     },
     "execution_count": 57,
     "metadata": {},
     "output_type": "execute_result"
    }
   ],
   "source": [
    "import os\n",
    "import h5py\n",
    "from glob import glob\n",
    "import numpy as np\n",
    "import matplotlib.pyplot as plt\n",
    "import scipy.signal\n",
    "data_dir='~/Track-Data/161204112/'\n",
    "\n",
    "import os\n",
    "import sys\n",
    "module_path = os.path.abspath(os.path.join('..'))\n",
    "if module_path not in sys.path:\n",
    "    sys.path.append(module_path)\n",
    "\n",
    "\n",
    "# make sure we're dealing with the most recent version of any code we're using\n",
    "%load_ext autoreload\n",
    "%autoreload 2\n",
    "%cd ~/Track-Data/161204112/\n",
    "%pwd\n"
   ]
  },
  {
   "cell_type": "code",
   "execution_count": 58,
   "metadata": {},
   "outputs": [
    {
     "name": "stdout",
     "output_type": "stream",
     "text": [
      "/                        Group\n",
      "/METADATA                Group\n",
      "/METADATA/AcquisitionInformation Group\n",
      "/METADATA/AcquisitionInformation/lidar Group\n",
      "/METADATA/AcquisitionInformation/lidarDocument Group\n",
      "/METADATA/AcquisitionInformation/platform Group\n",
      "/METADATA/AcquisitionInformation/platformDocument Group\n",
      "/METADATA/DataQuality    Group\n",
      "/METADATA/DataQuality/CompletenessOmission Group\n",
      "/METADATA/DataQuality/DomainConsistency Group\n",
      "/METADATA/DatasetIdentification Group\n",
      "/METADATA/Extent         Group\n",
      "/METADATA/Lineage        Group\n",
      "/METADATA/Lineage/ANC02-02 Group\n",
      "/METADATA/Lineage/ANC15  Group\n",
      "/METADATA/Lineage/ANC19  Group\n",
      "/METADATA/Lineage/ANC25-07 Group\n",
      "/METADATA/Lineage/ANC26-07 Group\n",
      "/METADATA/Lineage/ANC31  Group\n",
      "/METADATA/Lineage/ANC36-07 Group\n",
      "/METADATA/Lineage/ANC38-07 Group\n",
      "/METADATA/Lineage/ATL03  Group\n",
      "/METADATA/Lineage/ATL09  Group\n",
      "/METADATA/Lineage/Control Group\n",
      "/METADATA/ProcessStep    Group\n",
      "/METADATA/ProcessStep/Browse Group\n",
      "/METADATA/ProcessStep/Metadata Group\n",
      "/METADATA/ProcessStep/PGE Group\n",
      "/METADATA/ProcessStep/QA Group\n",
      "/METADATA/ProductSpecificationDocument Group\n",
      "/METADATA/QADatasetIdentification Group\n",
      "/METADATA/SeriesIdentification Group\n",
      "/gt1l                    Group\n",
      "/gt1l/sea_ice_segments   Group\n",
      "/gt1l/sea_ice_segments/delta_time Dataset {225054/Inf}\n",
      "/gt1l/sea_ice_segments/heights Group\n",
      "/gt1l/sea_ice_segments/heights/across_track_distance Dataset {225054/Inf}\n",
      "/gt1l/sea_ice_segments/heights/height_segment_fit_quality_flag Dataset {225054/Inf}\n",
      "/gt1l/sea_ice_segments/heights/height_segment_height Dataset {225054/Inf}\n",
      "/gt1l/sea_ice_segments/latitude Dataset {225054/Inf}\n",
      "/gt1l/sea_ice_segments/longitude Dataset {225054/Inf}\n",
      "/gt1l/sea_ice_segments/seg_dist_x Dataset {225054/Inf}\n",
      "/gt1l/sea_ice_segments/stats Group\n",
      "/gt1l/sea_ice_segments/stats/ice_conc Dataset {225054/Inf}\n",
      "/gt1r                    Group\n",
      "/gt1r/sea_ice_segments   Group\n",
      "/gt1r/sea_ice_segments/delta_time Dataset {227904/Inf}\n",
      "/gt1r/sea_ice_segments/heights Group\n",
      "/gt1r/sea_ice_segments/heights/across_track_distance Dataset {227904/Inf}\n",
      "/gt1r/sea_ice_segments/heights/height_segment_fit_quality_flag Dataset {227904/Inf}\n",
      "/gt1r/sea_ice_segments/heights/height_segment_height Dataset {227904/Inf}\n",
      "/gt1r/sea_ice_segments/latitude Dataset {227904/Inf}\n",
      "/gt1r/sea_ice_segments/longitude Dataset {227904/Inf}\n",
      "/gt1r/sea_ice_segments/seg_dist_x Dataset {227904/Inf}\n",
      "/gt1r/sea_ice_segments/stats Group\n",
      "/gt1r/sea_ice_segments/stats/ice_conc Dataset {227904/Inf}\n",
      "/gt2l                    Group\n",
      "/gt2l/sea_ice_segments   Group\n",
      "/gt2l/sea_ice_segments/delta_time Dataset {178857/Inf}\n",
      "/gt2l/sea_ice_segments/heights Group\n",
      "/gt2l/sea_ice_segments/heights/across_track_distance Dataset {178857/Inf}\n",
      "/gt2l/sea_ice_segments/heights/height_segment_fit_quality_flag Dataset {178857/Inf}\n",
      "/gt2l/sea_ice_segments/heights/height_segment_height Dataset {178857/Inf}\n",
      "/gt2l/sea_ice_segments/latitude Dataset {178857/Inf}\n",
      "/gt2l/sea_ice_segments/longitude Dataset {178857/Inf}\n",
      "/gt2l/sea_ice_segments/seg_dist_x Dataset {178857/Inf}\n",
      "/gt2l/sea_ice_segments/stats Group\n",
      "/gt2l/sea_ice_segments/stats/ice_conc Dataset {178857/Inf}\n",
      "/gt2r                    Group\n",
      "/gt2r/sea_ice_segments   Group\n",
      "/gt2r/sea_ice_segments/delta_time Dataset {181780/Inf}\n",
      "/gt2r/sea_ice_segments/heights Group\n",
      "/gt2r/sea_ice_segments/heights/across_track_distance Dataset {181780/Inf}\n",
      "/gt2r/sea_ice_segments/heights/height_segment_fit_quality_flag Dataset {181780/Inf}\n",
      "/gt2r/sea_ice_segments/heights/height_segment_height Dataset {181780/Inf}\n",
      "/gt2r/sea_ice_segments/latitude Dataset {181780/Inf}\n",
      "/gt2r/sea_ice_segments/longitude Dataset {181780/Inf}\n",
      "/gt2r/sea_ice_segments/seg_dist_x Dataset {181780/Inf}\n",
      "/gt2r/sea_ice_segments/stats Group\n",
      "/gt2r/sea_ice_segments/stats/ice_conc Dataset {181780/Inf}\n",
      "/gt3l                    Group\n",
      "/gt3l/sea_ice_segments   Group\n",
      "/gt3l/sea_ice_segments/delta_time Dataset {232176/Inf}\n",
      "/gt3l/sea_ice_segments/heights Group\n",
      "/gt3l/sea_ice_segments/heights/across_track_distance Dataset {232176/Inf}\n",
      "/gt3l/sea_ice_segments/heights/height_segment_fit_quality_flag Dataset {232176/Inf}\n",
      "/gt3l/sea_ice_segments/heights/height_segment_height Dataset {232176/Inf}\n",
      "/gt3l/sea_ice_segments/latitude Dataset {232176/Inf}\n",
      "/gt3l/sea_ice_segments/longitude Dataset {232176/Inf}\n",
      "/gt3l/sea_ice_segments/seg_dist_x Dataset {232176/Inf}\n",
      "/gt3l/sea_ice_segments/stats Group\n",
      "/gt3l/sea_ice_segments/stats/ice_conc Dataset {232176/Inf}\n",
      "/gt3r                    Group\n",
      "/gt3r/sea_ice_segments   Group\n",
      "/gt3r/sea_ice_segments/delta_time Dataset {235280/Inf}\n",
      "/gt3r/sea_ice_segments/heights Group\n",
      "/gt3r/sea_ice_segments/heights/across_track_distance Dataset {235280/Inf}\n",
      "/gt3r/sea_ice_segments/heights/height_segment_fit_quality_flag Dataset {235280/Inf}\n",
      "/gt3r/sea_ice_segments/heights/height_segment_height Dataset {235280/Inf}\n",
      "/gt3r/sea_ice_segments/latitude Dataset {235280/Inf}\n",
      "/gt3r/sea_ice_segments/longitude Dataset {235280/Inf}\n",
      "/gt3r/sea_ice_segments/seg_dist_x Dataset {235280/Inf}\n",
      "/gt3r/sea_ice_segments/stats Group\n",
      "/gt3r/sea_ice_segments/stats/ice_conc Dataset {235280/Inf}\n"
     ]
    }
   ],
   "source": [
    "%pwd\n",
    "\n",
    "!h5ls -r processed_ATL07-01_20181202120647_09910101_001_01.h5"
   ]
  },
  {
   "cell_type": "code",
   "execution_count": 62,
   "metadata": {},
   "outputs": [],
   "source": [
    "%pwd\n",
    "f = h5py.File('processed_ATL07-01_20181202120647_09910101_001_01.h5', 'r')\n",
    "conc = f['/gt1l/sea_ice_segments/stats/ice_conc'][:]\n",
    "lat = f['/gt1l/sea_ice_segments/latitude'][:]\n",
    "lon = f['/gt1l/sea_ice_segments/longitude'][:]\n",
    "SSH = f['/gt1l/sea_ice_segments/heights/height_segment_height'][:]\n",
    "qual = f['/gt1l/sea_ice_segments/heights/height_segment_fit_quality_flag'][:]\n",
    "\n",
    "#plt.scatter(lat,SSH,c=qual); plt.colorbar()"
   ]
  },
  {
   "cell_type": "code",
   "execution_count": 63,
   "metadata": {},
   "outputs": [
    {
     "data": {
      "text/plain": [
       "[<matplotlib.lines.Line2D at 0x7fec25bc2c88>]"
      ]
     },
     "execution_count": 63,
     "metadata": {},
     "output_type": "execute_result"
    },
    {
     "data": {
      "image/png": "[encoded data removed]",
      "text/plain": [
       "<Figure size 432x288 with 1 Axes>"
      ]
     },
     "metadata": {
      "needs_background": "light"
     },
     "output_type": "display_data"
    }
   ],
   "source": [
    "plt.plot(lat)"
   ]
  },
  {
   "cell_type": "code",
   "execution_count": null,
   "metadata": {},
   "outputs": [],
   "source": []
  }
 ],
 "metadata": {
  "kernelspec": {
   "display_name": "Python 3",
   "language": "python",
   "name": "python3"
  },
  "language_info": {
   "codemirror_mode": {
    "name": "ipython",
    "version": 3
   },
   "file_extension": ".py",
   "mimetype": "text/x-python",
   "name": "python",
   "nbconvert_exporter": "python",
   "pygments_lexer": "ipython3",
   "version": "3.6.7"
  }
 },
 "nbformat": 4,
 "nbformat_minor": 2
}
