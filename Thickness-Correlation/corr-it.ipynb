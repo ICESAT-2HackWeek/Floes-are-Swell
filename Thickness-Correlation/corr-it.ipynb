{
 "cells": [
  {
   "cell_type": "markdown",
   "metadata": {},
   "source": [
    "# Example of messing around with correlating the data\n",
    "\n"
   ]
  },
  {
   "cell_type": "code",
   "execution_count": 3,
   "metadata": {},
   "outputs": [],
   "source": [
    "#Magic function to enable interactive plotting in Jupyter notebook\n",
    "#Allows you to zoom/pan within plots after generating\n",
    "#Normally, this would be %matplotlib notebook, but since we're using Juptyerlab, we need a different widget\n",
    "#%matplotlib notebook\n",
    "%matplotlib inline"
   ]
  },
  {
   "cell_type": "code",
   "execution_count": 2,
   "metadata": {},
   "outputs": [],
   "source": [
    "import warnings\n",
    "warnings.filterwarnings('ignore')\n",
    "import sys\n",
    "sys.path.insert(0, '/home/jovyan/Floes-are-Swell/Scripts/')\n",
    "import ice_plot\n",
    "import readintoxr\n",
    "\n",
    "\n",
    "#Import necesary modules\n",
    "#Use shorter names (np, pd, plt) instead of full (numpy, pandas, matplotlib.pylot) for convenience\n",
    "import numpy as np\n",
    "import pandas as pd\n",
    "import matplotlib.pyplot as plt\n",
    "import matplotlib\n",
    "import seaborn as sns\n",
    "import cartopy.crs as ccrs\n",
    "import pandas as pd\n",
    "import numpy.ma as ma\n",
    "import h5py\n",
    "import s3fs\n",
    "import matplotlib.pyplot as plt\n",
    "import netCDF4\n",
    "import xarray as xr\n",
    "import os\n",
    "import os\n",
    "import glob\n",
    "\n",
    "# Use seasborn for nicer looking inline plots if available \n",
    "#import seaborn as sns\n",
    "#sns.set(context='notebook', style='darkgrid')\n",
    "#st = axes_style(\"whitegrid\")\n"
   ]
  },
  {
   "cell_type": "markdown",
   "metadata": {},
   "source": [
    "#### Beam selection   \n",
    "There are 6 beams to choose from in the ICESat-2 products (3 pairs of a strong and weak beam). The energy ratio between the weak and strong beams are  approximately 1:4 and are separated by 90 m in the across-track direction. The beam pairs are separated by ~3.3 km in the across-track direction, and the strong and weak beams are separated by ~2.5 km in the along-track direction."
   ]
  },
  {
   "cell_type": "markdown",
   "metadata": {},
   "source": [
    "#### chose a file to read\n",
    "\n"
   ]
  },
  {
   "cell_type": "code",
   "execution_count": 11,
   "metadata": {},
   "outputs": [
    {
     "name": "stdout",
     "output_type": "stream",
     "text": [
      "['/home/jovyan/Data/processed_ATL07-02_20181202120647_09910101_001_01.h5', '/home/jovyan/Data/processed_ATL07-02_20181203114108_10060101_001_01.h5', '/home/jovyan/Data/processed_ATL07-01_20181203224110_10130101_001_01.h5', '/home/jovyan/Data/processed_ATL07-02_20181206133245_10530101_001_01.h5', '/home/jovyan/Data/processed_ATL07-01_20181205232409_10440101_001_01.h5', '/home/jovyan/Data/processed_ATL07-01_20181204234948_10290101_001_01.h5', '/home/jovyan/Data/processed_ATL07-02_20181203131526_10070101_001_01.h5', '/home/jovyan/Data/processed_ATL07-01_20181121010613_08160101_001_01.h5', '/home/jovyan/Data/processed_ATL07-01_20181204221530_10280101_001_01.h5', '/home/jovyan/Data/processed_ATL07-01_20181121134031_08240101_001_01.h5', '/home/jovyan/Data/processed_ATL07-01_20181202230649_09980101_001_01.h5', '/home/jovyan/Data/processed_ATL07-02_20181204124946_10220101_001_01.h5', '/home/jovyan/Data/processed_ATL07-01_20181202134105_09920101_001_01.h5', '/home/jovyan/Data/processed_ATL07-01_20181205122407_10370101_001_01.h5', '/home/jovyan/Data/processed_ATL07-02_20181206115828_10520101_001_01.h5', '/home/jovyan/Data/processed_ATL07-01_20181204142403_10230101_001_01.h5', '/home/jovyan/Data/processed_ATL07-02_20181201123226_09760101_001_01.h5', '/home/jovyan/Data/processed_ATL07-01_20181204124946_10220101_001_01.h5', '/home/jovyan/Data/processed_ATL07-01_20181206115828_10520101_001_01.h5', '/home/jovyan/Data/processed_ATL07-01_20181201123226_09760101_001_01.h5', '/home/jovyan/Data/processed_ATL07-01_20181203131526_10070101_001_01.h5', '/home/jovyan/Data/processed_ATL07-02_20181121134031_08240101_001_01.h5', '/home/jovyan/Data/processed_ATL07-02_20181202134105_09920101_001_01.h5', '/home/jovyan/Data/processed_ATL07-01_20181201215810_09820101_001_01.h5', '/home/jovyan/Data/processed_ATL07-01_20181130235806_09680101_001_01.h5', '/home/jovyan/Data/processed_ATL07-01_20181206133245_10530101_001_01.h5', '/home/jovyan/Data/processed_ATL07-01_20181206225829_10590101_001_01.h5', '/home/jovyan/Data/processed_ATL07-02_20181205122407_10370101_001_01.h5', '/home/jovyan/Data/processed_ATL07-02_20181204142403_10230101_001_01.h5', '/home/jovyan/Data/processed_ATL07-01_20181203114108_10060101_001_01.h5', '/home/jovyan/Data/processed_ATL07-01_20181203004106_09990101_001_01.h5', '/home/jovyan/Data/processed_ATL07-01_20181204001527_10140101_001_01.h5', '/home/jovyan/Data/processed_ATL07-01_20181201233228_09830101_001_01.h5', '/home/jovyan/Data/processed_ATL07-01_20181202120647_09910101_001_01.h5']\n"
     ]
    }
   ],
   "source": [
    "\n",
    "ATL07file='processed_ATL07-01_20181130235806_09680101_001_01.h5'\n",
    "ATL07file='processed_ATL07-01_20181206115828_10520101_001_01.h5'\n",
    "\n",
    "DataFilePath='/home/jovyan/Data/'\n",
    "fig_dir = '/home/jovyan/figures/'\n",
    "nrt_dir = '/home/jovyan/DATA/NSIDC_0081/'\n",
    "data_dir = '/home/jovyan/Data/'\n",
    "\n",
    "# Chrisfiles = glob.glob(data_dir+'ChrisH_processed/*')\n",
    "# Edfiles = glob.glob(data_dir+'fullgranules/*')\n",
    "allfiles = glob.glob(data_dir+'*.h5')\n",
    "print(allfiles)\n",
    "\n",
    "ds = readintoxr.MultiFileDataSet(allfiles,('gt1r','gt2r'))"
   ]
  },
  {
   "cell_type": "code",
   "execution_count": 12,
   "metadata": {},
   "outputs": [
    {
     "name": "stdout",
     "output_type": "stream",
     "text": [
      "159057\n",
      "6758\n",
      "180610\n",
      "42433\n",
      "175894\n",
      "236369\n",
      "6715\n",
      "295184\n",
      "230640\n",
      "297393\n",
      "205261\n",
      "6193\n",
      "229036\n",
      "219261\n",
      "51019\n",
      "297179\n",
      "69538\n",
      "231504\n",
      "346966\n",
      "181334\n",
      "214463\n",
      "39955\n",
      "1206\n",
      "315103\n",
      "252561\n",
      "316752\n",
      "207392\n",
      "60663\n",
      "16806\n",
      "271624\n",
      "256673\n",
      "183054\n",
      "289291\n",
      "227904\n"
     ]
    }
   ],
   "source": [
    "# Puts all files into a single xarray dataset\n",
    "\n",
    "multiple_files = allfiles\n",
    "ds_all = None\n",
    "i = 0\n",
    "for file in multiple_files:\n",
    "    ds = readintoxr.MakeDataSet(file, beam = 'gt1r')\n",
    "    if i==0:\n",
    "        ds_all = ds\n",
    "    else:\n",
    "        ds_all =xr.concat([ds, ds_all])\n",
    "    print(len(ds.segs))\n",
    "    i = i+1\n",
    "\n",
    "ds=None\n",
    "ds_all = ds_all.rename({'concat_dims':'track'})\n"
   ]
  },
  {
   "cell_type": "code",
   "execution_count": 14,
   "metadata": {},
   "outputs": [
    {
     "name": "stdout",
     "output_type": "stream",
     "text": [
      "/home/jovyan/Data/processed_ATL07-01_20181202120647_09910101_001_01.h5\n",
      "1 227904\n",
      "2 227904\n",
      "3 227904\n",
      "<xarray.Dataset>\n",
      "Dimensions:       (beam: 3, segs: 227904)\n",
      "Coordinates:\n",
      "    lon           (segs) float64 -0.271 -0.2715 -0.2722 ... -165.3 -165.3 -165.3\n",
      "    lat           (segs) float64 80.2 80.2 80.2 80.2 ... 68.92 68.92 68.92 68.92\n",
      "    time          (segs) datetime64[ns] 2018-12-02T12:06:11 ... 2018-12-02T12:14:14\n",
      "    delta_time    (segs) float64 2.899e+07 2.899e+07 ... 2.899e+07 2.899e+07\n",
      "    lon360        (segs) float64 359.7 359.7 359.7 359.7 ... 194.7 194.7 194.7\n",
      "  * segs          (segs) int64 0 1 2 3 4 ... 227899 227900 227901 227902 227903\n",
      "Dimensions without coordinates: beam\n",
      "Data variables:\n",
      "    seg_dist      (segs, beam) float64 8.962e+06 8.962e+06 ... 1.238e+07\n",
      "    height        (segs, beam) float32 3.4028235e+38 3.4028235e+38 ... 0.5045312\n",
      "    mss           (segs, beam) float32 34.660027 34.660027 ... 0.5498047\n",
      "    seg_length    (segs, beam) float32 232.11157 232.11157 ... 133.80804\n",
      "    quality_flag  (segs, beam) int8 -1 -1 -1 -1 -1 -1 4 4 ... -1 -1 -1 -1 2 2 2\n",
      "    isita_lead    (segs, beam) int8 0 0 0 0 0 0 0 0 0 0 ... 0 0 0 0 0 0 0 0 0 0\n"
     ]
    }
   ],
   "source": [
    "# This now concatenates across all beams for a single file\n",
    "print(file)\n",
    "\n",
    "beams = ('gt1r','gt2r','gt3r')\n",
    "ds_all = None\n",
    "i=0\n",
    "for beam in beams:\n",
    "    ds = readintoxr.MakeDataSet(file, beam = 'gt1r')\n",
    "    if i==0:\n",
    "        ds_all = ds\n",
    "    else:\n",
    "        ds_all =xr.concat([ds, ds_all])\n",
    "    i = i+1\n",
    "    print(i,len(ds.segs))\n",
    "\n",
    "ds=None\n",
    "ds_all = ds_all.rename({'concat_dims':'beam'})\n",
    "    \n",
    "print(ds_all)"
   ]
  },
  {
   "cell_type": "code",
   "execution_count": 15,
   "metadata": {},
   "outputs": [
    {
     "name": "stdout",
     "output_type": "stream",
     "text": [
      "gt1r\n",
      "gt2r\n",
      "gt1r\n",
      "gt2r\n",
      "gt1r\n",
      "gt2r\n",
      "gt1r\n",
      "gt2r\n",
      "gt1r\n",
      "gt2r\n",
      "gt1r\n",
      "gt2r\n",
      "gt1r\n",
      "gt2r\n",
      "gt1r\n",
      "gt2r\n",
      "gt1r\n",
      "gt2r\n",
      "gt1r\n",
      "gt2r\n",
      "gt1r\n",
      "gt2r\n",
      "gt1r\n",
      "gt2r\n",
      "gt1r\n",
      "gt2r\n",
      "gt1r\n",
      "gt2r\n",
      "gt1r\n",
      "gt2r\n",
      "gt1r\n",
      "gt2r\n",
      "gt1r\n",
      "gt2r\n",
      "gt1r\n",
      "gt2r\n",
      "gt1r\n",
      "gt2r\n",
      "gt1r\n",
      "gt2r\n",
      "gt1r\n",
      "gt2r\n",
      "gt1r\n",
      "gt2r\n",
      "gt1r\n",
      "gt2r\n",
      "gt1r\n",
      "gt2r\n",
      "gt1r\n",
      "gt2r\n",
      "gt1r\n",
      "gt2r\n",
      "gt1r\n",
      "gt2r\n",
      "gt1r\n",
      "gt2r\n",
      "gt1r\n",
      "gt2r\n",
      "gt1r\n",
      "gt2r\n",
      "gt1r\n",
      "gt2r\n",
      "gt1r\n",
      "gt2r\n",
      "gt1r\n",
      "gt2r\n",
      "gt1r\n",
      "gt2r\n",
      "<xarray.Dataset>\n",
      "Dimensions:       (beam: 2, segs: 346966, track: 34)\n",
      "Coordinates:\n",
      "  * segs          (segs) int64 0 1 2 3 4 ... 346961 346962 346963 346964 346965\n",
      "    lon           (segs, track, beam) float64 -0.1179 -0.271 -162.4 ... nan nan\n",
      "    lat           (segs, track, beam) float64 80.22 80.2 63.49 ... nan nan nan\n",
      "    time          (segs, track, beam) datetime64[ns] 2018-12-02T12:06:12 ... NaT\n",
      "    delta_time    (segs, track, beam) float64 2.899e+07 2.899e+07 ... nan nan\n",
      "    lon360        (segs, track, beam) float64 359.9 359.7 197.6 ... nan nan nan\n",
      "  * track         (track) int64 0 1 2 3 4 5 6 7 8 ... 25 26 27 28 29 30 31 32 33\n",
      "  * beam          (beam) int64 0 1\n",
      "Data variables:\n",
      "    seg_dist      (segs, track, beam) float64 8.963e+06 8.962e+06 ... nan nan\n",
      "    height        (segs, track, beam) float32 3.4028235e+38 ... nan\n",
      "    mss           (segs, track, beam) float32 34.60631 34.660027 ... nan nan\n",
      "    seg_length    (segs, track, beam) float32 6519.2886 232.11157 ... nan nan\n",
      "    quality_flag  (segs, track, beam) float64 -1.0 -1.0 -1.0 ... nan nan nan\n",
      "    isita_lead    (segs, track, beam) float64 0.0 0.0 0.0 0.0 ... nan nan nan\n"
     ]
    }
   ],
   "source": [
    "# This concatenates across beams and files\n",
    "\n",
    "multiple_files = allfiles\n",
    "beams = ('gt1r','gt2r')\n",
    "num_beams = np.size(beams) # do not use len !\n",
    "num_files = np.size(multiple_files)\n",
    "ds_beams = None\n",
    "ds_all = None\n",
    "file = None\n",
    "beam = None\n",
    "\n",
    "if num_files>1:\n",
    "\n",
    "    ifile = 0\n",
    "    for file in multiple_files:\n",
    "        if num_beams>1:\n",
    "            ibeams=0\n",
    "            for beam in beams:\n",
    "                print(beam)\n",
    "                ds = readintoxr.MakeDataSet(file, beam)\n",
    "                if ibeams==0:\n",
    "                    ds_beams = ds\n",
    "                else:\n",
    "                    ds_beams =xr.concat([ds, ds_beams])\n",
    "\n",
    "                ibeams = ibeams+1\n",
    "            ds_beams = ds_beams.rename({'concat_dims':'beam'})\n",
    "        else:\n",
    "            ds_beams = readintoxr.MakeDataSet(file, beams)\n",
    "\n",
    "        if ifile==0:\n",
    "            ds_all = ds_beams\n",
    "        else:\n",
    "            ds_all =xr.concat([ds_beams, ds_all])\n",
    "        ifile=ifile+1\n",
    "        \n",
    "#    print(ds_all)\n",
    "    ds_all = ds_all.rename({'concat_dims':'track'})\n",
    "    ds_all.coords['track'] = xr.DataArray(np.arange(0,num_files,1),dims=['track'])\n",
    "    if num_beams > 1:\n",
    "        ds_all = ds_all.transpose('segs','track','beam')\n",
    "        ds_all.coords['beam'] = xr.DataArray(np.arange(0,num_beams,1),dims=['beam'])\n",
    "\n",
    "else:\n",
    "    # just one file\n",
    "        if num_beams>1:\n",
    "            ibeams=0\n",
    "            for beam in beams:\n",
    "                print(beam)\n",
    "                ds = readintoxr.MakeDataSet(multiple_files, beam)\n",
    "                if ibeams==0:\n",
    "                    ds_beams = ds\n",
    "                else:\n",
    "                    ds_beams =xr.concat([ds, ds_beams])\n",
    "\n",
    "                ibeams = ibeams+1\n",
    "            ds_all = ds_beams.rename({'concat_dims':'beam'})\n",
    "            ds_all.coords['beam'] = xr.DataArray(np.arange(0,num_beams,1),dims=['beam'])\n",
    "        else:\n",
    "            ds_all = readintoxr.MakeDataSet(multiple_files, beams)\n",
    "\n",
    "ds=None\n",
    "ds_beams = None\n",
    "print(ds_all)\n"
   ]
  },
  {
   "cell_type": "code",
   "execution_count": 81,
   "metadata": {},
   "outputs": [
    {
     "name": "stdout",
     "output_type": "stream",
     "text": [
      "<xarray.DataArray 'segs' (segs: 297393)>\n",
      "array([     0,      1,      2, ..., 297390, 297391, 297392])\n",
      "Coordinates:\n",
      "  * segs     (segs) int64 0 1 2 3 4 5 ... 297388 297389 297390 297391 297392\n",
      " ------\n",
      "[nan nan]\n",
      "<xarray.DataArray 'seg_length' (segs: 297393, beam: 2)>\n",
      "array([[9597.601 , 9597.601 ],\n",
      "       [4811.1396, 4811.1396],\n",
      "       [2438.1619, 2438.1619],\n",
      "       ...,\n",
      "       [      nan,       nan],\n",
      "       [      nan,       nan],\n",
      "       [      nan,       nan]], dtype=float32)\n",
      "Coordinates:\n",
      "  * segs        (segs) int64 0 1 2 3 4 5 ... 297388 297389 297390 297391 297392\n",
      "    lon         (segs) float64 161.0 161.0 161.0 161.0 161.0 ... nan nan nan nan\n",
      "    lat         (segs) float64 -64.6 -64.6 -64.6 -64.6 -64.6 ... nan nan nan nan\n",
      "    time        (segs) datetime64[ns] 2018-11-21T14:22:54 ... NaT\n",
      "    delta_time  (segs) float64 2.805e+07 2.805e+07 2.805e+07 ... nan nan nan\n",
      "    lon360      (segs) float64 161.0 161.0 161.0 161.0 161.0 ... nan nan nan nan\n",
      "Dimensions without coordinates: beam\n"
     ]
    }
   ],
   "source": [
    "print(ds_all.segs)\n",
    "print(' ------')\n",
    "print(ds_all.height[297390,2].values)\n",
    "print(ds_all.seg_length.isel(granule=0))"
   ]
  },
  {
   "cell_type": "code",
   "execution_count": 85,
   "metadata": {},
   "outputs": [
    {
     "data": {
      "text/plain": [
       "[<matplotlib.lines.Line2D at 0x7fabc2f837f0>,\n",
       " <matplotlib.lines.Line2D at 0x7fabc2a67908>,\n",
       " <matplotlib.lines.Line2D at 0x7fabc2a67ba8>]"
      ]
     },
     "execution_count": 85,
     "metadata": {},
     "output_type": "execute_result"
    },
    {
     "data": {
      "image/png": "[encoded data removed]",
      "text/plain": [
       "<Figure size 432x288 with 1 Axes>"
      ]
     },
     "metadata": {
      "needs_background": "light"
     },
     "output_type": "display_data"
    }
   ],
   "source": [
    "plt.plot(ds_all.segs,ds_all.seg_length.isel(beam=1))"
   ]
  },
  {
   "cell_type": "code",
   "execution_count": 83,
   "metadata": {},
   "outputs": [
    {
     "ename": "NameError",
     "evalue": "name 'ds1l' is not defined",
     "output_type": "error",
     "traceback": [
      "\u001b[0;31m---------------------------------------------------------------------------\u001b[0m",
      "\u001b[0;31mNameError\u001b[0m                                 Traceback (most recent call last)",
      "\u001b[0;32m<ipython-input-83-dd020fd08e04>\u001b[0m in \u001b[0;36m<module>\u001b[0;34m\u001b[0m\n\u001b[0;32m----> 1\u001b[0;31m \u001b[0mplt\u001b[0m\u001b[0;34m.\u001b[0m\u001b[0mplot\u001b[0m\u001b[0;34m(\u001b[0m\u001b[0mds1r\u001b[0m\u001b[0;34m.\u001b[0m\u001b[0mlon360\u001b[0m\u001b[0;34m,\u001b[0m\u001b[0mds1r\u001b[0m\u001b[0;34m.\u001b[0m\u001b[0mlat\u001b[0m\u001b[0;34m,\u001b[0m\u001b[0;34m'.'\u001b[0m\u001b[0;34m,\u001b[0m\u001b[0mds1l\u001b[0m\u001b[0;34m.\u001b[0m\u001b[0mlon360\u001b[0m\u001b[0;34m,\u001b[0m\u001b[0mds1l\u001b[0m\u001b[0;34m.\u001b[0m\u001b[0mlat\u001b[0m\u001b[0;34m,\u001b[0m\u001b[0;34m'.'\u001b[0m\u001b[0;34m)\u001b[0m\u001b[0;34m\u001b[0m\u001b[0;34m\u001b[0m\u001b[0m\n\u001b[0m",
      "\u001b[0;31mNameError\u001b[0m: name 'ds1l' is not defined"
     ]
    }
   ],
   "source": [
    "plt.plot(ds1r.lon360,ds1r.lat,'.',ds1l.lon360,ds1l.lat,'.')"
   ]
  },
  {
   "cell_type": "code",
   "execution_count": null,
   "metadata": {},
   "outputs": [],
   "source": [
    "plt.plot(ds1r.seg_dist,ds1r.mss,ds1l.seg_dist,ds1l.mss)"
   ]
  },
  {
   "cell_type": "code",
   "execution_count": null,
   "metadata": {},
   "outputs": [],
   "source": [
    "import numpy as np\n",
    "from numpy.lib.stride_tricks import as_strided\n",
    "\n",
    "def _check_arg(x, xname):\n",
    "    x = np.asarray(x)\n",
    "    if x.ndim != 1:\n",
    "        raise ValueError('%s must be one-dimensional.' % xname)\n",
    "    return x\n",
    "\n",
    "def autocorrelation(x, maxlag):\n",
    "    \"\"\"\n",
    "    Autocorrelation with a maximum number of lags.\n",
    "\n",
    "    `x` must be a one-dimensional numpy array.\n",
    "\n",
    "    This computes the same result as\n",
    "        numpy.correlate(x, x, mode='full')[len(x)-1:len(x)+maxlag]\n",
    "\n",
    "    The return value has length maxlag + 1.\n",
    "    \"\"\"\n",
    "    x = _check_arg(x, 'x')\n",
    "    p = np.pad(x.conj(), maxlag, mode='constant')\n",
    "    T = as_strided(p[maxlag:], shape=(maxlag+1, len(x) + maxlag),\n",
    "                   strides=(-p.strides[0], p.strides[0]))\n",
    "    return T.dot(p[maxlag:].conj())\n",
    "\n",
    "\n",
    "def crosscorrelation(x, y, maxlag):\n",
    "    \"\"\"\n",
    "    Cross correlation with a maximum number of lags.\n",
    "\n",
    "    `x` and `y` must be one-dimensional numpy arrays with the same length.\n",
    "\n",
    "    This computes the same result as\n",
    "        numpy.correlate(x, y, mode='full')[len(a)-maxlag-1:len(a)+maxlag]\n",
    "\n",
    "    The return vaue has length 2*maxlag + 1.\n",
    "    \"\"\"\n",
    "    x = _check_arg(x, 'x')\n",
    "    y = _check_arg(y, 'y')\n",
    "    py = np.pad(y.conj(), 2*maxlag, mode='constant')\n",
    "    T = as_strided(py[2*maxlag:], shape=(2*maxlag+1, len(y) + 2*maxlag),\n",
    "                   strides=(-py.strides[0], py.strides[0]))\n",
    "    px = np.pad(x, maxlag, mode='constant')\n",
    "    return T.dot(px)\n"
   ]
  },
  {
   "cell_type": "code",
   "execution_count": null,
   "metadata": {},
   "outputs": [],
   "source": [
    "plt.plot(ds1r.height) # oh there are clearly bad values\n",
    "plt.ylim([0.,20.])"
   ]
  },
  {
   "cell_type": "code",
   "execution_count": null,
   "metadata": {},
   "outputs": [],
   "source": [
    "igood = ds1r.height.values<20.0\n",
    "da_height_withnan = ds1r.height.where(igood)   # leaves nan where not true\n",
    "print(da_height_withnan) # notice the segs are same total #\n",
    "plt.plot(da_height_withnan)"
   ]
  },
  {
   "cell_type": "code",
   "execution_count": null,
   "metadata": {},
   "outputs": [],
   "source": [
    "da_height_nonan = ds1r.height[igood]         # eliminates where not true makes dataarray\n",
    "print(da_height_nonan) # notice there are fewer segs\n",
    "plt.plot(da_height_nonan)"
   ]
  },
  {
   "cell_type": "code",
   "execution_count": null,
   "metadata": {},
   "outputs": [],
   "source": [
    "acorr_itall = autocorrelation(da_height_nonan , 2000)\n",
    "acorrfirst2thirds = autocorrelation(da_height_nonan[0:220000] , 2000)\n",
    "acorrlastthird    = autocorrelation(da_height_nonan[220000:340000] , 2000)\n",
    "lags=np.arange(0,2001,1)"
   ]
  },
  {
   "cell_type": "code",
   "execution_count": null,
   "metadata": {},
   "outputs": [],
   "source": [
    "plt.plot(lags,acorr_itall/acorr_itall[0],'m',\n",
    "         lags,acorrfirst2thirds/acorrfirst2thirds[0],\n",
    "         lags,acorrlastthird/acorrlastthird[0],'r')\n",
    "plt.legend(('whole distance','first 2/3','last 1/3'))"
   ]
  },
  {
   "cell_type": "code",
   "execution_count": null,
   "metadata": {},
   "outputs": [],
   "source": [
    "plt.plot(ds1r.seg_dist[igood],ds1r.isita_lead[igood])"
   ]
  },
  {
   "cell_type": "code",
   "execution_count": null,
   "metadata": {},
   "outputs": [],
   "source": [
    "plt.plot(ds1r.seg_dist[igood],ds1r.seg_length[igood])"
   ]
  },
  {
   "cell_type": "code",
   "execution_count": null,
   "metadata": {},
   "outputs": [],
   "source": [
    "plt.plot(ds1r.delta_time[igood])"
   ]
  },
  {
   "cell_type": "code",
   "execution_count": null,
   "metadata": {},
   "outputs": [],
   "source": [
    "# Select variable of interest from the dataframe columns\n",
    "# choices are 'height' or 'seg_dist' or other variables in the dataset\n",
    "\n",
    "cvar='height'\n",
    "da = ds1r[cvar].where(ds1r.height<20)   # leaves nan where not true\n",
    "\n",
    "plt.figure(figsize=(7,7), dpi= 90)\n",
    "# Make a new projection \"NorthPolarStereo\"\n",
    "ax = plt.axes(projection=ccrs.NorthPolarStereo(true_scale_latitude=70))\n",
    "plt.scatter(ds1r.lon, ds1r.lat, c=da, cmap='viridis', transform=ccrs.PlateCarree(),vmin=0, vmax=1)\n",
    "#plt.pcolormesh(lons, lats, tile_to_plot,\n",
    "#               transform=ccrs.PlateCarree());\n",
    "\n",
    "ax.coastlines()\n",
    "#ax.drawmeridians()\n",
    "plt.colorbar(label=cvar, shrink=0.5, extend='both')\n",
    "\n",
    "# Limit the map to -60 degrees latitude and below.\n",
    "ax.set_extent([-180, 180, 90, 60], ccrs.PlateCarree())"
   ]
  },
  {
   "cell_type": "code",
   "execution_count": null,
   "metadata": {},
   "outputs": [],
   "source": [
    "# Select variable of interest from the dataframe columns\n",
    "# choices are 'height' or 'seg_dist'\n",
    "cvar='seg_length'\n",
    "da = ds1r[cvar]\n",
    "plt.figure(figsize=(7,7), dpi= 90)\n",
    "# Make a new projection \"NorthPolarStereo\"\n",
    "ax = plt.axes(projection=ccrs.NorthPolarStereo(true_scale_latitude=70))\n",
    "plt.scatter(ds1r.lon, ds1r.lat, c=da, cmap='viridis', transform=ccrs.PlateCarree(),vmin=0, vmax=2000)\n",
    "#plt.pcolormesh(lons, lats, tile_to_plot,\n",
    "#               transform=ccrs.PlateCarree());\n",
    "\n",
    "\n",
    "ax.coastlines()\n",
    "#ax.drawmeridians()\n",
    "plt.colorbar(label=cvar, shrink=0.5, extend='both')\n",
    "\n",
    "# Limit the map to -60 degrees latitude and below.\n",
    "ax.set_extent([-180, 180, 90, 60], ccrs.PlateCarree())\n",
    "\n",
    "\n",
    "\n",
    "f_out = os.path.join(fig_dir,ATL07file+'_seg_lengths.png')\n",
    "print(f_out)\n",
    "plt.savefig(f_out,bbox_inches='tight', dpi=200)\n"
   ]
  },
  {
   "cell_type": "code",
   "execution_count": null,
   "metadata": {},
   "outputs": [],
   "source": []
  },
  {
   "cell_type": "code",
   "execution_count": null,
   "metadata": {},
   "outputs": [],
   "source": [
    "# Get recent observations NH only\n",
    "ds_81 = xr.open_mfdataset(nrt_dir+'/*.nc', concat_dim='time', autoclose=True, parallel=True)\n",
    "cd = ds1r.time[0].values  # get the first time in our track\n",
    "cd = pd.to_datetime(cd).strftime('%Y-%m-%d') # convert time format to get rid of seconds\n",
    "print('Get the Obs on this date ',cd, '/n/n')\n",
    "# convert time format of obs to match\n",
    "ds_81['time'] = pd.to_datetime(ds_81.time.values).strftime('%Y-%m-%d') \n",
    "\n",
    "# select the SIC for the day of our track\n",
    "obs = ds_81.sic.sel(time=cd)\n",
    "print(obs)\n"
   ]
  },
  {
   "cell_type": "code",
   "execution_count": null,
   "metadata": {},
   "outputs": [],
   "source": [
    "cvar='height'\n",
    "\n",
    "cmap_c = matplotlib.colors.ListedColormap(sns.color_palette(\"Blues_r\", 10))\n",
    "cmap_c.set_bad(color = 'lightgrey')\n",
    "\n",
    "\n",
    "central_extent = [-3850000*0.6, 3725000*0.6, -5325000*0.45, 5850000*0.45] # (x0, x1, y0, y1\n",
    "(f, axes) = ice_plot.multi_polar_axis(ncols=2, nrows=1, Nplots=2, sizefcter=5, extent=central_extent, central_longitude=0)\n",
    "\n",
    "i=0\n",
    "obs_h = obs.plot.pcolormesh(ax=axes[i], x='lon', y='lat', \n",
    "                      transform=ccrs.PlateCarree(),\n",
    "                      add_colorbar=False,\n",
    "                      cmap=cmap_c,\n",
    "                      vmin=0, vmax=1)\n",
    "\n",
    "da = ds1r[cvar]\n",
    "\n",
    "track=axes[i].scatter(ds1r.lon, ds1r.lat, c=da, cmap='viridis', transform=ccrs.PlateCarree(),vmin=0, vmax=200)\n",
    "\n",
    "f.colorbar(track, label=cvar, shrink=0.5, extend='both')\n",
    "\n",
    "cbar_ax = f.add_axes([0.55, 0.325, 0.015, 0.35])\n",
    "cbar = f.colorbar(obs_h, cax=cbar_ax, label='Sea Ice Concentration', orientation='vertical')\n",
    "\n",
    "\n",
    "f_out = os.path.join(fig_dir,ATL07file+'_seg_lengths.png')\n",
    "print(f_out)\n",
    "plt.savefig(f_out,bbox_inches='tight', dpi=200)\n",
    "\n"
   ]
  },
  {
   "cell_type": "code",
   "execution_count": null,
   "metadata": {},
   "outputs": [],
   "source": []
  }
 ],
 "metadata": {
  "kernelspec": {
   "display_name": "Python 3",
   "language": "python",
   "name": "python3"
  },
  "language_info": {
   "codemirror_mode": {
    "name": "ipython",
    "version": 3
   },
   "file_extension": ".py",
   "mimetype": "text/x-python",
   "name": "python",
   "nbconvert_exporter": "python",
   "pygments_lexer": "ipython3",
   "version": "3.6.7"
  }
 },
 "nbformat": 4,
 "nbformat_minor": 2
}
