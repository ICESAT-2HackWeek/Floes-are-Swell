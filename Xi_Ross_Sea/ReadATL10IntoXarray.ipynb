{
 "cells": [
  {
   "cell_type": "markdown",
   "metadata": {},
   "source": [
    "# Example of a reader for xarray given the variables Chris H processed\n",
    "\n"
   ]
  },
  {
   "cell_type": "code",
   "execution_count": 13,
   "metadata": {},
   "outputs": [],
   "source": [
    "#Magic function to enable interactive plotting in Jupyter notebook\n",
    "#Allows you to zoom/pan within plots after generating\n",
    "#Normally, this would be %matplotlib notebook, but since we're using Juptyerlab, we need a different widget\n",
    "#%matplotlib notebook\n",
    "#%matplotlib inline"
   ]
  },
  {
   "cell_type": "code",
   "execution_count": 28,
   "metadata": {},
   "outputs": [],
   "source": [
    "import warnings\n",
    "warnings.filterwarnings('ignore')\n",
    "#Import necesary modules\n",
    "#Use shorter names (np, pd, plt) instead of full (numpy, pandas, matplotlib.pylot) for convenience\n",
    "import numpy as np\n",
    "import pandas as pd\n",
    "import matplotlib.pyplot as plt\n",
    "import cartopy.crs as ccrs\n",
    "import pandas as pd\n",
    "import numpy.ma as ma\n",
    "import h5py\n",
    "import s3fs\n",
    "import matplotlib.pyplot as plt\n",
    "import netCDF4\n",
    "import xarray as xr\n",
    "\n",
    "%matplotlib widget\n",
    "# Use seasborn for nicer looking inline plots if available \n",
    "#import seaborn as sns\n",
    "#sns.set(context='notebook', style='darkgrid')\n",
    "#st = axes_style(\"whitegrid\")\n"
   ]
  },
  {
   "cell_type": "markdown",
   "metadata": {},
   "source": [
    "#### Beam selection   \n",
    "There are 6 beams to choose from in the ICESat-2 products (3 pairs of a strong and weak beam). The energy ratio between the weak and strong beams are  approximately 1:4 and are separated by 90 m in the across-track direction. The beam pairs are separated by ~3.3 km in the across-track direction, and the strong and weak beams are separated by ~2.5 km in the along-track direction."
   ]
  },
  {
   "cell_type": "markdown",
   "metadata": {},
   "source": [
    "#### chose a file to read\n",
    "\n"
   ]
  },
  {
   "cell_type": "code",
   "execution_count": 29,
   "metadata": {},
   "outputs": [],
   "source": [
    "#download data from s3\n",
    "#!aws s3 sync s3://pangeo-data-upload-oregon/floez/ATL10 ./Data\n",
    "#!aws s3 sync s3://pangeo-data-upload-oregon/icesat2/Floes_are_Swell/ATL10-01_20181202120647_09910101_001_01.h5 ./Data"
   ]
  },
  {
   "cell_type": "code",
   "execution_count": 30,
   "metadata": {},
   "outputs": [],
   "source": [
    "#use files locally\n",
    "ATL10file='processed_ATL10-02_20181026024725_04200101_001_01.h5'\n",
    "# ATL07file='processed_ATL07-01_20181206115828_10520101_001_01.h5'\n",
    "localFilePath='/home/jovyan/Floes-are-Swell/Xi_Ross_Sea/Outputs/'+ATL10file\n"
   ]
  },
  {
   "cell_type": "code",
   "execution_count": 31,
   "metadata": {},
   "outputs": [],
   "source": [
    "def MakeDataSet(filename, beam='gt1r'):\n",
    "    ATL10 = h5py.File(localFilePath, 'r')\n",
    "\n",
    "    # coordinates, start their lives as data arrays\n",
    "    lons = xr.DataArray(ATL10[beam+'/freeboard_beam_segment/height_segments/longitude'][:],dims=['segs'])\n",
    "    lons.name='lons'\n",
    "    lats = xr.DataArray(ATL10[beam+'/freeboard_beam_segment/height_segments/latitude'][:],dims=['segs'])\n",
    "    lats.name='lats'\n",
    "    # add 360 to lons less than 0\n",
    "    lons360 = lons.where(lons.values>0, other=lons.values+360)\n",
    "\n",
    "    # this is the time hacked a bit since I am an idiot, it is within seconds\n",
    "    delta_time=ATL10[beam+'/freeboard_beam_segment/height_segments/delta_time'][:] \n",
    "    time = np.datetime64('2018-01-01') + (delta_time-86400*0.015).astype('timedelta64[s]' ) \n",
    "\n",
    "    # variables in datasets, start their lives as data arrays too\n",
    "    # give name to every variable you want to include in the data\n",
    "    height = xr.DataArray(ATL10[beam+'/freeboard_beam_segment/height_segments/height_segment_height'][:],dims=['segs'])\n",
    "    height.name = 'height'\n",
    "    \n",
    "    seg_length= xr.DataArray(ATL10[beam+'/freeboard_beam_segment/height_segments/height_segment_length_seg'][:],dims=['segs'])\n",
    "    seg_length.name = 'seg_length'\n",
    "    \n",
    "    isita_lead = xr.DataArray(ATL10[beam+'/freeboard_beam_segment/height_segments/height_segment_ssh_flag'][:],dims=['segs'])\n",
    "    isita_lead.name = 'isita_lead'\n",
    "    \n",
    "    #add more about freeboard from ATL10 that does not exist in ATL07\n",
    "    freeboard = xr.DataArray(ATL10[beam+'/freeboard_beam_segment/beam_freeboard/beam_fb_height'][:],dims=['segs']) \n",
    "    freeboard.name = 'freeboard'\n",
    "    \n",
    "    #add more about leads from ATL10 that does not exist in ATL07\n",
    "    lead_length = xr.DataArray(ATL10[beam+'/leads/lead_length'][:],dims=['lead'])\n",
    "    lead_length.name='lead_length'\n",
    "    \n",
    "    lead_lon = xr.DataArray(ATL10[beam+'/leads/longitude'][:],dims=['lead'])\n",
    "    lead_lon.name='lead_lon'\n",
    "    \n",
    "    lead_lat = xr.DataArray(ATL10[beam+'/leads/latitude'][:],dims=['lead'])\n",
    "    lead_lat.name='lead_lat'\n",
    "\n",
    "  \n",
    "        \n",
    "    # merging all datarrays (they have to have names)\n",
    "    ds=xr.merge([freeboard,seg_length,height,isita_lead,lead_length,lead_lon,lead_lat])\n",
    "    \n",
    "    # now we add more dataarrays \n",
    "    #ds['mss'] = mss\n",
    "    #ds['seg_length'] = seg_length\n",
    "    #ds['quality_flag'] = quality_flag\n",
    "    #ds['isita_lead'] = isita_lead\n",
    "\n",
    "    \n",
    "    ds.coords['lon'] = lons\n",
    "    ds.coords['lat'] = lats\n",
    "    ds.coords['time'] = xr.DataArray(time,dims=['segs'])\n",
    "    ds.coords['delta_time'] = xr.DataArray(delta_time,dims=['segs'])\n",
    "\n",
    "    ds.coords['lon360'] = lons360\n",
    "    ds.coords['segs'] = xr.DataArray(np.arange(0,len(height),1),dims=['segs'])\n",
    "    \n",
    "\n",
    "    print('\\n\\nTake a look at the dataset we made \\n')\n",
    "    print(ds)\n",
    "    \n",
    "\n",
    "    return ds\n"
   ]
  },
  {
   "cell_type": "code",
   "execution_count": 32,
   "metadata": {},
   "outputs": [
    {
     "name": "stdout",
     "output_type": "stream",
     "text": [
      "\n",
      "\n",
      "Take a look at the dataset we made \n",
      "\n",
      "<xarray.Dataset>\n",
      "Dimensions:      (lead: 25, segs: 1823)\n",
      "Coordinates:\n",
      "    lon          (segs) float64 173.7 173.7 173.7 173.7 ... 172.1 172.1 172.1\n",
      "    lat          (segs) float64 -77.35 -77.35 -77.35 ... -75.02 -75.02 -75.02\n",
      "    time         (segs) datetime64[ns] 2018-10-26T03:39:48 ... 2018-10-26T03:40:25\n",
      "    delta_time   (segs) float64 2.576e+07 2.576e+07 ... 2.576e+07 2.576e+07\n",
      "    lon360       (segs) float64 173.7 173.7 173.7 173.7 ... 172.1 172.1 172.1\n",
      "  * segs         (segs) int64 0 1 2 3 4 5 6 ... 1817 1818 1819 1820 1821 1822\n",
      "Dimensions without coordinates: lead\n",
      "Data variables:\n",
      "    freeboard    (segs) float32 3.4028235e+38 3.4028235e+38 ... 0.3436271\n",
      "    seg_length   (segs) float32 109.45984 69.17922 ... 66.78006 74.37235\n",
      "    height       (segs) float32 -0.11231539 -0.12112356 ... 0.39258882\n",
      "    isita_lead   (segs) int8 0 0 0 0 0 0 0 0 0 0 0 0 ... 0 0 0 0 0 0 0 0 0 0 0 0\n",
      "    lead_length  (lead) float32 40.118298 28.200863 ... 129.88344 33.76015\n",
      "    lead_lon     (lead) float64 172.2 172.2 172.2 172.2 ... 172.2 172.2 172.2\n",
      "    lead_lat     (lead) float64 -75.15 -75.14 -75.14 ... -75.05 -75.05 -75.03\n",
      "\n",
      "\n",
      "Take a look at the dataset we made \n",
      "\n",
      "<xarray.Dataset>\n",
      "Dimensions:      (lead: 10, segs: 1636)\n",
      "Coordinates:\n",
      "    lon          (segs) float64 173.7 173.7 173.7 173.7 ... 172.1 172.1 172.1\n",
      "    lat          (segs) float64 -77.3 -77.3 -77.3 -77.3 ... -75.02 -75.02 -75.02\n",
      "    time         (segs) datetime64[ns] 2018-10-26T03:39:48 ... 2018-10-26T03:40:25\n",
      "    delta_time   (segs) float64 2.576e+07 2.576e+07 ... 2.576e+07 2.576e+07\n",
      "    lon360       (segs) float64 173.7 173.7 173.7 173.7 ... 172.1 172.1 172.1\n",
      "  * segs         (segs) int64 0 1 2 3 4 5 6 ... 1630 1631 1632 1633 1634 1635\n",
      "Dimensions without coordinates: lead\n",
      "Data variables:\n",
      "    freeboard    (segs) float32 3.4028235e+38 3.4028235e+38 ... 0.35578495\n",
      "    seg_length   (segs) float32 543.0749 548.8871 ... 336.9848 356.66077\n",
      "    height       (segs) float32 0.11329279 0.15836191 ... 0.3226854 0.41742536\n",
      "    isita_lead   (segs) int8 0 0 0 0 0 0 0 0 0 0 0 0 ... 0 0 0 0 0 0 0 0 0 0 0 0\n",
      "    lead_length  (lead) float32 96.03487 128.33493 ... 113.700836 297.34528\n",
      "    lead_lon     (lead) float64 172.2 172.2 172.2 172.2 ... 172.2 172.2 172.2\n",
      "    lead_lat     (lead) float64 -75.15 -75.15 -75.15 ... -75.13 -75.13 -75.05\n"
     ]
    }
   ],
   "source": [
    "ds1r = MakeDataSet(localFilePath, beam = 'gt1r')\n",
    "ds1l = MakeDataSet(localFilePath, beam = 'gt1l')"
   ]
  },
  {
   "cell_type": "code",
   "execution_count": 35,
   "metadata": {},
   "outputs": [
    {
     "data": {
      "application/vnd.jupyter.widget-view+json": {
       "model_id": "",
       "version_major": 2,
       "version_minor": 0
      },
      "text/plain": [
       "FigureCanvasNbAgg()"
      ]
     },
     "metadata": {},
     "output_type": "display_data"
    }
   ],
   "source": [
    "#%matplotlib inline\n",
    "#plt.hist(ds1r.lead_length);\n",
    "%matplotlib widget\n",
    "plt.plot(ds1r.lat,ds1r.freeboard,'r-');\n",
    "plt.ylim(0,4);"
   ]
  },
  {
   "cell_type": "code",
   "execution_count": 36,
   "metadata": {},
   "outputs": [
    {
     "data": {
      "application/vnd.jupyter.widget-view+json": {
       "model_id": "d287f1467e0c4ba29dc32dcf1e57a77a",
       "version_major": 2,
       "version_minor": 0
      },
      "text/plain": [
       "FigureCanvasNbAgg()"
      ]
     },
     "metadata": {},
     "output_type": "display_data"
    }
   ],
   "source": [
    "# Select variable of interest from the dataframe columns\n",
    "# choices are 'height' or 'seg_dist' or other variables in the dataset\n",
    "%matplotlib widget\n",
    "cvar='freeboard'\n",
    "\n",
    "da = ds1r[cvar]\n",
    "plt.figure(figsize=(7,7), dpi= 90)\n",
    "# Make a new projection \"NorthPolarStereo\"\n",
    "ax = plt.axes(projection=ccrs.SouthPolarStereo(true_scale_latitude=70))\n",
    "plt.scatter(ds1r.lon, ds1r.lat, c=da, cmap='viridis', transform=ccrs.PlateCarree())\n",
    "#plt.pcolormesh(lons, lats, tile_to_plot,\n",
    "#               transform=ccrs.PlateCarree());\n",
    "\n",
    "ax.coastlines()\n",
    "#ax.drawmeridians()\n",
    "plt.colorbar(label=cvar, shrink=0.5, extend='both')\n",
    "\n",
    "# Limit the map to -60 degrees latitude and below.\n",
    "ax.set_extent([-180, 180, -60, -90], ccrs.PlateCarree())"
   ]
  },
  {
   "cell_type": "code",
   "execution_count": null,
   "metadata": {},
   "outputs": [],
   "source": []
  }
 ],
 "metadata": {
  "kernelspec": {
   "display_name": "Python 3",
   "language": "python",
   "name": "python3"
  },
  "language_info": {
   "codemirror_mode": {
    "name": "ipython",
    "version": 3
   },
   "file_extension": ".py",
   "mimetype": "text/x-python",
   "name": "python",
   "nbconvert_exporter": "python",
   "pygments_lexer": "ipython3",
   "version": "3.6.7"
  }
 },
 "nbformat": 4,
 "nbformat_minor": 2
}
