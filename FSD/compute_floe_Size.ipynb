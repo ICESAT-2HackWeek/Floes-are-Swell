{
 "cells": [
  {
   "cell_type": "code",
   "execution_count": 1,
   "metadata": {},
   "outputs": [],
   "source": [
    "import warnings\n",
    "warnings.filterwarnings('ignore')\n",
    "#Import necesary modules\n",
    "#Use shorter names (np, pd, plt) instead of full (numpy, pandas, matplotlib.pylot) for convenience\n",
    "import numpy as np\n",
    "import pandas as pd\n",
    "import matplotlib.pyplot as plt\n",
    "import cartopy.crs as ccrs\n",
    "import pandas as pd\n",
    "import numpy.ma as ma\n",
    "import h5py\n",
    "import s3fs\n",
    "import matplotlib.pyplot as plt\n",
    "import netCDF4\n",
    "import xarray as xr\n",
    "import load_in_beam\n",
    "\n",
    "# Use seasborn for nicer looking inline plots if available \n",
    "#import seaborn as sns\n",
    "#sns.set(context='notebook', style='darkgrid')\n",
    "#st = axes_style(\"whitegrid\")\n"
   ]
  },
  {
   "cell_type": "code",
   "execution_count": 2,
   "metadata": {},
   "outputs": [
    {
     "name": "stdout",
     "output_type": "stream",
     "text": [
      "/home/jovyan/Data/processed_ATL07-01_20181130235806_09680101_001_01.h5\n",
      "/home/jovyan/Data/processed_ATL07-01_20181130235806_09680101_001_01.h5\n",
      "\n",
      "\n",
      "Take a look at the dataset we made \n",
      "\n",
      "<xarray.Dataset>\n",
      "Dimensions:       (segs: 252561)\n",
      "Coordinates:\n",
      "    lon           (segs) float64 -171.2 -171.2 -171.2 ... 30.86 30.85 30.79\n",
      "    lat           (segs) float64 72.58 72.58 72.58 72.58 ... 83.2 83.2 83.18\n",
      "    time          (segs) datetime64[ns] 2018-11-30T23:55:29 ... 2018-12-01T00:01:45\n",
      "    delta_time    (segs) float64 2.886e+07 2.886e+07 ... 2.886e+07 2.886e+07\n",
      "    lon360        (segs) float64 188.8 188.8 188.8 188.8 ... 30.86 30.85 30.79\n",
      "  * segs          (segs) int64 0 1 2 3 4 ... 252556 252557 252558 252559 252560\n",
      "Data variables:\n",
      "    seg_dist      (segs) float64 8.099e+06 8.099e+06 ... 1.076e+07 1.077e+07\n",
      "    height        (segs) float32 3.4028235e+38 3.4028235e+38 ... 3.4028235e+38\n",
      "    mss           (segs) float32 -0.44165832 -0.44165832 ... 20.844654 20.875843\n",
      "    seg_length    (segs) float32 7221.287 3604.3594 ... 238.01256 5571.6777\n",
      "    quality_flag  (segs) int8 -1 -1 -1 -1 -1 -1 1 1 2 ... 1 -1 1 1 1 -1 -1 -1 -1\n",
      "    isita_lead    (segs) int8 0 0 0 0 0 0 0 0 0 0 0 0 ... 0 0 0 0 0 0 1 0 0 0 0\n"
     ]
    }
   ],
   "source": [
    "ATL07file='processed_ATL07-01_20181130235806_09680101_001_01.h5'\n",
    "# ATL07file='processed_ATL07-01_20181206115828_10520101_001_01.h5'\n",
    "localFilePath='/home/jovyan/Data/'+ATL07file\n",
    "\n",
    "print(localFilePath)\n",
    "\n",
    "ds1r = load_in_beam.read_beam(filename=localFilePath,beam='gt1r')"
   ]
  }
 ],
 "metadata": {
  "kernelspec": {
   "display_name": "Python 3",
   "language": "python",
   "name": "python3"
  },
  "language_info": {
   "codemirror_mode": {
    "name": "ipython",
    "version": 3
   },
   "file_extension": ".py",
   "mimetype": "text/x-python",
   "name": "python",
   "nbconvert_exporter": "python",
   "pygments_lexer": "ipython3",
   "version": "3.6.7"
  }
 },
 "nbformat": 4,
 "nbformat_minor": 2
}
