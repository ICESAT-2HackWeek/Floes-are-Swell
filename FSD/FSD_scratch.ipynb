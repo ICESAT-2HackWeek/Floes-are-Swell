{
 "cells": [
  {
   "cell_type": "code",
   "execution_count": 1,
   "metadata": {},
   "outputs": [],
   "source": [
    "import warnings\n",
    "warnings.filterwarnings('ignore')\n",
    "import numpy as np\n",
    "import matplotlib.pyplot as plt\n",
    "import matplotlib.pyplot as plt\n",
    "import xarray as xr\n",
    "import load_in_beam\n",
    "import FSDutil\n",
    "\n",
    "# Use seasborn for nicer looking inline plots if available \n",
    "#import seaborn as sns\n",
    "#sns.set(context='notebook', style='darkgrid')\n",
    "#st = axes_style(\"whitegrid\")\n"
   ]
  },
  {
   "cell_type": "code",
   "execution_count": 2,
   "metadata": {},
   "outputs": [
    {
     "name": "stdout",
     "output_type": "stream",
     "text": [
      "/home/jovyan/Data/processed_ATL07-01_20181121134031_08240101_001_01.h5\n",
      "/home/jovyan/Data/processed_ATL07-01_20181121134031_08240101_001_01.h5\n"
     ]
    }
   ],
   "source": [
    "ATL07file='processed_ATL07-01_20181121134031_08240101_001_01.h5'\n",
    "# ATL07file='processed_ATL07-01_20181206115828_10520101_001_01.h5'\n",
    "localFilePath='/home/jovyan/Data/'+ATL07file\n",
    "\n",
    "print(localFilePath)\n",
    "\n",
    "beam_xarr = load_in_beam.read_beam(filename=localFilePath,beam='gt1r')"
   ]
  },
  {
   "cell_type": "code",
   "execution_count": 73,
   "metadata": {},
   "outputs": [
    {
     "name": "stdout",
     "output_type": "stream",
     "text": [
      "[]\n",
      "original lengths: 346\n",
      "Num after removing bad and isolated \"floes\": 346\n"
     ]
    }
   ],
   "source": [
    "# This code is essentially FSDutil.get_CLD\n",
    "\n",
    "isita_floe = 1 - beam_xarr.isita_lead\n",
    "# print(len(q))\n",
    "\n",
    "isitgood = beam_xarr.quality_flag\n",
    "\n",
    "isitgood = np.concatenate([[0],isitgood])\n",
    "startvec = np.concatenate([[0],isita_floe])\n",
    "endvec = np.concatenate([isita_floe, [0]])\n",
    "\n",
    "up = (startvec[:-1]==0) & (startvec[1:]==1)\n",
    "down = (endvec[:-1]==1) & (endvec[1:]==0)        \n",
    "\n",
    "baddy = []\n",
    "for i in range(len(up)-1):\n",
    "    if (down[i]) & (up[i+1]):\n",
    "        baddy.append(i) \n",
    "        \n",
    "print(baddy)        \n",
    "        \n",
    "startind = np.concatenate(np.where(up==1))\n",
    "endind = np.concatenate(np.where(down==1))\n",
    "\n",
    "print('original lengths: ' + str(len(startind)))\n",
    "\n",
    "# Eliminate all isolated single ice measurements\n",
    "# These are all where up and down are on the same point\n",
    "same = np.intersect1d(startind,endind)\n",
    "\n",
    "# These are all those where there is one single measurement\n",
    "# but the quality of that measurement is high\n",
    "good_same = np.where(isitgood==1)\n",
    "\n",
    "same = np.setdiff1d(same,good_same)\n",
    "\n",
    "startind = np.setdiff1d(startind,same)\n",
    "endind = np.setdiff1d(endind,same)\n",
    "startind = startind - 1 # because we prepended a zero\n",
    "\n",
    "print('Num after removing bad and isolated \"floes\": ' + str(len(startind)))\n",
    "\n",
    "startx = beam_xarr.seg_dist[startind]\n",
    "\n",
    "startlat = beam_xarr.lat[startind]\n",
    "startlat = startlat.drop(('lon','time','delta_time','lon360','segs'))\n",
    "\n",
    "endlat = beam_xarr.lat[endind]\n",
    "endlat = endlat.drop(('lon','time','delta_time','lon360','segs'))\n",
    "chordlat = 0.5*(startlat+endlat)\n",
    "\n",
    "startlon = beam_xarr.lon[startind]\n",
    "startlon = startlon.drop(('lat','time','delta_time','lon360','segs'))\n",
    "\n",
    "endlon = beam_xarr.lon[endind]\n",
    "endlon = endlon.drop(('lat','time','delta_time','lon360','segs'))\n",
    "chordlon = 0.5*(startlon+endlon)\n",
    "\n",
    "startx = startx.drop(('lat','lon','time','delta_time','lon360','segs'))\n",
    "endx = beam_xarr.seg_dist[endind]\n",
    "endx = endx.drop(('lat','lon','time','delta_time','lon360','segs'))\n",
    "\n",
    "chord_lengths = endx - startx\n",
    "chord_lengths = chord_lengths[chord_lengths > 0]/1000\n",
    "\n",
    "# plt.plot(chord_lengths)"
   ]
  },
  {
   "cell_type": "code",
   "execution_count": null,
   "metadata": {},
   "outputs": [],
   "source": []
  }
 ],
 "metadata": {
  "kernelspec": {
   "display_name": "Python 3",
   "language": "python",
   "name": "python3"
  },
  "language_info": {
   "codemirror_mode": {
    "name": "ipython",
    "version": 3
   },
   "file_extension": ".py",
   "mimetype": "text/x-python",
   "name": "python",
   "nbconvert_exporter": "python",
   "pygments_lexer": "ipython3",
   "version": "3.6.7"
  }
 },
 "nbformat": 4,
 "nbformat_minor": 2
}
