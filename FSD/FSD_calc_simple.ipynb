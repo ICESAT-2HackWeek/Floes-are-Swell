{
 "cells": [
  {
   "cell_type": "code",
   "execution_count": 1,
   "metadata": {},
   "outputs": [],
   "source": [
    "import warnings\n",
    "warnings.filterwarnings('ignore')\n",
    "import numpy as np\n",
    "import matplotlib.pyplot as plt\n",
    "import matplotlib.pyplot as plt\n",
    "import xarray as xr\n",
    "import load_in_beam\n",
    "import FSDutil\n",
    "\n",
    "# Use seasborn for nicer looking inline plots if available \n",
    "#import seaborn as sns\n",
    "#sns.set(context='notebook', style='darkgrid')\n",
    "#st = axes_style(\"whitegrid\")\n"
   ]
  },
  {
   "cell_type": "code",
   "execution_count": 2,
   "metadata": {},
   "outputs": [
    {
     "name": "stdout",
     "output_type": "stream",
     "text": [
      "/home/jovyan/Data/processed_ATL07-01_20181121010613_08160101_001_01.h5\n"
     ]
    }
   ],
   "source": [
    "ATL07file='processed_ATL07-01_20181121010613_08160101_001_01.h5'\n",
    "# ATL07file='processed_ATL07-01_20181206115828_10520101_001_01.h5'\n",
    "localFilePath='/home/jovyan/Data/'+ATL07file\n",
    "\n",
    "ds1r = load_in_beam.read_beam(filename=localFilePath,beam='gt1r')"
   ]
  },
  {
   "cell_type": "code",
   "execution_count": 3,
   "metadata": {},
   "outputs": [
    {
     "name": "stdout",
     "output_type": "stream",
     "text": [
      "/home/jovyan/Data/processed_ATL07-01_20181121010613_08160101_001_01.h5\n",
      "746\n",
      "608\n",
      "/home/jovyan/Data/processed_ATL07-01_20181121010613_08160101_001_01.h5\n",
      "483\n",
      "426\n"
     ]
    }
   ],
   "source": [
    "namer = ['gt1r','gt2r'] # \n",
    "# weak beams are 'gt1l', 'gt2l', 'gt3l'\n",
    "# 'gt3r' is missing a field\n",
    "\n",
    "CLD = []\n",
    "LWD = []\n",
    "\n",
    "for beam_ind in range(len(namer)):\n",
    "\n",
    "    beam_data = load_in_beam.read_beam(filename=localFilePath,beam=namer[beam_ind]);\n",
    "    newCLD = FSDutil.get_CLD(beam_data)\n",
    "    newLWD = FSDutil.get_LWD(beam_data)\n",
    "    \n",
    "    CLD = np.concatenate([CLD,newCLD])\n",
    "    LWD = np.concatenate([LWD,newLWD])\n",
    "    "
   ]
  },
  {
   "cell_type": "code",
   "execution_count": 4,
   "metadata": {},
   "outputs": [
    {
     "data": {
      "text/plain": [
       "Text(0, 0.5, 'Number')"
      ]
     },
     "execution_count": 4,
     "metadata": {},
     "output_type": "execute_result"
    },
    {
     "data": {
      "image/png": "[encoded data removed]",
      "text/plain": [
       "<Figure size 432x288 with 1 Axes>"
      ]
     },
     "metadata": {
      "needs_background": "light"
     },
     "output_type": "display_data"
    }
   ],
   "source": [
    "\n",
    "xbuckets = np.logspace(1, 7, num=25, endpoint=True, base=10.0, dtype=None)\n",
    "hist,edges = np.histogram(CLD,xbuckets)\n",
    "\n",
    "plt.hist(CLD,bins=edges)\n",
    "plt.yscale('log')\n",
    "plt.xscale('log')\n",
    "plt.title('Chord Length Distribution: Number=' + str(len(CLD)))\n",
    "plt.xlabel('Length (m)')\n",
    "plt.ylabel('Number')"
   ]
  },
  {
   "cell_type": "code",
   "execution_count": 5,
   "metadata": {},
   "outputs": [
    {
     "data": {
      "text/plain": [
       "Text(0, 0.5, 'Number')"
      ]
     },
     "execution_count": 5,
     "metadata": {},
     "output_type": "execute_result"
    },
    {
     "data": {
      "image/png": "[encoded data removed]",
      "text/plain": [
       "<Figure size 432x288 with 1 Axes>"
      ]
     },
     "metadata": {
      "needs_background": "light"
     },
     "output_type": "display_data"
    }
   ],
   "source": [
    "plt.hist(LWD,bins=edges)\n",
    "plt.yscale('log')\n",
    "plt.xscale('log')\n",
    "plt.title('Lead Width Distribution: Number=' + str(len(LWD)))\n",
    "plt.xlabel('Length (m)')\n",
    "plt.ylabel('Number')"
   ]
  },
  {
   "cell_type": "code",
   "execution_count": null,
   "metadata": {},
   "outputs": [],
   "source": []
  }
 ],
 "metadata": {
  "kernelspec": {
   "display_name": "Python 3",
   "language": "python",
   "name": "python3"
  },
  "language_info": {
   "codemirror_mode": {
    "name": "ipython",
    "version": 3
   },
   "file_extension": ".py",
   "mimetype": "text/x-python",
   "name": "python",
   "nbconvert_exporter": "python",
   "pygments_lexer": "ipython3",
   "version": "3.6.7"
  }
 },
 "nbformat": 4,
 "nbformat_minor": 2
}
